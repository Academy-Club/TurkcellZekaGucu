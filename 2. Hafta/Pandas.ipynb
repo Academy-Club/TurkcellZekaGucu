{
 "cells": [
  {
   "cell_type": "code",
   "execution_count": 1,
   "metadata": {},
   "outputs": [
    {
     "name": "stdout",
     "output_type": "stream",
     "text": [
      "Empty DataFrame\n",
      "Columns: []\n",
      "Index: []\n"
     ]
    }
   ],
   "source": [
    "import pandas as pd\n",
    "\n",
    "df = pd.DataFrame()\n",
    "\n",
    "print(df)"
   ]
  },
  {
   "cell_type": "code",
   "execution_count": 2,
   "metadata": {},
   "outputs": [
    {
     "name": "stdout",
     "output_type": "stream",
     "text": [
      "    0   1   2\n",
      "0  a1  b1  c1\n",
      "1  a2  b2  c2\n",
      "2  a3  b3  c3\n"
     ]
    }
   ],
   "source": [
    "data = [['a1', 'b1', 'c1'],\n",
    "        ['a2', 'b2', 'c2'],\n",
    "        ['a3', 'b3', 'c3']]\n",
    "\n",
    "df = pd.DataFrame(data)\n",
    "print(df)"
   ]
  },
  {
   "cell_type": "code",
   "execution_count": 3,
   "metadata": {},
   "outputs": [
    {
     "name": "stdout",
     "output_type": "stream",
     "text": [
      "DataFrame boş mu? : True\n"
     ]
    }
   ],
   "source": [
    "df = pd.DataFrame()\n",
    "\n",
    "isempty = df.empty\n",
    "print('DataFrame boş mu? :', isempty)"
   ]
  },
  {
   "cell_type": "code",
   "execution_count": 4,
   "metadata": {},
   "outputs": [
    {
     "name": "stdout",
     "output_type": "stream",
     "text": [
      "DataFrame boş mu? : False\n"
     ]
    }
   ],
   "source": [
    "df = pd.DataFrame(\n",
    "\t[[21, 72, 67.1],\n",
    "\t[23, 78, 69.5],\n",
    "\t[32, 74, 56.6],\n",
    "\t[52, 54, 76.2]],\n",
    "\tcolumns=['a', 'b', 'c'])\n",
    "\n",
    "isempty = df.empty\n",
    "print('DataFrame boş mu? :', isempty)"
   ]
  },
  {
   "cell_type": "code",
   "execution_count": 5,
   "metadata": {},
   "outputs": [
    {
     "name": "stdout",
     "output_type": "stream",
     "text": [
      "  isimler  fizik  kimya  matematik\n",
      "0     Ali     68     84         78\n",
      "1   Ahmet     74     56         88\n",
      "2    Ayşe     77     73         82\n",
      "3   Fatma     78     69         87\n"
     ]
    }
   ],
   "source": [
    "import numpy as np\n",
    "import pandas as pd\n",
    "\n",
    "mydictionary = {'isimler': ['Ali', 'Ahmet', 'Ayşe', 'Fatma'],\n",
    "\t'fizik': [68, 74, 77, 78],\n",
    "\t'kimya': [84, 56, 73, 69],\n",
    "\t'matematik': [78, 88, 82, 87]}\n",
    "\n",
    "#sözlükten veri çerçevesi oluştur\n",
    "df_marks = pd.DataFrame(mydictionary)\n",
    "\n",
    "print(df_marks)"
   ]
  },
  {
   "cell_type": "code",
   "execution_count": 1,
   "metadata": {},
   "outputs": [
    {
     "name": "stdout",
     "output_type": "stream",
     "text": [
      "  isimler  ilgili_degerler\n",
      "0     Ali                1\n",
      "1   Ahmet                2\n",
      "2    Ayşe                3\n",
      "3   Fatma                4\n"
     ]
    }
   ],
   "source": [
    "import numpy as np\n",
    "import pandas as pd\n",
    "\n",
    "mydictionary = {'isimler': ['Ali', 'Ahmet', 'Ayşe', 'Fatma'], \n",
    "                'ilgili_degerler': [1, 2, 3, 4]}\n",
    "\n",
    "#sözlükten veri çerçevesi oluştur\n",
    "df_students = pd.DataFrame(mydictionary)\n",
    "\n",
    "print(df_students)"
   ]
  },
  {
   "cell_type": "code",
   "execution_count": 2,
   "metadata": {},
   "outputs": [
    {
     "name": "stdout",
     "output_type": "stream",
     "text": [
      "   name  physics  chemistry  algebra\n",
      "0  Somu       68         84       78\n",
      "1  Kiku       74         56       88\n",
      "2  Amol       77         73       82\n",
      "3  Lini       78         69       87\n"
     ]
    }
   ],
   "source": [
    "import pandas as pd\n",
    "\n",
    "#csv'den veri çerçevesi oku\n",
    "df = pd.read_csv(\"data.csv\")\n",
    "\n",
    "#veri çerçevesini yazdır\n",
    "print(df)"
   ]
  },
  {
   "cell_type": "code",
   "execution_count": 3,
   "metadata": {},
   "outputs": [
    {
     "name": "stdout",
     "output_type": "stream",
     "text": [
      "   name  physics  chemistry  algebra\n",
      "0  Somu       68         84       78\n",
      "1  Kiku       74         56       88\n",
      "2  Amol       77         73       82\n",
      "3  Lini       78         69       87\n"
     ]
    }
   ],
   "source": [
    "import pandas as pd\n",
    "\t\n",
    "#csv'den veri çerçevesi oku\n",
    "df = pd.read_csv('data2.csv', delimiter=' ')\n",
    "\n",
    "#veri çerçevesini yazdır\n",
    "print(df)"
   ]
  },
  {
   "cell_type": "code",
   "execution_count": null,
   "metadata": {},
   "outputs": [],
   "source": [
    "# header parametresini belirterek çağırma\n",
    "# df = pd.read_csv('....csv', header=None)\n",
    "\n",
    "# names parametresini belirterek çağırma\n",
    "# df1 = pd.read_csv('....csv', names=list_of_column_names)\n",
    "\n",
    "# read_csv fonksiyonunu diğer özellikleri için\n",
    "# https://pandas.pydata.org/pandas-docs/stable/reference/api/pandas.read_csv.html"
   ]
  },
  {
   "cell_type": "code",
   "execution_count": 7,
   "metadata": {},
   "outputs": [
    {
     "name": "stdout",
     "output_type": "stream",
     "text": [
      "Veri Çerçevesi :\n",
      "     a   b     c\n",
      "0  21  72  67.1\n",
      "1  23  78  69.5\n",
      "2  32  74  56.6\n",
      "3  52  54  76.2\n",
      "\n",
      "Veri Çerçevesi Boyutu  : (4, 3)\n",
      "\n",
      "Satır Sayısı : 4\n",
      "\n",
      "Sütun Sayısı : 3\n"
     ]
    }
   ],
   "source": [
    "import pandas as pd\n",
    "import numpy as np\n",
    "\n",
    "#Veri Çerçevesi Oluştur\n",
    "df = pd.DataFrame(\n",
    "\t[[21, 72, 67.1],\n",
    "\t[23, 78, 69.5],\n",
    "\t[32, 74, 56.6],\n",
    "\t[52, 54, 76.2]],\n",
    "\tcolumns=['a', 'b', 'c'])\n",
    "\n",
    "print('Veri Çerçevesi :\\n', df)\n",
    "\n",
    "# Veri Çerçevesinin şekil/boyut (shape) bilgisini al\n",
    "shape = df.shape\n",
    "print('\\nVeri Çerçevesi Boyutu  :', shape)\n",
    "print('\\nSatır Sayısı :', shape[0])\n",
    "print('\\nSütun Sayısı :', shape[1])"
   ]
  },
  {
   "cell_type": "code",
   "execution_count": 8,
   "metadata": {},
   "outputs": [
    {
     "name": "stdout",
     "output_type": "stream",
     "text": [
      "Veri Çerçevesi :\n",
      " Empty DataFrame\n",
      "Columns: []\n",
      "Index: []\n",
      "\n",
      "Veri Çerçevesi Boyutu  : (0, 0)\n",
      "\n",
      "Satır Sayısı : 0\n",
      "\n",
      "Sütun Sayısı : 0\n"
     ]
    }
   ],
   "source": [
    "import pandas as pd\n",
    "import numpy as np\n",
    "\n",
    "#Boş Veri Çerçevesi Oluştur\n",
    "df = pd.DataFrame()\n",
    "\n",
    "print('Veri Çerçevesi :\\n', df)\n",
    "\n",
    "# Veri Çerçevesinin şekil/boyut (shape) bilgisini al\n",
    "shape = df.shape\n",
    "print('\\nVeri Çerçevesi Boyutu  :', shape)\n",
    "print('\\nSatır Sayısı :', shape[0])\n",
    "print('\\nSütun Sayısı :', shape[1])"
   ]
  },
  {
   "cell_type": "code",
   "execution_count": 9,
   "metadata": {},
   "outputs": [
    {
     "name": "stdout",
     "output_type": "stream",
     "text": [
      "df_1\n",
      "------\n",
      "      isim  fizik  kimya  matematik  sosyoloji\n",
      "0     Ali     68     84         78         96\n",
      "1   Ahmet     74     56         88         85\n",
      "2  Mehmet     77     73         82         87\n",
      "\n",
      "df_2\n",
      "------\n",
      "     isim  fizik  kimya  matematik  sosyoloji\n",
      "0   Ayşe     72     67         91         83\n",
      "1  Fatma     78     69         87         92\n",
      "\n",
      "df\n",
      "--------\n",
      "      isim  fizik  kimya  matematik  sosyoloji\n",
      "0     Ali     68     84         78         96\n",
      "1   Ahmet     74     56         88         85\n",
      "2  Mehmet     77     73         82         87\n",
      "0    Ayşe     72     67         91         83\n",
      "1   Fatma     78     69         87         92\n"
     ]
    }
   ],
   "source": [
    "import pandas as pd\n",
    "\n",
    "# Sütunları Aynı Olan Veri Çerçevelerinin Birleştirilmesi\n",
    "\t\n",
    "df_1 = pd.DataFrame(\n",
    "\t[['Ali', 68, 84, 78, 96],\n",
    "\t['Ahmet', 74, 56, 88, 85],\n",
    "\t['Mehmet', 77, 73, 82, 87]],\n",
    "\tcolumns=['isim', 'fizik', 'kimya','matematik','sosyoloji'])\n",
    "\n",
    "df_2 = pd.DataFrame(\n",
    "\t[['Ayşe', 72, 67, 91, 83],\n",
    "\t['Fatma', 78, 69, 87, 92]],\n",
    "\tcolumns=['isim', 'fizik', 'kimya','matematik','sosyoloji'])\t\n",
    "\n",
    "frames = [df_1, df_2]\n",
    "\n",
    "# veri çerçevelerini uç uca ekle\n",
    "df = pd.concat(frames, sort=False)\n",
    "\n",
    "# veri çerçevesini yazdır\n",
    "print(\"df_1\\n------\\n\",df_1)\n",
    "print(\"\\ndf_2\\n------\\n\",df_2)\n",
    "print(\"\\ndf\\n--------\\n\",df)\n"
   ]
  },
  {
   "cell_type": "code",
   "execution_count": 10,
   "metadata": {},
   "outputs": [
    {
     "name": "stdout",
     "output_type": "stream",
     "text": [
      "df_1\n",
      "------\n",
      "      isim  fizik  kimya  matematik  sosyoloji\n",
      "0     Ali     68     84         78         96\n",
      "1   Ahmet     74     56         88         85\n",
      "2  Mehmet     77     73         82         87\n",
      "\n",
      "df_2\n",
      "------\n",
      "     isim  fizik  kimya  matematik  sosyoloji\n",
      "0   Ayşe     72     67         91         83\n",
      "1  Fatma     78     69         87         92\n",
      "\n",
      "df\n",
      "--------\n",
      "      isim  fizik  kimya  matematik  sosyoloji\n",
      "0     Ali     68     84         78         96\n",
      "1   Ahmet     74     56         88         85\n",
      "2  Mehmet     77     73         82         87\n",
      "3    Ayşe     72     67         91         83\n",
      "4   Fatma     78     69         87         92\n"
     ]
    }
   ],
   "source": [
    "import pandas as pd\n",
    "\n",
    "# Sütunları Aynı Olan Veri Çerçevelerinin Birleştirilmesi\n",
    "\t\n",
    "df_1 = pd.DataFrame(\n",
    "\t[['Ali', 68, 84, 78, 96],\n",
    "\t['Ahmet', 74, 56, 88, 85],\n",
    "\t['Mehmet', 77, 73, 82, 87]],\n",
    "\tcolumns=['isim', 'fizik', 'kimya','matematik','sosyoloji'])\n",
    "\n",
    "df_2 = pd.DataFrame(\n",
    "\t[['Ayşe', 72, 67, 91, 83],\n",
    "\t['Fatma', 78, 69, 87, 92]],\n",
    "\tcolumns=['isim', 'fizik', 'kimya','matematik','sosyoloji'])\t\n",
    "\n",
    "frames = [df_1, df_2]\n",
    "\n",
    "# veri çerçevelerini uç uca ekle\n",
    "df = pd.concat(frames)\n",
    "\n",
    "# indeks'leri reset'le\n",
    "df.reset_index(drop=True, inplace=True)\n",
    "\n",
    "# veri çerçevesini yazdır\n",
    "print(\"df_1\\n------\\n\",df_1)\n",
    "print(\"\\ndf_2\\n------\\n\",df_2)\n",
    "print(\"\\ndf\\n--------\\n\",df)"
   ]
  },
  {
   "cell_type": "code",
   "execution_count": 11,
   "metadata": {},
   "outputs": [
    {
     "name": "stdout",
     "output_type": "stream",
     "text": [
      "df_1\n",
      "------\n",
      "      isim  fizik  kimya  matematik  sosyoloji\n",
      "0     Ali     68     84         78         96\n",
      "1   Ahmet     74     56         88         85\n",
      "2  Mehmet     77     73         82         87\n",
      "\n",
      "df_2\n",
      "------\n",
      "     isim  fizik  kimya  tarih  sosyoloji\n",
      "0   Ayşe     72     67     91         83\n",
      "1  Fatma     78     69     87         92\n",
      "\n",
      "df\n",
      "--------\n",
      "      isim  fizik  kimya  matematik  sosyoloji  tarih\n",
      "0     Ali     68     84       78.0         96    NaN\n",
      "1   Ahmet     74     56       88.0         85    NaN\n",
      "2  Mehmet     77     73       82.0         87    NaN\n",
      "0    Ayşe     72     67        NaN         83   91.0\n",
      "1   Fatma     78     69        NaN         92   87.0\n"
     ]
    }
   ],
   "source": [
    "import pandas as pd\n",
    "\n",
    "# Sütunları Farklı Olan Veri Çerçevelerinin Birleştirilmesi\n",
    "\t\n",
    "df_1 = pd.DataFrame(\n",
    "\t[['Ali', 68, 84, 78, 96],\n",
    "\t['Ahmet', 74, 56, 88, 85],\n",
    "\t['Mehmet', 77, 73, 82, 87]],\n",
    "\tcolumns=['isim', 'fizik', 'kimya','matematik','sosyoloji'])\n",
    "\n",
    "df_2 = pd.DataFrame(\n",
    "\t[['Ayşe', 72, 67, 91, 83],\n",
    "\t['Fatma', 78, 69, 87, 92]],\n",
    "\tcolumns=['isim', 'fizik', 'kimya','tarih','sosyoloji'])\t\n",
    "\n",
    "frames = [df_1, df_2]\n",
    "\n",
    "# veri çerçevelerini uç uca ekle\n",
    "df = pd.concat(frames, sort=False)\n",
    "\n",
    "# veri çerçevesini yazdır\n",
    "print(\"df_1\\n------\\n\",df_1)\n",
    "print(\"\\ndf_2\\n------\\n\",df_2)\n",
    "print(\"\\ndf\\n--------\\n\",df)"
   ]
  },
  {
   "cell_type": "code",
   "execution_count": 12,
   "metadata": {},
   "outputs": [
    {
     "name": "stdout",
     "output_type": "stream",
     "text": [
      "df_1\n",
      "------\n",
      "      isim  fizik  kimya  matematik  sosyoloji\n",
      "0     Ali     68     84         78         96\n",
      "1   Ahmet     74     56         88         85\n",
      "2  Mehmet     77     73         82         87\n",
      "\n",
      "df_2\n",
      "------\n",
      "     isim  fizik  kimya  tarih  sosyoloji\n",
      "0   Ayşe     72     67     91         83\n",
      "1  Fatma     78     69     87         92\n",
      "\n",
      "df\n",
      "--------\n",
      "      isim  fizik  kimya  matematik  sosyoloji  tarih\n",
      "0     Ali     68     84       78.0         96    NaN\n",
      "1   Ahmet     74     56       88.0         85    NaN\n",
      "2  Mehmet     77     73       82.0         87    NaN\n",
      "0    Ayşe     72     67        NaN         83   91.0\n",
      "1   Fatma     78     69        NaN         92   87.0\n"
     ]
    }
   ],
   "source": [
    "import pandas as pd\n",
    "\n",
    "# Sütunları Farklı Olan Veri Çerçevelerinin Birleştirilmesi\n",
    "\t\n",
    "df_1 = pd.DataFrame(\n",
    "\t[['Ali', 68, 84, 78, 96],\n",
    "\t['Ahmet', 74, 56, 88, 85],\n",
    "\t['Mehmet', 77, 73, 82, 87]],\n",
    "\tcolumns=['isim', 'fizik', 'kimya','matematik','sosyoloji'])\n",
    "\n",
    "df_2 = pd.DataFrame(\n",
    "\t[['Ayşe', 72, 67, 91, 83],\n",
    "\t['Fatma', 78, 69, 87, 92]],\n",
    "\tcolumns=['isim', 'fizik', 'kimya','tarih','sosyoloji'])\t\n",
    "\n",
    "frames = [df_1, df_2]\n",
    "\n",
    "# veri çerçevelerini uç uca ekle\n",
    "df = pd.concat(frames, sort=False)\n",
    "\n",
    "# veri çerçevesini yazdır\n",
    "print(\"df_1\\n------\\n\",df_1)\n",
    "print(\"\\ndf_2\\n------\\n\",df_2)\n",
    "print(\"\\ndf\\n--------\\n\",df)"
   ]
  },
  {
   "cell_type": "code",
   "execution_count": 13,
   "metadata": {},
   "outputs": [
    {
     "name": "stdout",
     "output_type": "stream",
     "text": [
      "df_1\n",
      "------\n",
      "      isim  fizik  kimya  matematik  sosyoloji\n",
      "0     Ali     68     84         78         96\n",
      "1   Ahmet     74     56         88         85\n",
      "2  Mehmet     77     73         82         87\n",
      "\n",
      "df_2\n",
      "------\n",
      "     isim  fizik  kimya  matematik  sosyoloji\n",
      "0   Ayşe     72     67         91         83\n",
      "1  Fatma     78     69         87         92\n",
      "\n",
      "df\n",
      "--------\n",
      "      isim  fizik  kimya  matematik  sosyoloji\n",
      "0     Ali     68     84         78         96\n",
      "1   Ahmet     74     56         88         85\n",
      "2  Mehmet     77     73         82         87\n",
      "3    Ayşe     72     67         91         83\n",
      "4   Fatma     78     69         87         92\n"
     ]
    }
   ],
   "source": [
    "import pandas as pd\n",
    "\n",
    "# Veri Çerçevesinin Ucuna Ekleme Yapma \n",
    "\t\n",
    "df_1 = pd.DataFrame(\n",
    "\t[['Ali', 68, 84, 78, 96],\n",
    "\t['Ahmet', 74, 56, 88, 85],\n",
    "\t['Mehmet', 77, 73, 82, 87]],\n",
    "\tcolumns=['isim', 'fizik', 'kimya','matematik','sosyoloji'])\n",
    "\n",
    "df_2 = pd.DataFrame(\n",
    "\t[['Ayşe', 72, 67, 91, 83],\n",
    "\t['Fatma', 78, 69, 87, 92]],\n",
    "\tcolumns=['isim', 'fizik', 'kimya','matematik','sosyoloji'])\t\n",
    "\n",
    "frames = [df_1, df_2]\n",
    "\n",
    "# veri çerçevelerini uç uca ekle (ignore_index=True)\n",
    "df = df_1.append(df_2, ignore_index=True)\n",
    "\n",
    "# veri çerçevesini yazdır\n",
    "print(\"df_1\\n------\\n\",df_1)\n",
    "print(\"\\ndf_2\\n------\\n\",df_2)\n",
    "print(\"\\ndf\\n--------\\n\",df)"
   ]
  },
  {
   "cell_type": "code",
   "execution_count": 14,
   "metadata": {},
   "outputs": [
    {
     "name": "stdout",
     "output_type": "stream",
     "text": [
      "df_1\n",
      "------\n",
      "      isim  fizik  kimya  matematik  sosyoloji\n",
      "0     Ali     68     84         78         96\n",
      "1   Ahmet     74     56         88         85\n",
      "2  Mehmet     77     73         82         87\n",
      "\n",
      "df_2\n",
      "------\n",
      "     isim  fizik  kimya  matematik  sosyoloji\n",
      "0   Ayşe     72     67         91         83\n",
      "1  Fatma     78     69         87         92\n",
      "\n",
      "df\n",
      "--------\n",
      "      isim  fizik  kimya  matematik  sosyoloji\n",
      "0     Ali     68     84         78         96\n",
      "1   Ahmet     74     56         88         85\n",
      "2  Mehmet     77     73         82         87\n",
      "0    Ayşe     72     67         91         83\n",
      "1   Fatma     78     69         87         92\n"
     ]
    }
   ],
   "source": [
    "import pandas as pd\n",
    "\n",
    "# Veri Çerçevesinin Ucuna Ekleme Yapma \n",
    "\t\n",
    "df_1 = pd.DataFrame(\n",
    "\t[['Ali', 68, 84, 78, 96],\n",
    "\t['Ahmet', 74, 56, 88, 85],\n",
    "\t['Mehmet', 77, 73, 82, 87]],\n",
    "\tcolumns=['isim', 'fizik', 'kimya','matematik','sosyoloji'])\n",
    "\n",
    "df_2 = pd.DataFrame(\n",
    "\t[['Ayşe', 72, 67, 91, 83],\n",
    "\t['Fatma', 78, 69, 87, 92]],\n",
    "\tcolumns=['isim', 'fizik', 'kimya','matematik','sosyoloji'])\t\n",
    "\n",
    "frames = [df_1, df_2]\n",
    "\n",
    "# veri çerçevelerini uç uca ekle (ignore_index=False)\n",
    "df = df_1.append(df_2, ignore_index=False)\n",
    "\n",
    "# veri çerçevesini yazdır\n",
    "print(\"df_1\\n------\\n\",df_1)\n",
    "print(\"\\ndf_2\\n------\\n\",df_2)\n",
    "print(\"\\ndf\\n--------\\n\",df)\n"
   ]
  },
  {
   "cell_type": "code",
   "execution_count": 7,
   "metadata": {},
   "outputs": [
    {
     "name": "stdout",
     "output_type": "stream",
     "text": [
      "df_1\n",
      "------\n",
      "      isim  fizik  kimya  matematik  sosyoloji\n",
      "0     Ali     68     84         78         96\n",
      "1   Ahmet     74     56         88         85\n",
      "2  Mehmet     77     73         82         87\n",
      "\n",
      "df_2\n",
      "------\n",
      "     isim  fizik  kimya  tarih  sosyoloji\n",
      "0   Ayşe     72     67     91         83\n",
      "1  Fatma     78     69     87         92\n",
      "\n",
      "df\n",
      "--------\n",
      "      isim  fizik  kimya  matematik  sosyoloji  tarih\n",
      "0     Ali     68     84       78.0         96    NaN\n",
      "1   Ahmet     74     56       88.0         85    NaN\n",
      "2  Mehmet     77     73       82.0         87    NaN\n",
      "3    Ayşe     72     67        NaN         83   91.0\n",
      "4   Fatma     78     69        NaN         92   87.0\n"
     ]
    }
   ],
   "source": [
    "import pandas as pd\n",
    "\n",
    "# Sütunları Farklı Olan Veri Çerçevelerinin Uç Uca Eklenmesi\n",
    "\t\n",
    "df_1 = pd.DataFrame(\n",
    "\t[['Ali', 68, 84, 78, 96],\n",
    "\t['Ahmet', 74, 56, 88, 85],\n",
    "\t['Mehmet', 77, 73, 82, 87]],\n",
    "\tcolumns=['isim', 'fizik', 'kimya','matematik','sosyoloji'])\n",
    "\n",
    "df_2 = pd.DataFrame(\n",
    "\t[['Ayşe', 72, 67, 91, 83],\n",
    "\t['Fatma', 78, 69, 87, 92]],\n",
    "\tcolumns=['isim', 'fizik', 'kimya','tarih','sosyoloji'])\t\n",
    "\n",
    "frames = [df_1, df_2]\n",
    "\n",
    "# veri çerçevelerini uç uca ekle (ignore_index ve sort değerlerine dikkat)\n",
    "df = df_1.append(df_2, ignore_index=True, sort=False)\n",
    "\n",
    "# veri çerçevesini yazdır\n",
    "print(\"df_1\\n------\\n\",df_1)\n",
    "print(\"\\ndf_2\\n------\\n\",df_2)\n",
    "print(\"\\ndf\\n--------\\n\",df)"
   ]
  },
  {
   "cell_type": "code",
   "execution_count": 16,
   "metadata": {},
   "outputs": [
    {
     "name": "stdout",
     "output_type": "stream",
     "text": [
      "    a   b   c\n",
      "0  21  72  67\n",
      "1  23  78  62\n",
      "2  32  74  56\n",
      "3  73  88  67\n",
      "4  32  74  56\n",
      "5  43  78  69\n",
      "6  32  74  54\n",
      "7  52  54  76\n",
      "\n",
      "______________\n",
      "\n",
      "    a   b   c\n",
      "3  73  88  67\n",
      "7  52  54  76\n"
     ]
    }
   ],
   "source": [
    "import pandas as pd\n",
    "\n",
    "# Veri Çerçevesi Oluştur\n",
    "df = pd.DataFrame(\n",
    "\t[[21, 72, 67],\n",
    "\t[23, 78, 62],\n",
    "\t[32, 74, 56],\n",
    "\t[73, 88, 67],\n",
    "\t[32, 74, 56],\n",
    "\t[43, 78, 69],\n",
    "\t[32, 74, 54],\n",
    "\t[52, 54, 76]],\n",
    "\tcolumns=['a', 'b', 'c'])\n",
    "\n",
    "# Veri Çerçevesini Yazdır\n",
    "print(df)\n",
    "\n",
    "print('\\n______________\\n')\n",
    "# Bir Sütunda Sorgu Yap\n",
    "df1 = df.query('a>50')\n",
    "\n",
    "# Veri Çerçevesini Yazdır\n",
    "print(df1)"
   ]
  },
  {
   "cell_type": "code",
   "execution_count": 17,
   "metadata": {},
   "outputs": [
    {
     "name": "stdout",
     "output_type": "stream",
     "text": [
      "    a   b   c\n",
      "0  21  72  67\n",
      "1  23  78  62\n",
      "2  32  74  56\n",
      "3  73  88  67\n",
      "4  32  74  56\n",
      "5  43  78  69\n",
      "6  32  74  54\n",
      "7  52  54  76\n",
      "\n",
      "______________\n",
      "\n",
      "    a   b   c\n",
      "7  52  54  76\n"
     ]
    }
   ],
   "source": [
    "import pandas as pd\n",
    "\n",
    "# Veri Çerçevesi Oluştur\n",
    "df = pd.DataFrame(\n",
    "\t[[21, 72, 67],\n",
    "\t[23, 78, 62],\n",
    "\t[32, 74, 56],\n",
    "\t[73, 88, 67],\n",
    "\t[32, 74, 56],\n",
    "\t[43, 78, 69],\n",
    "\t[32, 74, 54],\n",
    "\t[52, 54, 76]],\n",
    "\tcolumns=['a', 'b', 'c'])\n",
    "\n",
    "# Veri Çerçevesini Yazdır\n",
    "print(df)\n",
    "\n",
    "print('\\n______________\\n')\n",
    "# İki Sütunda Sorgu Yap\n",
    "df1 = df.query('a>50 and c>70')\n",
    "\n",
    "# Veri Çerçevesini Yazdır\n",
    "print(df1)"
   ]
  },
  {
   "cell_type": "code",
   "execution_count": 18,
   "metadata": {},
   "outputs": [
    {
     "name": "stdout",
     "output_type": "stream",
     "text": [
      "    a   b   c\n",
      "0  21  72  67\n",
      "1  23  78  62\n",
      "2  32  74  56\n",
      "3  73  88  67\n",
      "4  32  74  56\n",
      "5  43  78  69\n",
      "6  32  74  54\n",
      "7  52  54  76\n",
      "\n",
      "______________\n",
      "\n",
      "    a   b   c\n",
      "3  73  88  67\n",
      "7  52  54  76\n"
     ]
    }
   ],
   "source": [
    "\n",
    "import pandas as pd\n",
    "\n",
    "# Veri Çerçevesi Oluştur\n",
    "df = pd.DataFrame(\n",
    "\t[[21, 72, 67],\n",
    "\t[23, 78, 62],\n",
    "\t[32, 74, 56],\n",
    "\t[73, 88, 67],\n",
    "\t[32, 74, 56],\n",
    "\t[43, 78, 69],\n",
    "\t[32, 74, 54],\n",
    "\t[52, 54, 76]],\n",
    "\tcolumns=['a', 'b', 'c'])\n",
    "\n",
    "# Veri Çerçevesini Yazdır\n",
    "print(df)\n",
    "\n",
    "print('\\n______________\\n')\n",
    "# İki Sütunda Sorgu Yap\n",
    "df1 = df.query('a>50 or c>70')\n",
    "\n",
    "# Veri Çerçevesini Yazdır\n",
    "print(df1)"
   ]
  },
  {
   "cell_type": "code",
   "execution_count": 19,
   "metadata": {},
   "outputs": [
    {
     "name": "stdout",
     "output_type": "stream",
     "text": [
      "    a   b   c\n",
      "0  21  72  67\n",
      "1  23  78  62\n",
      "2  32  74  56\n",
      "3  73  88  67\n",
      "4  32  74  56\n",
      "5  43  78  69\n",
      "6  32  74  54\n",
      "7  52  54  76\n",
      "\n",
      "______________\n",
      "\n",
      "    a   b   c\n",
      "3  73  88  67\n",
      "7  52  54  76\n"
     ]
    }
   ],
   "source": [
    "import pandas as pd\n",
    "\n",
    "# Veri Çerçevesi Oluştur\n",
    "df = pd.DataFrame(\n",
    "\t[[21, 72, 67],\n",
    "\t[23, 78, 62],\n",
    "\t[32, 74, 56],\n",
    "\t[73, 88, 67],\n",
    "\t[32, 74, 56],\n",
    "\t[43, 78, 69],\n",
    "\t[32, 74, 54],\n",
    "\t[52, 54, 76]],\n",
    "\tcolumns=['a', 'b', 'c'])\n",
    "\n",
    "# Veri Çerçevesini Yazdır\n",
    "print(df)\n",
    "\n",
    "print('\\n______________\\n')\n",
    "# İki Sütunda Sorgu Yap; inplace = True olacak şekilde!...\n",
    "df.query('a>50 or c>70', inplace = True)\n",
    "\n",
    "# Veri Çerçevesini Yazdır\n",
    "print(df)"
   ]
  },
  {
   "cell_type": "code",
   "execution_count": 20,
   "metadata": {},
   "outputs": [
    {
     "name": "stdout",
     "output_type": "stream",
     "text": [
      "     isim  fizik  kimya  matematik  sosyoloji\n",
      "0     Ali     68     84         78         96\n",
      "1   Ahmet     74     56         88         85\n",
      "2  Mehmet     77     73         82         87\n",
      "\n",
      "______________\n",
      "\n",
      "    isim  fizik  kimya  tarih  sosyoloji\n",
      "0   Ayşe     72     67     91         83\n",
      "1  Fatma     78     69     87         92\n",
      "\n",
      "______________\n",
      "\n",
      "     isim  fizik  kimya  matematik  sosyoloji  tarih\n",
      "0     Ali     68     84       78.0         96    NaN\n",
      "1   Ahmet     74     56       88.0         85    NaN\n",
      "2  Mehmet     77     73       82.0         87    NaN\n",
      "0    Ayşe     72     67        NaN         83   91.0\n",
      "1   Fatma     78     69        NaN         92   87.0\n",
      "\n",
      "______________\n",
      "\n",
      "     isim  fizik  kimya  matematik  sosyoloji  tarih\n",
      "0     Ali     68     84       78.0         96    NaN\n",
      "1   Ahmet     74     56       88.0         85    NaN\n",
      "2  Mehmet     77     73       82.0         87    NaN\n",
      "3    Ayşe     72     67        NaN         83   91.0\n",
      "4   Fatma     78     69        NaN         92   87.0\n"
     ]
    }
   ],
   "source": [
    "import pandas as pd\n",
    "\n",
    "# Sütunları Farklı Olan Veri Çerçevelerinin Uç Uca Eklenmesi\n",
    "\t\n",
    "df_1 = pd.DataFrame(\n",
    "\t[['Ali', 68, 84, 78, 96],\n",
    "\t['Ahmet', 74, 56, 88, 85],\n",
    "\t['Mehmet', 77, 73, 82, 87]],\n",
    "\tcolumns=['isim', 'fizik', 'kimya','matematik','sosyoloji'])\n",
    "print(df_1)\n",
    "\n",
    "print('\\n______________\\n')\n",
    "\n",
    "df_2 = pd.DataFrame(\n",
    "\t[['Ayşe', 72, 67, 91, 83],\n",
    "\t['Fatma', 78, 69, 87, 92]],\n",
    "\tcolumns=['isim', 'fizik', 'kimya','tarih','sosyoloji'])\t\n",
    "print(df_2)\n",
    "\n",
    "print('\\n______________\\n')\n",
    "\n",
    "frames = [df_1, df_2]\n",
    "\n",
    "# veri çerçevelerini birleştir \n",
    "df = pd.concat([df_1, df_2])\n",
    "# Veri Çerçevesini Yazdır\n",
    "print(df)\n",
    "\n",
    "print('\\n______________\\n')\n",
    "\n",
    "# indeks'leri reset'le\n",
    "df.reset_index(drop=True, inplace=True)\n",
    "\n",
    "# veri çerçevesini yazdır\n",
    "print(df)"
   ]
  },
  {
   "cell_type": "code",
   "execution_count": 21,
   "metadata": {},
   "outputs": [
    {
     "name": "stdout",
     "output_type": "stream",
     "text": [
      "     isim  fizik  kimya  matematik  sosyoloji\n",
      "0     Ali     68     84         78         96\n",
      "1   Ahmet     74     56         88         85\n",
      "2  Mehmet     77     73         82         87\n",
      "\n",
      "______________\n",
      "\n",
      "    isim  fizik  kimya  tarih  sosyoloji\n",
      "0   Ayşe     72     67     91         83\n",
      "1  Fatma     78     69     87         92\n",
      "\n",
      "______________\n",
      "\n",
      "     isim  fizik  kimya  matematik  sosyoloji  tarih\n",
      "0     Ali     68     84       78.0         96    NaN\n",
      "1   Ahmet     74     56       88.0         85    NaN\n",
      "2  Mehmet     77     73       82.0         87    NaN\n",
      "3    Ayşe     72     67        NaN         83   91.0\n",
      "4   Fatma     78     69        NaN         92   87.0\n"
     ]
    }
   ],
   "source": [
    "import pandas as pd\n",
    "\n",
    "# Sütunları Farklı Olan Veri Çerçevelerinin Uç Uca Eklenmesi\n",
    "\t\n",
    "df_1 = pd.DataFrame(\n",
    "\t[['Ali', 68, 84, 78, 96],\n",
    "\t['Ahmet', 74, 56, 88, 85],\n",
    "\t['Mehmet', 77, 73, 82, 87]],\n",
    "\tcolumns=['isim', 'fizik', 'kimya','matematik','sosyoloji'])\n",
    "print(df_1)\n",
    "\n",
    "print('\\n______________\\n')\n",
    "\n",
    "df_2 = pd.DataFrame(\n",
    "\t[['Ayşe', 72, 67, 91, 83],\n",
    "\t['Fatma', 78, 69, 87, 92]],\n",
    "\tcolumns=['isim', 'fizik', 'kimya','tarih','sosyoloji'])\t\n",
    "print(df_2)\n",
    "\n",
    "print('\\n______________\\n')\n",
    "\n",
    "frames = [df_1, df_2]\n",
    "\n",
    "# veri çerçevelerini birleştirirken indeks'leri reset'le\n",
    "df = pd.concat([df_1, df_2], ignore_index=True)\n",
    "\n",
    "# veri çerçevesini yazdır\n",
    "print(df)"
   ]
  },
  {
   "cell_type": "code",
   "execution_count": 2,
   "metadata": {},
   "outputs": [
    {
     "name": "stdout",
     "output_type": "stream",
     "text": [
      "     isim  fizik  kimya  matematik  sosyoloji\n",
      "0     Ali     68     84         78         96\n",
      "1   Ahmet     74     56         88         85\n",
      "2  Mehmet     77     73         82         87\n",
      "\n",
      "______________\n",
      "\n",
      "Veri Çerçevesi Excel Dosyasına Başarıyla Yazıldı.\n"
     ]
    }
   ],
   "source": [
    "\n",
    "import pandas as pd\n",
    "\n",
    "df_marks = pd.DataFrame(\n",
    "\t[['Ali', 68, 84, 78, 96],\n",
    "\t['Ahmet', 74, 56, 88, 85],\n",
    "\t['Mehmet', 77, 73, 82, 87]],\n",
    "\tcolumns=['isim', 'fizik', 'kimya','matematik','sosyoloji'])\n",
    "print(df_marks)\n",
    "\n",
    "print('\\n______________\\n')\n",
    "\n",
    "# Excel Writer nesnesi oluştur\n",
    "writer = pd.ExcelWriter('ogrenciler_ve_notlar.xlsx')\n",
    "\n",
    "# Veri Çerçevesini Excel'e yaz\n",
    "df_marks.to_excel(writer)\n",
    "\n",
    "# Excel dosyasını kaydet\n",
    "writer.save()\n",
    "\n",
    "print('Veri Çerçevesi Excel Dosyasına Başarıyla Yazıldı.')"
   ]
  },
  {
   "cell_type": "code",
   "execution_count": 3,
   "metadata": {},
   "outputs": [
    {
     "name": "stdout",
     "output_type": "stream",
     "text": [
      "     isim  fizik  kimya  matematik  sosyoloji\n",
      "0     Ali     68     84         78         96\n",
      "1   Ahmet     74     56         88         85\n",
      "2  Mehmet     77     73         82         87\n",
      "\n",
      "______________\n",
      "\n",
      "Veri Çerçevesi Excel Dosyasına Başarıyla Yazıldı.\n"
     ]
    }
   ],
   "source": [
    "import pandas as pd\n",
    "\n",
    "df_marks = pd.DataFrame(\n",
    "\t[['Ali', 68, 84, 78, 96],\n",
    "\t['Ahmet', 74, 56, 88, 85],\n",
    "\t['Mehmet', 77, 73, 82, 87]],\n",
    "\tcolumns=['isim', 'fizik', 'kimya','matematik','sosyoloji'])\n",
    "print(df_marks)\n",
    "\n",
    "print('\\n______________\\n')\n",
    "\n",
    "# Excel Writer nesnesi oluştur\n",
    "writer = pd.ExcelWriter('ogrenciler_ve_notlar2.xlsx')\n",
    "\n",
    "# Veri Çerçevesini Excel'de \"notlar\" isimli sayfaya yaz\n",
    "df_marks.to_excel(writer, 'notlar')\n",
    "\n",
    "# Excel dosyasını kaydet\n",
    "writer.save()\n",
    "\n",
    "print('Veri Çerçevesi Excel Dosyasına Başarıyla Yazıldı.')"
   ]
  },
  {
   "cell_type": "code",
   "execution_count": 4,
   "metadata": {},
   "outputs": [
    {
     "name": "stdout",
     "output_type": "stream",
     "text": [
      "     isim  fizik  kimya  matematik  sosyoloji\n",
      "0     Ali     68     84         78         96\n",
      "1   Ahmet     74     56         88         85\n",
      "2  Mehmet     77     73         82         87\n",
      "\n",
      "______________\n",
      "\n",
      "<table border=\"1\" class=\"dataframe\">\n",
      "  <thead>\n",
      "    <tr style=\"text-align: right;\">\n",
      "      <th></th>\n",
      "      <th>isim</th>\n",
      "      <th>fizik</th>\n",
      "      <th>kimya</th>\n",
      "      <th>matematik</th>\n",
      "      <th>sosyoloji</th>\n",
      "    </tr>\n",
      "  </thead>\n",
      "  <tbody>\n",
      "    <tr>\n",
      "      <th>0</th>\n",
      "      <td>Ali</td>\n",
      "      <td>68</td>\n",
      "      <td>84</td>\n",
      "      <td>78</td>\n",
      "      <td>96</td>\n",
      "    </tr>\n",
      "    <tr>\n",
      "      <th>1</th>\n",
      "      <td>Ahmet</td>\n",
      "      <td>74</td>\n",
      "      <td>56</td>\n",
      "      <td>88</td>\n",
      "      <td>85</td>\n",
      "    </tr>\n",
      "    <tr>\n",
      "      <th>2</th>\n",
      "      <td>Mehmet</td>\n",
      "      <td>77</td>\n",
      "      <td>73</td>\n",
      "      <td>82</td>\n",
      "      <td>87</td>\n",
      "    </tr>\n",
      "  </tbody>\n",
      "</table>\n"
     ]
    }
   ],
   "source": [
    "import pandas as pd\n",
    "\n",
    "# Veri Çerçevesinin html olarak biçimlendirilmesi\n",
    "\t\n",
    "df_marks = pd.DataFrame(\n",
    "\t[['Ali', 68, 84, 78, 96],\n",
    "\t['Ahmet', 74, 56, 88, 85],\n",
    "\t['Mehmet', 77, 73, 82, 87]],\n",
    "\tcolumns=['isim', 'fizik', 'kimya','matematik','sosyoloji'])\n",
    "print(df_marks)\n",
    "\n",
    "print('\\n______________\\n')\n",
    "\n",
    "# Veri Çerçevesini html olarak render et\n",
    "html = df_marks.to_html()\n",
    "print(html)\n"
   ]
  },
  {
   "cell_type": "code",
   "execution_count": 5,
   "metadata": {},
   "outputs": [
    {
     "name": "stdout",
     "output_type": "stream",
     "text": [
      "     isim  fizik  kimya  matematik  sosyoloji\n",
      "0     Ali     68     84         78         96\n",
      "1   Ahmet     74     56         88         85\n",
      "2  Mehmet     77     73         82         87\n",
      "\n",
      "______________\n",
      "\n",
      "<table border=\"1\" class=\"dataframe\">\n",
      "  <thead>\n",
      "    <tr style=\"text-align: right;\">\n",
      "      <th></th>\n",
      "      <th>isim</th>\n",
      "      <th>fizik</th>\n",
      "      <th>kimya</th>\n",
      "      <th>matematik</th>\n",
      "      <th>sosyoloji</th>\n",
      "    </tr>\n",
      "  </thead>\n",
      "  <tbody>\n",
      "    <tr>\n",
      "      <th>0</th>\n",
      "      <td>Ali</td>\n",
      "      <td>68</td>\n",
      "      <td>84</td>\n",
      "      <td>78</td>\n",
      "      <td>96</td>\n",
      "    </tr>\n",
      "    <tr>\n",
      "      <th>1</th>\n",
      "      <td>Ahmet</td>\n",
      "      <td>74</td>\n",
      "      <td>56</td>\n",
      "      <td>88</td>\n",
      "      <td>85</td>\n",
      "    </tr>\n",
      "    <tr>\n",
      "      <th>2</th>\n",
      "      <td>Mehmet</td>\n",
      "      <td>77</td>\n",
      "      <td>73</td>\n",
      "      <td>82</td>\n",
      "      <td>87</td>\n",
      "    </tr>\n",
      "  </tbody>\n",
      "</table>\n"
     ]
    }
   ],
   "source": [
    "import pandas as pd\n",
    "\n",
    "# Veri Çerçevesinin html olarak biçimlendirilmesi\n",
    "\t\n",
    "df_marks = pd.DataFrame(\n",
    "\t[['Ali', 68, 84, 78, 96],\n",
    "\t['Ahmet', 74, 56, 88, 85],\n",
    "\t['Mehmet', 77, 73, 82, 87]],\n",
    "\tcolumns=['isim', 'fizik', 'kimya','matematik','sosyoloji'])\n",
    "print(df_marks)\n",
    "\n",
    "print('\\n______________\\n')\n",
    "\n",
    "# Veri Çerçevesini html olarak render et\n",
    "html = df_marks.to_html()\n",
    "print(html)\n",
    "\n",
    "# Oluşturulan html'i bir dosyaya yaz\n",
    "text_file = open(\"index.html\", \"w\")\n",
    "text_file.write(html)\n",
    "text_file.close()"
   ]
  },
  {
   "cell_type": "code",
   "execution_count": 6,
   "metadata": {},
   "outputs": [
    {
     "name": "stdout",
     "output_type": "stream",
     "text": [
      "Veri Çerçevesi\n",
      "-----------\n",
      "    a  b\n",
      "0  2  2\n",
      "1  4  0\n",
      "\n",
      "DataFrame.isin(range(1,6)) kontrol işleminin sonuçları:\n",
      "-----------\n",
      "       a      b\n",
      "0  True   True\n",
      "1  True  False\n"
     ]
    }
   ],
   "source": [
    "import pandas as pd\n",
    "\n",
    "# Veri çerçevesini oluştur\n",
    "df = pd.DataFrame({'a': [2, 4], 'b': [2, 0]})\n",
    "\n",
    "# Değerlerin range(1,6) koşulunu sağlayıp sağlamadığını kontrol et\n",
    "out = df.isin(range(1,6))\n",
    "\n",
    "print('Veri Çerçevesi\\n-----------\\n',df)\n",
    "print('\\nDataFrame.isin(range(1,6)) kontrol işleminin sonuçları:\\n-----------\\n',out)"
   ]
  },
  {
   "cell_type": "code",
   "execution_count": 7,
   "metadata": {},
   "outputs": [
    {
     "name": "stdout",
     "output_type": "stream",
     "text": [
      "     isim  fizik  kimya  matematik  sosyoloji\n",
      "0     Ali     68     84         78         96\n",
      "1   Ahmet     74     56         88         85\n",
      "2  Mehmet     77     73         82         87\n",
      "\n",
      "______________\n",
      "\n",
      "\n",
      "Ortalamalar\n",
      "------\n",
      "fizik        73.000000\n",
      "kimya        71.000000\n",
      "matematik    82.666667\n",
      "sosyoloji    89.333333\n",
      "dtype: float64\n"
     ]
    }
   ],
   "source": [
    "import pandas as pd\n",
    "\n",
    "# Veri Çerçevesinde Ortalamaların Hesaplanması\n",
    "\t\n",
    "df_marks = pd.DataFrame(\n",
    "\t[['Ali', 68, 84, 78, 96],\n",
    "\t['Ahmet', 74, 56, 88, 85],\n",
    "\t['Mehmet', 77, 73, 82, 87]],\n",
    "\tcolumns=['isim', 'fizik', 'kimya','matematik','sosyoloji'])\n",
    "print(df_marks)\n",
    "\n",
    "print('\\n______________\\n')\n",
    "\n",
    "# ortalamaları hesapla\n",
    "mean = df_marks.mean()\n",
    "print('\\nOrtalamalar\\n------')\n",
    "print(mean)"
   ]
  },
  {
   "cell_type": "code",
   "execution_count": 8,
   "metadata": {},
   "outputs": [
    {
     "name": "stdout",
     "output_type": "stream",
     "text": [
      "     isim  fizik  kimya  matematik  sosyoloji\n",
      "0     Ali     68     84         78         96\n",
      "1   Ahmet     74     56         88         85\n",
      "2  Mehmet     77     73         82         87\n",
      "\n",
      "______________\n",
      "\n",
      "\n",
      "Ortalamalar\n",
      "------\n",
      "fizik        73.000000\n",
      "kimya        71.000000\n",
      "matematik    82.666667\n",
      "sosyoloji    89.333333\n",
      "dtype: float64\n"
     ]
    }
   ],
   "source": [
    "import pandas as pd\n",
    "\n",
    "# Veri Çerçevesinde Ortalamaların Hesaplanması\n",
    "\t\n",
    "df_marks = pd.DataFrame(\n",
    "\t[['Ali', 68, 84, 78, 96],\n",
    "\t['Ahmet', 74, 56, 88, 85],\n",
    "\t['Mehmet', 77, 73, 82, 87]],\n",
    "\tcolumns=['isim', 'fizik', 'kimya','matematik','sosyoloji'])\n",
    "print(df_marks)\n",
    "\n",
    "print('\\n______________\\n')\n",
    "\n",
    "# ortalamaları hesapla; (axis = 0) diyerek\n",
    "mean = df_marks.mean(axis = 0)\n",
    "print('\\nOrtalamalar\\n------')\n",
    "print(mean)"
   ]
  },
  {
   "cell_type": "code",
   "execution_count": 9,
   "metadata": {},
   "outputs": [
    {
     "name": "stdout",
     "output_type": "stream",
     "text": [
      "     isim  fizik  kimya  matematik  sosyoloji\n",
      "0     Ali     68     84         78         96\n",
      "1   Ahmet     74     56         88         85\n",
      "2  Mehmet     77     73         82         87\n",
      "\n",
      "______________\n",
      "\n",
      "\n",
      "Ortalamalar\n",
      "------\n",
      "0    81.50\n",
      "1    75.75\n",
      "2    79.75\n",
      "dtype: float64\n"
     ]
    }
   ],
   "source": [
    "import pandas as pd\n",
    "\n",
    "# Veri Çerçevesinde Ortalamaların Hesaplanması\n",
    "\t\n",
    "df_marks = pd.DataFrame(\n",
    "\t[['Ali', 68, 84, 78, 96],\n",
    "\t['Ahmet', 74, 56, 88, 85],\n",
    "\t['Mehmet', 77, 73, 82, 87]],\n",
    "\tcolumns=['isim', 'fizik', 'kimya','matematik','sosyoloji'])\n",
    "print(df_marks)\n",
    "\n",
    "print('\\n______________\\n')\n",
    "\n",
    "# ortalamaları hesapla; (axis = 1) diyerek\n",
    "mean = df_marks.mean(axis = 1)\n",
    "print('\\nOrtalamalar\\n------')\n",
    "print(mean)"
   ]
  },
  {
   "cell_type": "code",
   "execution_count": 10,
   "metadata": {
    "scrolled": true
   },
   "outputs": [
    {
     "name": "stdout",
     "output_type": "stream",
     "text": [
      "     isim  fizik  kimya  matematik  sosyoloji\n",
      "0     Ali     68     84         78         96\n",
      "1   Ahmet     74     56         88         85\n",
      "2  Mehmet     77     73         82         87\n",
      "\n",
      "______________\n",
      "\n",
      "\n",
      "Ortalama\n",
      "------\n",
      "0    81.50\n",
      "1    75.75\n",
      "2    79.75\n",
      "dtype: float64\n",
      "\n",
      "Her bir öğrenci için ortalama\n",
      "     isim      0\n",
      "0     Ali  81.50\n",
      "1   Ahmet  75.75\n",
      "2  Mehmet  79.75\n"
     ]
    }
   ],
   "source": [
    "import pandas as pd\n",
    "\n",
    "# Veri Çerçevesinde Ortalamaların Hesaplanması\n",
    "\t\n",
    "df_marks = pd.DataFrame(\n",
    "\t[['Ali', 68, 84, 78, 96],\n",
    "\t['Ahmet', 74, 56, 88, 85],\n",
    "\t['Mehmet', 77, 73, 82, 87]],\n",
    "\tcolumns=['isim', 'fizik', 'kimya','matematik','sosyoloji'])\n",
    "print(df_marks)\n",
    "\n",
    "print('\\n______________\\n')\n",
    "\n",
    "# satırlarda ortalamaları hesapla\n",
    "mean = df_marks.mean(axis=1)\n",
    "print('\\nOrtalama\\n------')\n",
    "print(mean)\n",
    "\n",
    "# isimleri ve not ortalamalarını göster\n",
    "print('\\nHer bir öğrenci için ortalama')\n",
    "print(pd.concat([df_marks['isim'], mean], axis=1))"
   ]
  },
  {
   "cell_type": "code",
   "execution_count": 11,
   "metadata": {},
   "outputs": [
    {
     "name": "stdout",
     "output_type": "stream",
     "text": [
      "     isim  fizik  kimya  matematik  sosyoloji\n",
      "0     Ali     68     84         78         96\n",
      "1   Ahmet     74     56         88         85\n",
      "2  Mehmet     77     73         82         87\n",
      "\n",
      "______________\n",
      "\n",
      "\n",
      "Ortalamaların Ortalaması\n",
      "------\n",
      "79.0\n"
     ]
    }
   ],
   "source": [
    "import pandas as pd\n",
    "\n",
    "# Veri Çerçevesinde Ortalamaların Hesaplanması\n",
    "\t\n",
    "df_marks = pd.DataFrame(\n",
    "\t[['Ali', 68, 84, 78, 96],\n",
    "\t['Ahmet', 74, 56, 88, 85],\n",
    "\t['Mehmet', 77, 73, 82, 87]],\n",
    "\tcolumns=['isim', 'fizik', 'kimya','matematik','sosyoloji'])\n",
    "print(df_marks)\n",
    "\n",
    "print('\\n______________\\n')\n",
    "\n",
    "# ortalamaların ortalamasını hesapla\n",
    "mean = df_marks.mean().mean()\n",
    "print('\\nOrtalamaların Ortalaması\\n------')\n",
    "print(mean)"
   ]
  },
  {
   "cell_type": "code",
   "execution_count": null,
   "metadata": {},
   "outputs": [],
   "source": [
    "# yukarıdaki örnekleri mean yerine median ile tekrarla"
   ]
  },
  {
   "cell_type": "code",
   "execution_count": null,
   "metadata": {},
   "outputs": [],
   "source": [
    "# yukarıdaki örnekleri mean yerine max ile tekrarla"
   ]
  },
  {
   "cell_type": "code",
   "execution_count": null,
   "metadata": {},
   "outputs": [],
   "source": [
    "# yukarıdaki örnekleri mean yerine min ile tekrarla"
   ]
  },
  {
   "cell_type": "code",
   "execution_count": 12,
   "metadata": {},
   "outputs": [
    {
     "name": "stdout",
     "output_type": "stream",
     "text": [
      "Seçilen sütun\n",
      "---------------\n",
      "0    57\n",
      "1    43\n",
      "2    85\n",
      "Name: a, dtype: int64\n",
      "\n",
      "<class 'pandas.core.series.Series'>\n"
     ]
    }
   ],
   "source": [
    "import pandas as pd\n",
    "\n",
    "# Veri Çerçevesi oluştur\n",
    "df = pd.DataFrame({'a': [57, 43, 85], 'b': [92, 30, 66]})\n",
    "\n",
    "# Sütun seç (Yöntem 1)\n",
    "a = df.a\n",
    "\n",
    "print('Seçilen sütun\\n---------------\\n',a,sep='')\n",
    "print('\\n',type(a),sep='')"
   ]
  },
  {
   "cell_type": "code",
   "execution_count": 13,
   "metadata": {},
   "outputs": [
    {
     "name": "stdout",
     "output_type": "stream",
     "text": [
      "Seçilen sütun\n",
      "---------------\n",
      "0    57\n",
      "1    43\n",
      "2    85\n",
      "Name: a, dtype: int64\n",
      "\n",
      "<class 'pandas.core.series.Series'>\n"
     ]
    }
   ],
   "source": [
    "import pandas as pd\n",
    "\n",
    "# Veri Çerçevesi oluştur\n",
    "df = pd.DataFrame({'a': [57, 43, 85], 'b': [92, 30, 66]})\n",
    "\n",
    "# Sütun seç (Yöntem 2)\n",
    "a = df['a']\n",
    "\n",
    "print('Seçilen sütun\\n---------------\\n',a,sep='')\n",
    "print('\\n',type(a),sep='')"
   ]
  },
  {
   "cell_type": "code",
   "execution_count": 14,
   "metadata": {},
   "outputs": [
    {
     "name": "stdout",
     "output_type": "stream",
     "text": [
      "Seçilen sütun\n",
      "---------------\n",
      "<bound method DataFrame.sum of    sum   b\n",
      "0   57  92\n",
      "1   43  30\n",
      "2   85  66>\n",
      "\n",
      "<class 'method'>\n"
     ]
    }
   ],
   "source": [
    "import pandas as pd\n",
    "\n",
    "# Veri Çerçevesi oluştur\n",
    "df = pd.DataFrame({'sum': [57, 43, 85], 'b': [92, 30, 66]})\n",
    "\n",
    "# Sütun seç (sütunun ismi aslında bir Pandas fonksiyon ismi)\n",
    "a = df.sum\n",
    "\n",
    "print('Seçilen sütun\\n---------------\\n',a,sep='')\n",
    "print('\\n',type(a),sep='')"
   ]
  },
  {
   "cell_type": "code",
   "execution_count": 15,
   "metadata": {},
   "outputs": [
    {
     "name": "stdout",
     "output_type": "stream",
     "text": [
      "Seçilen sütun\n",
      "---------------\n",
      "0    57\n",
      "1    43\n",
      "2    85\n",
      "Name: sum, dtype: int64\n",
      "\n",
      "<class 'pandas.core.series.Series'>\n"
     ]
    }
   ],
   "source": [
    "import pandas as pd\n",
    "\n",
    "# Veri Çerçevesi oluştur\n",
    "df = pd.DataFrame({'sum': [57, 43, 85], 'b': [92, 30, 66]})\n",
    "\n",
    "# Sütun seç (sütunun ismi aslında bir Pandas fonksiyon ismi)\n",
    "a = df['sum']\n",
    "\n",
    "print('Seçilen sütun\\n---------------\\n',a,sep='')\n",
    "print('\\n',type(a),sep='')"
   ]
  },
  {
   "cell_type": "code",
   "execution_count": 16,
   "metadata": {},
   "outputs": [
    {
     "ename": "SyntaxError",
     "evalue": "invalid syntax (<ipython-input-16-37c350409a3f>, line 7)",
     "output_type": "error",
     "traceback": [
      "\u001b[1;36m  File \u001b[1;32m\"<ipython-input-16-37c350409a3f>\"\u001b[1;36m, line \u001b[1;32m7\u001b[0m\n\u001b[1;33m    a = df.sum a b\u001b[0m\n\u001b[1;37m               ^\u001b[0m\n\u001b[1;31mSyntaxError\u001b[0m\u001b[1;31m:\u001b[0m invalid syntax\n"
     ]
    }
   ],
   "source": [
    "\n",
    "import pandas as pd\n",
    "\n",
    "# Veri Çerçevesi oluştur\n",
    "df = pd.DataFrame({'sum a b': [57, 43, 85], 'b': [92, 30, 66]})\n",
    "\n",
    "# Sütun seç (sütunun ismi boşluk karakteri içeriyor)\n",
    "a = df.sum a b\n",
    "# yukarıdaki ifade hata verecek\n",
    "\n",
    "print('Seçilen sütun\\n---------------\\n',a,sep='')\n",
    "print('\\n',type(a),sep='')"
   ]
  },
  {
   "cell_type": "code",
   "execution_count": 17,
   "metadata": {},
   "outputs": [
    {
     "name": "stdout",
     "output_type": "stream",
     "text": [
      "Seçilen sütun\n",
      "---------------\n",
      "0    57\n",
      "1    43\n",
      "2    85\n",
      "Name: sum a b, dtype: int64\n",
      "\n",
      "<class 'pandas.core.series.Series'>\n"
     ]
    }
   ],
   "source": [
    "import pandas as pd\n",
    "\n",
    "# Veri Çerçevesi oluştur\n",
    "df = pd.DataFrame({'sum a b': [57, 43, 85], 'b': [92, 30, 66]})\n",
    "\n",
    "# Sütun seç (sütunun ismi boşluk karakteri içeriyor)\n",
    "a = df['sum a b']\n",
    "# yukarıdaki ifade hata vermeyecek\n",
    "\n",
    "print('Seçilen sütun\\n---------------\\n',a,sep='')\n",
    "print('\\n',type(a),sep='')"
   ]
  },
  {
   "cell_type": "code",
   "execution_count": 18,
   "metadata": {},
   "outputs": [
    {
     "name": "stdout",
     "output_type": "stream",
     "text": [
      "Orijinal Veri Çerçevesi\n",
      "------------------------\n",
      "     isim  fizik  kimya  matematik  sosyoloji\n",
      "0     Ali     68     84         78         96\n",
      "1   Ahmet     74     56         88         85\n",
      "2  Mehmet     77     73         82         87\n",
      "\n",
      "______________\n",
      "\n",
      "\n",
      "\n",
      "Sütunları Yeniden İsimlendirilmiş Veri Çerçevesi\n",
      "------------------------\n",
      "     name  physics  chemistry  mathematics  sociology\n",
      "0     Ali       68         84           78         96\n",
      "1   Ahmet       74         56           88         85\n",
      "2  Mehmet       77         73           82         87\n"
     ]
    }
   ],
   "source": [
    "import pandas as pd\n",
    "\n",
    "# Veri Çerçevesinde Sütun İsimlerinin Değiştirilmesi\n",
    "\t\n",
    "df_marks = pd.DataFrame(\n",
    "\t[['Ali', 68, 84, 78, 96],\n",
    "\t['Ahmet', 74, 56, 88, 85],\n",
    "\t['Mehmet', 77, 73, 82, 87]],\n",
    "\tcolumns=['isim', 'fizik', 'kimya','matematik','sosyoloji'])\n",
    "print('Orijinal Veri Çerçevesi\\n------------------------')\n",
    "print(df_marks)\n",
    "\n",
    "print('\\n______________\\n')\n",
    "\n",
    "# sütunları yeniden isimlendir\n",
    "df_marks.columns = ['name', 'physics', 'chemistry', 'mathematics', 'sociology']\n",
    "print('\\n\\nSütunları Yeniden İsimlendirilmiş Veri Çerçevesi\\n------------------------')\n",
    "print(df_marks)"
   ]
  },
  {
   "cell_type": "code",
   "execution_count": 19,
   "metadata": {},
   "outputs": [
    {
     "name": "stdout",
     "output_type": "stream",
     "text": [
      "    a   b   c   d\n",
      "0  41  72  67  91\n",
      "1  21  78  69  87\n",
      "2  95  74  56  88\n",
      "3  54  54  76  78\n",
      "\n",
      "______________\n",
      "\n",
      "    a   k   c   d\n",
      "0  41  72  67  91\n",
      "1  21  78  69  87\n",
      "2  95  74  56  88\n",
      "3  54  54  76  78\n"
     ]
    }
   ],
   "source": [
    "import pandas as pd\n",
    "\n",
    "# veri çerçevesi oluştur\n",
    "df = pd.DataFrame(\n",
    "\t[[41, 72, 67, 91],\n",
    "\t[21, 78, 69, 87],\n",
    "\t[95, 74, 56, 88],\n",
    "\t[54, 54, 76, 78]],\n",
    "\tcolumns=['a', 'b', 'c', 'd'])\t\n",
    "print(df)\n",
    "\n",
    "print('\\n______________\\n')\n",
    "\n",
    "# bir sütunun ismini değiştir\n",
    "df.rename(columns={'b': 'k'}, inplace=True)\n",
    "\n",
    "print(df)"
   ]
  },
  {
   "cell_type": "code",
   "execution_count": 20,
   "metadata": {},
   "outputs": [
    {
     "name": "stdout",
     "output_type": "stream",
     "text": [
      "    a   b   c   d\n",
      "0  41  72  67  91\n",
      "1  21  78  69  87\n",
      "2  95  74  56  88\n",
      "3  54  54  76  78\n",
      "\n",
      "______________\n",
      "\n",
      "    a   k   m   d\n",
      "0  41  72  67  91\n",
      "1  21  78  69  87\n",
      "2  95  74  56  88\n",
      "3  54  54  76  78\n"
     ]
    }
   ],
   "source": [
    "import pandas as pd\n",
    "\n",
    "# veri çerçevesi oluştur\n",
    "df = pd.DataFrame(\n",
    "\t[[41, 72, 67, 91],\n",
    "\t[21, 78, 69, 87],\n",
    "\t[95, 74, 56, 88],\n",
    "\t[54, 54, 76, 78]],\n",
    "\tcolumns=['a', 'b', 'c', 'd'])\t\n",
    "print(df)\n",
    "\n",
    "print('\\n______________\\n')\n",
    "\n",
    "# iki sütunun ismini değiştir\n",
    "df.rename(columns={'b': 'k', 'c': 'm'}, inplace=True)\n",
    "\n",
    "print(df)"
   ]
  },
  {
   "cell_type": "code",
   "execution_count": 21,
   "metadata": {},
   "outputs": [
    {
     "name": "stdout",
     "output_type": "stream",
     "text": [
      "Orijinal Veri Çerçevesi\n",
      "------------------------\n",
      "     isim  fizik  kimya  matematik  sosyoloji\n",
      "0     Ali     68     84         78         96\n",
      "1   Ahmet     74     56         88         85\n",
      "2  Mehmet     77     73         82         87\n",
      "\n",
      "\n",
      "Sıralanmış Veri Çerçevesi\n",
      "------------------------\n",
      "     isim  fizik  kimya  matematik  sosyoloji\n",
      "0     Ali     68     84         78         96\n",
      "2  Mehmet     77     73         82         87\n",
      "1   Ahmet     74     56         88         85\n"
     ]
    }
   ],
   "source": [
    "import pandas as pd\n",
    "\n",
    "# Veri Çerçevesinde Sıralama\n",
    "\t\n",
    "df_marks = pd.DataFrame(\n",
    "\t[['Ali', 68, 84, 78, 96],\n",
    "\t['Ahmet', 74, 56, 88, 85],\n",
    "\t['Mehmet', 77, 73, 82, 87]],\n",
    "\tcolumns=['isim', 'fizik', 'kimya','matematik','sosyoloji'])\n",
    "print('Orijinal Veri Çerçevesi\\n------------------------')\n",
    "print(df_marks)\n",
    "\n",
    "print('\\n')\n",
    "\n",
    "# veri çerçevesini sırala \n",
    "sorted_df = df_marks.sort_values(by='matematik')\n",
    "print('Sıralanmış Veri Çerçevesi\\n------------------------')\n",
    "print(sorted_df)"
   ]
  },
  {
   "cell_type": "code",
   "execution_count": 22,
   "metadata": {},
   "outputs": [
    {
     "name": "stdout",
     "output_type": "stream",
     "text": [
      "Orijinal Veri Çerçevesi\n",
      "------------------------\n",
      "     isim  fizik  kimya  matematik  sosyoloji\n",
      "0     Ali     68     84         78         96\n",
      "1   Ahmet     74     56         88         85\n",
      "2  Mehmet     77     73         82         87\n",
      "\n",
      "\n",
      "Sıralanmış Veri Çerçevesi\n",
      "------------------------\n",
      "     isim  fizik  kimya  matematik  sosyoloji\n",
      "1   Ahmet     74     56         88         85\n",
      "2  Mehmet     77     73         82         87\n",
      "0     Ali     68     84         78         96\n"
     ]
    }
   ],
   "source": [
    "\n",
    "import pandas as pd\n",
    "\n",
    "# Veri Çerçevesinde Sıralama\n",
    "\t\n",
    "df_marks = pd.DataFrame(\n",
    "\t[['Ali', 68, 84, 78, 96],\n",
    "\t['Ahmet', 74, 56, 88, 85],\n",
    "\t['Mehmet', 77, 73, 82, 87]],\n",
    "\tcolumns=['isim', 'fizik', 'kimya','matematik','sosyoloji'])\n",
    "print('Orijinal Veri Çerçevesi\\n------------------------')\n",
    "print(df_marks)\n",
    "\n",
    "print('\\n')\n",
    "\n",
    "# veri çerçevesini sırala \n",
    "sorted_df = df_marks.sort_values(by='matematik', ascending=False)\n",
    "print('Sıralanmış Veri Çerçevesi\\n------------------------')\n",
    "print(sorted_df)"
   ]
  },
  {
   "cell_type": "code",
   "execution_count": 23,
   "metadata": {},
   "outputs": [
    {
     "name": "stdout",
     "output_type": "stream",
     "text": [
      "Orijinal Veri Çerçevesi\n",
      "------------------------\n",
      "     isim  fizik  kimya  matematik  sosyoloji\n",
      "0     Ali     68     84         78         96\n",
      "1   Ahmet     74     56         88         85\n",
      "2  Mehmet     77     73         82         87\n",
      "\n",
      "\n",
      "\n",
      "\n",
      "Veri Çerçevesine \"coğrafya\" sütunu eklendikten sonra\n",
      "--------------\n",
      "     isim  fizik  kimya  matematik  sosyoloji  coğrafya\n",
      "0     Ali     68     84         78         96        81\n",
      "1   Ahmet     74     56         88         85        92\n",
      "2  Mehmet     77     73         82         87        67\n"
     ]
    }
   ],
   "source": [
    "import pandas as pd\n",
    "\n",
    "# Veri Çerçevesinde Sütun Ekleme\n",
    "\t\n",
    "df_marks = pd.DataFrame(\n",
    "\t[['Ali', 68, 84, 78, 96],\n",
    "\t['Ahmet', 74, 56, 88, 85],\n",
    "\t['Mehmet', 77, 73, 82, 87]],\n",
    "\tcolumns=['isim', 'fizik', 'kimya','matematik','sosyoloji'])\n",
    "print('Orijinal Veri Çerçevesi\\n------------------------')\n",
    "print(df_marks)\n",
    "\n",
    "print('\\n')\n",
    "\n",
    "# veri çerçevesine sütun ekle \n",
    "df_marks['coğrafya'] = [81, 92, 67]\n",
    "print('\\n\\nVeri Çerçevesine \"coğrafya\" sütunu eklendikten sonra\\n--------------')\n",
    "print(df_marks)"
   ]
  },
  {
   "cell_type": "code",
   "execution_count": 24,
   "metadata": {},
   "outputs": [
    {
     "name": "stdout",
     "output_type": "stream",
     "text": [
      "Orijinal Veri Çerçevesi\n",
      "------------------------\n",
      "     isim  fizik  kimya  matematik  sosyoloji\n",
      "0     Ali     68     84         78         96\n",
      "1   Ahmet     74     56         88         85\n",
      "2  Mehmet     77     73         82         87\n",
      "\n",
      "\n",
      "\n",
      "\n",
      "Veri Çerçevesine \"coğrafya\" sütunu eklendikten sonra\n",
      "--------------\n",
      "     isim  fizik  kimya  matematik  sosyoloji coğrafya\n",
      "0     Ali     68     84         78         96      NaN\n",
      "1   Ahmet     74     56         88         85      NaN\n",
      "2  Mehmet     77     73         82         87      NaN\n"
     ]
    }
   ],
   "source": [
    "import pandas as pd\n",
    "\n",
    "# Veri Çerçevesinde Sütun Ekleme\n",
    "\t\n",
    "df_marks = pd.DataFrame(\n",
    "\t[['Ali', 68, 84, 78, 96],\n",
    "\t['Ahmet', 74, 56, 88, 85],\n",
    "\t['Mehmet', 77, 73, 82, 87]],\n",
    "\tcolumns=['isim', 'fizik', 'kimya','matematik','sosyoloji'])\n",
    "print('Orijinal Veri Çerçevesi\\n------------------------')\n",
    "print(df_marks)\n",
    "\n",
    "print('\\n')\n",
    "\n",
    "# veri çerçevesine sütun ekle (tüm değerler aynı olacak şekilde)\n",
    "df_marks['coğrafya'] = 'NaN'\n",
    "print('\\n\\nVeri Çerçevesine \"coğrafya\" sütunu eklendikten sonra\\n--------------')\n",
    "print(df_marks)"
   ]
  },
  {
   "cell_type": "code",
   "execution_count": 25,
   "metadata": {},
   "outputs": [
    {
     "name": "stdout",
     "output_type": "stream",
     "text": [
      "Orijinal Veri Çerçevesi\n",
      "------------------------\n",
      "     isim  fizik  kimya  matematik  sosyoloji\n",
      "0     Ali     68     84         78         96\n",
      "1   Ahmet     74     56         88         85\n",
      "2  Mehmet     77     73         82         87\n",
      "\n",
      "\n",
      "\n",
      "\n",
      "Veri Çerçevesinden \"kimya\" sütunu silindikten sonra\n",
      "--------------\n",
      "     isim  fizik  matematik  sosyoloji\n",
      "0     Ali     68         78         96\n",
      "1   Ahmet     74         88         85\n",
      "2  Mehmet     77         82         87\n"
     ]
    }
   ],
   "source": [
    "import pandas as pd\n",
    "\n",
    "# Veri Çerçevesinden Sütun Silme\n",
    "\t\n",
    "df_marks = pd.DataFrame(\n",
    "\t[['Ali', 68, 84, 78, 96],\n",
    "\t['Ahmet', 74, 56, 88, 85],\n",
    "\t['Mehmet', 77, 73, 82, 87]],\n",
    "\tcolumns=['isim', 'fizik', 'kimya','matematik','sosyoloji'])\n",
    "print('Orijinal Veri Çerçevesi\\n------------------------')\n",
    "print(df_marks)\n",
    "\n",
    "print('\\n')\n",
    "\n",
    "# veri çerçevesinden sütun sil\n",
    "del df_marks['kimya']\n",
    "print('\\n\\nVeri Çerçevesinden \"kimya\" sütunu silindikten sonra\\n--------------')\n",
    "print(df_marks)"
   ]
  },
  {
   "cell_type": "code",
   "execution_count": 26,
   "metadata": {},
   "outputs": [
    {
     "name": "stdout",
     "output_type": "stream",
     "text": [
      "Orijinal Veri Çerçevesi\n",
      "------------------------\n",
      "     isim  fizik  kimya  matematik  sosyoloji\n",
      "0     Ali     68     84         78         96\n",
      "1   Ahmet     74     56         88         85\n",
      "2  Mehmet     77     73         82         87\n",
      "\n",
      "\n",
      "\n",
      "\n",
      "Veri Çerçevesinden \"kimya\" sütunu silindikten sonra\n",
      "--------------\n",
      "     isim  fizik  matematik  sosyoloji\n",
      "0     Ali     68         78         96\n",
      "1   Ahmet     74         88         85\n",
      "2  Mehmet     77         82         87\n"
     ]
    }
   ],
   "source": [
    "import pandas as pd\n",
    "\n",
    "# Veri Çerçevesinden Sütun Silme\n",
    "\t\n",
    "df_marks = pd.DataFrame(\n",
    "\t[['Ali', 68, 84, 78, 96],\n",
    "\t['Ahmet', 74, 56, 88, 85],\n",
    "\t['Mehmet', 77, 73, 82, 87]],\n",
    "\tcolumns=['isim', 'fizik', 'kimya','matematik','sosyoloji'])\n",
    "print('Orijinal Veri Çerçevesi\\n------------------------')\n",
    "print(df_marks)\n",
    "\n",
    "print('\\n')\n",
    "\n",
    "# veri çerçevesinden sütun sil\n",
    "df_marks.pop('kimya')\n",
    "print('\\n\\nVeri Çerçevesinden \"kimya\" sütunu silindikten sonra\\n--------------')\n",
    "print(df_marks)"
   ]
  },
  {
   "cell_type": "code",
   "execution_count": 27,
   "metadata": {},
   "outputs": [
    {
     "name": "stdout",
     "output_type": "stream",
     "text": [
      "Orijinal Veri Çerçevesi\n",
      "------------------------\n",
      "     isim  fizik  kimya  matematik  sosyoloji\n",
      "0     Ali     68     84         78         96\n",
      "1   Ahmet     74     56         88         85\n",
      "2  Mehmet     77     73         82         87\n",
      "\n",
      "\n",
      "\n",
      "\n",
      "Veri Çerçevesinden \"kimya\" sütunu silindikten sonra\n",
      "--------------\n",
      "     isim  fizik  matematik  sosyoloji\n",
      "0     Ali     68         78         96\n",
      "1   Ahmet     74         88         85\n",
      "2  Mehmet     77         82         87\n"
     ]
    }
   ],
   "source": [
    "import pandas as pd\n",
    "\n",
    "# Veri Çerçevesinden Sütun Silme\n",
    "\t\n",
    "df_marks = pd.DataFrame(\n",
    "\t[['Ali', 68, 84, 78, 96],\n",
    "\t['Ahmet', 74, 56, 88, 85],\n",
    "\t['Mehmet', 77, 73, 82, 87]],\n",
    "\tcolumns=['isim', 'fizik', 'kimya','matematik','sosyoloji'])\n",
    "print('Orijinal Veri Çerçevesi\\n------------------------')\n",
    "print(df_marks)\n",
    "\n",
    "print('\\n')\n",
    "\n",
    "# veri çerçevesinden sütun sil\n",
    "df_marks = df_marks.drop(['kimya'], axis=1)\n",
    "print('\\n\\nVeri Çerçevesinden \"kimya\" sütunu silindikten sonra\\n--------------')\n",
    "print(df_marks)"
   ]
  },
  {
   "cell_type": "code",
   "execution_count": 28,
   "metadata": {},
   "outputs": [
    {
     "name": "stdout",
     "output_type": "stream",
     "text": [
      "Orijinal Veri Çerçevesi\n",
      "------------------------\n",
      "     isim  fizik  kimya  matematik  sosyoloji\n",
      "0     Ali     68     84         78         96\n",
      "1   Ahmet     74     56         88         85\n",
      "2  Mehmet     77     73         82         87\n",
      "\n",
      "\n",
      "\n",
      "\n",
      "Veri Çerçevesinden \"kimya\" ve \"matematik\" sütunları silindikten sonra\n",
      "--------------\n",
      "     isim  fizik  sosyoloji\n",
      "0     Ali     68         96\n",
      "1   Ahmet     74         85\n",
      "2  Mehmet     77         87\n"
     ]
    }
   ],
   "source": [
    "import pandas as pd\n",
    "\n",
    "# Veri Çerçevesinden Sütun Silme\n",
    "\t\n",
    "df_marks = pd.DataFrame(\n",
    "\t[['Ali', 68, 84, 78, 96],\n",
    "\t['Ahmet', 74, 56, 88, 85],\n",
    "\t['Mehmet', 77, 73, 82, 87]],\n",
    "\tcolumns=['isim', 'fizik', 'kimya','matematik','sosyoloji'])\n",
    "print('Orijinal Veri Çerçevesi\\n------------------------')\n",
    "print(df_marks)\n",
    "\n",
    "print('\\n')\n",
    "\n",
    "# veri çerçevesinden iki sütun sil\n",
    "df_marks = df_marks.drop(['kimya', 'matematik'], axis=1)\n",
    "print('\\n\\nVeri Çerçevesinden \"kimya\" ve \"matematik\" sütunları silindikten sonra\\n--------------')\n",
    "print(df_marks)"
   ]
  },
  {
   "cell_type": "code",
   "execution_count": 29,
   "metadata": {},
   "outputs": [
    {
     "name": "stdout",
     "output_type": "stream",
     "text": [
      "Varsayılan İndeks Değeri ile Veri Çerçevesi\n",
      "    ogrenci_no   isim  fizik  kimya\n",
      "0          21    Ali     72     67\n",
      "1          23   Ayşe     78     69\n",
      "2          32  Fatma     74     56\n",
      "3          52  Murat     54     76\n"
     ]
    }
   ],
   "source": [
    "import pandas as pd\n",
    "\n",
    "# Veri Çerçevesi Oluştur\n",
    "df = pd.DataFrame(\n",
    "\t[[21, 'Ali', 72, 67],\n",
    "\t[23, 'Ayşe', 78, 69],\n",
    "\t[32, 'Fatma', 74, 56],\n",
    "\t[52, 'Murat', 54, 76]],\n",
    "\tcolumns=['ogrenci_no', 'isim', 'fizik', 'kimya'])\n",
    "\n",
    "print('Varsayılan İndeks Değeri ile Veri Çerçevesi\\n', df)\n",
    "\n",
    "# Bir sütunun değerlerinin indeks olarak belirlenmesi\n",
    "df = df.set_index('ogrenci_no')\n"
   ]
  },
  {
   "cell_type": "code",
   "execution_count": 30,
   "metadata": {},
   "outputs": [
    {
     "name": "stdout",
     "output_type": "stream",
     "text": [
      "Varsayılan İndeks Değeri ile Veri Çerçevesi\n",
      "    ogrenci_no   isim  fizik  kimya\n",
      "0          21    Ali     72     67\n",
      "1          23   Ayşe     78     69\n",
      "2          32  Fatma     74     56\n",
      "3          52  Murat     54     76\n"
     ]
    }
   ],
   "source": [
    "import pandas as pd\n",
    "\n",
    "# Veri Çerçevesi Oluştur\n",
    "df = pd.DataFrame(\n",
    "\t[[21, 'Ali', 72, 67],\n",
    "\t[23, 'Ayşe', 78, 69],\n",
    "\t[32, 'Fatma', 74, 56],\n",
    "\t[52, 'Murat', 54, 76]],\n",
    "\tcolumns=['ogrenci_no', 'isim', 'fizik', 'kimya'])\n",
    "\n",
    "print('Varsayılan İndeks Değeri ile Veri Çerçevesi\\n', df)\n",
    "\n",
    "# Birden fazla sütunun değerlerinin indeks olarak belirlenmesi\n",
    "df = df.set_index(['ogrenci_no', 'isim'])"
   ]
  },
  {
   "cell_type": "code",
   "execution_count": 31,
   "metadata": {},
   "outputs": [
    {
     "name": "stdout",
     "output_type": "stream",
     "text": [
      "0 :  elma meyvesinde 68 kalori vardır.\n",
      "1 :  muz meyvesinde 74 kalori vardır.\n",
      "2 :  portakal meyvesinde 77 kalori vardır.\n",
      "3 :  mango meyvesinde 78 kalori vardır.\n"
     ]
    }
   ],
   "source": [
    "import pandas as pd\n",
    "\n",
    "# veri çerçevesi oluştur\n",
    "df_marks = pd.DataFrame({\n",
    "    'isim': ['elma', 'muz', 'portakal', 'mango'],\n",
    "\t'kalori': [68, 74, 77, 78]})\n",
    "\n",
    "# her bir satırda gez\n",
    "for index, row in df_marks.iterrows():\n",
    "    print(index, ': ', row['isim'], 'meyvesinde', row['kalori'], 'kalori vardır.')\n"
   ]
  },
  {
   "cell_type": "code",
   "execution_count": 32,
   "metadata": {},
   "outputs": [
    {
     "name": "stdout",
     "output_type": "stream",
     "text": [
      "elma meyvesinde 68 kalori vardır.\n",
      "muz meyvesinde 74 kalori vardır.\n",
      "portakal meyvesinde 77 kalori vardır.\n",
      "mango meyvesinde 78 kalori vardır.\n"
     ]
    }
   ],
   "source": [
    "import pandas as pd\n",
    "\n",
    "# veri çerçevesi oluştur\n",
    "df_marks = pd.DataFrame({\n",
    "    'isim': ['elma', 'muz', 'portakal', 'mango'],\n",
    "\t'kalori': [68, 74, 77, 78]})\n",
    "\n",
    "# her bir satırda gez\n",
    "for index, row in df_marks.iterrows():\n",
    "    print(row['isim'], 'meyvesinde', row['kalori'], 'kalori vardır.')\n"
   ]
  },
  {
   "cell_type": "code",
   "execution_count": 33,
   "metadata": {},
   "outputs": [
    {
     "name": "stdout",
     "output_type": "stream",
     "text": [
      "Orijinal Veri Çerçevesi\n",
      "------------------------\n",
      "     isim  fizik  kimya  matematik  sosyoloji\n",
      "0     Ali     68     84         78         96\n",
      "1   Ahmet     74     56         88         85\n",
      "2  Mehmet     77     73         82         87\n",
      "\n",
      "\n",
      "\n",
      "\n",
      "Satır Eklenmiş Veri Çerçevesi\n",
      "--------------------------\n",
      "     isim  fizik  kimya  matematik  sosyoloji\n",
      "0     Ali     68     84         78         96\n",
      "1   Ahmet     74     56         88         85\n",
      "2  Mehmet     77     73         82         87\n",
      "3   Celal     87     92         97         55\n"
     ]
    }
   ],
   "source": [
    "import pandas as pd\n",
    "\n",
    "# Veri Çerçevesine Satır Ekleme\n",
    "\t\n",
    "df_marks = pd.DataFrame(\n",
    "\t[['Ali', 68, 84, 78, 96],\n",
    "\t['Ahmet', 74, 56, 88, 85],\n",
    "\t['Mehmet', 77, 73, 82, 87]],\n",
    "\tcolumns=['isim', 'fizik', 'kimya','matematik','sosyoloji'])\n",
    "print('Orijinal Veri Çerçevesi\\n------------------------')\n",
    "print(df_marks)\n",
    "\n",
    "print('\\n')\n",
    "\n",
    "new_row = {'isim':'Celal', 'fizik':87, 'kimya':92, 'matematik':97, 'sosyoloji':55}\n",
    "# satır eklie\n",
    "df_marks = df_marks.append(new_row, ignore_index=True)\n",
    "\n",
    "print('\\n\\nSatır Eklenmiş Veri Çerçevesi\\n--------------------------')\n",
    "print(df_marks)"
   ]
  },
  {
   "cell_type": "code",
   "execution_count": 34,
   "metadata": {},
   "outputs": [
    {
     "name": "stdout",
     "output_type": "stream",
     "text": [
      "Orijinal Veri Çerçevesi\n",
      "------------------------\n",
      "     isim  fizik  kimya  matematik  sosyoloji\n",
      "0     Ali     68     84         78         96\n",
      "1   Ahmet     74     56         88         85\n",
      "2  Mehmet     77     73         82         87\n",
      "\n",
      "\n"
     ]
    },
    {
     "ename": "TypeError",
     "evalue": "Can only append a dict if ignore_index=True",
     "output_type": "error",
     "traceback": [
      "\u001b[1;31m---------------------------------------------------------------------------\u001b[0m",
      "\u001b[1;31mTypeError\u001b[0m                                 Traceback (most recent call last)",
      "\u001b[1;32m<ipython-input-34-ae23946732c6>\u001b[0m in \u001b[0;36m<module>\u001b[1;34m\u001b[0m\n\u001b[0;32m     15\u001b[0m \u001b[0mnew_row\u001b[0m \u001b[1;33m=\u001b[0m \u001b[1;33m{\u001b[0m\u001b[1;34m'isim'\u001b[0m\u001b[1;33m:\u001b[0m\u001b[1;34m'Celal'\u001b[0m\u001b[1;33m,\u001b[0m \u001b[1;34m'fizik'\u001b[0m\u001b[1;33m:\u001b[0m\u001b[1;36m87\u001b[0m\u001b[1;33m,\u001b[0m \u001b[1;34m'kimya'\u001b[0m\u001b[1;33m:\u001b[0m\u001b[1;36m92\u001b[0m\u001b[1;33m,\u001b[0m \u001b[1;34m'matematik'\u001b[0m\u001b[1;33m:\u001b[0m\u001b[1;36m97\u001b[0m\u001b[1;33m,\u001b[0m \u001b[1;34m'sosyoloji'\u001b[0m\u001b[1;33m:\u001b[0m\u001b[1;36m55\u001b[0m\u001b[1;33m}\u001b[0m\u001b[1;33m\u001b[0m\u001b[1;33m\u001b[0m\u001b[0m\n\u001b[0;32m     16\u001b[0m \u001b[1;31m# satır eklie\u001b[0m\u001b[1;33m\u001b[0m\u001b[1;33m\u001b[0m\u001b[1;33m\u001b[0m\u001b[0m\n\u001b[1;32m---> 17\u001b[1;33m \u001b[0mdf_marks\u001b[0m \u001b[1;33m=\u001b[0m \u001b[0mdf_marks\u001b[0m\u001b[1;33m.\u001b[0m\u001b[0mappend\u001b[0m\u001b[1;33m(\u001b[0m\u001b[0mnew_row\u001b[0m\u001b[1;33m,\u001b[0m \u001b[0mignore_index\u001b[0m\u001b[1;33m=\u001b[0m\u001b[1;32mFalse\u001b[0m\u001b[1;33m)\u001b[0m\u001b[1;33m\u001b[0m\u001b[1;33m\u001b[0m\u001b[0m\n\u001b[0m\u001b[0;32m     18\u001b[0m \u001b[1;31m# yukarıdaki ifadenin hata vermesini bekliyoruz!....\u001b[0m\u001b[1;33m\u001b[0m\u001b[1;33m\u001b[0m\u001b[1;33m\u001b[0m\u001b[0m\n\u001b[0;32m     19\u001b[0m \u001b[1;33m\u001b[0m\u001b[0m\n",
      "\u001b[1;32m~\\anaconda33\\lib\\site-packages\\pandas\\core\\frame.py\u001b[0m in \u001b[0;36mappend\u001b[1;34m(self, other, ignore_index, verify_integrity, sort)\u001b[0m\n\u001b[0;32m   7705\u001b[0m             \u001b[1;32mif\u001b[0m \u001b[0misinstance\u001b[0m\u001b[1;33m(\u001b[0m\u001b[0mother\u001b[0m\u001b[1;33m,\u001b[0m \u001b[0mdict\u001b[0m\u001b[1;33m)\u001b[0m\u001b[1;33m:\u001b[0m\u001b[1;33m\u001b[0m\u001b[1;33m\u001b[0m\u001b[0m\n\u001b[0;32m   7706\u001b[0m                 \u001b[1;32mif\u001b[0m \u001b[1;32mnot\u001b[0m \u001b[0mignore_index\u001b[0m\u001b[1;33m:\u001b[0m\u001b[1;33m\u001b[0m\u001b[1;33m\u001b[0m\u001b[0m\n\u001b[1;32m-> 7707\u001b[1;33m                     \u001b[1;32mraise\u001b[0m \u001b[0mTypeError\u001b[0m\u001b[1;33m(\u001b[0m\u001b[1;34m\"Can only append a dict if ignore_index=True\"\u001b[0m\u001b[1;33m)\u001b[0m\u001b[1;33m\u001b[0m\u001b[1;33m\u001b[0m\u001b[0m\n\u001b[0m\u001b[0;32m   7708\u001b[0m                 \u001b[0mother\u001b[0m \u001b[1;33m=\u001b[0m \u001b[0mSeries\u001b[0m\u001b[1;33m(\u001b[0m\u001b[0mother\u001b[0m\u001b[1;33m)\u001b[0m\u001b[1;33m\u001b[0m\u001b[1;33m\u001b[0m\u001b[0m\n\u001b[0;32m   7709\u001b[0m             \u001b[1;32mif\u001b[0m \u001b[0mother\u001b[0m\u001b[1;33m.\u001b[0m\u001b[0mname\u001b[0m \u001b[1;32mis\u001b[0m \u001b[1;32mNone\u001b[0m \u001b[1;32mand\u001b[0m \u001b[1;32mnot\u001b[0m \u001b[0mignore_index\u001b[0m\u001b[1;33m:\u001b[0m\u001b[1;33m\u001b[0m\u001b[1;33m\u001b[0m\u001b[0m\n",
      "\u001b[1;31mTypeError\u001b[0m: Can only append a dict if ignore_index=True"
     ]
    }
   ],
   "source": [
    "import pandas as pd\n",
    "\n",
    "# Veri Çerçevesine Satır Ekleme\n",
    "\t\n",
    "df_marks = pd.DataFrame(\n",
    "\t[['Ali', 68, 84, 78, 96],\n",
    "\t['Ahmet', 74, 56, 88, 85],\n",
    "\t['Mehmet', 77, 73, 82, 87]],\n",
    "\tcolumns=['isim', 'fizik', 'kimya','matematik','sosyoloji'])\n",
    "print('Orijinal Veri Çerçevesi\\n------------------------')\n",
    "print(df_marks)\n",
    "\n",
    "print('\\n')\n",
    "\n",
    "new_row = {'isim':'Celal', 'fizik':87, 'kimya':92, 'matematik':97, 'sosyoloji':55}\n",
    "# satır eklie\n",
    "df_marks = df_marks.append(new_row, ignore_index=False)\n",
    "# yukarıdaki ifadenin hata vermesini bekliyoruz!....\n",
    "\n",
    "print('\\n\\nSatır Eklenmiş Veri Çerçevesi\\n--------------------------')\n",
    "print(df_marks)\n"
   ]
  },
  {
   "cell_type": "code",
   "execution_count": 35,
   "metadata": {},
   "outputs": [
    {
     "name": "stdout",
     "output_type": "stream",
     "text": [
      "Veri Çerçevesi\n",
      "----------\n",
      "     a   b   c\n",
      "0  21  72  67\n",
      "1  23  78  69\n",
      "2  32  74  56\n",
      "3  52  54  76\n",
      "\n",
      "İlgili Numpy Array\n",
      "----------\n",
      " [[21 72 67]\n",
      " [23 78 69]\n",
      " [32 74 56]\n",
      " [52 54 76]]\n"
     ]
    }
   ],
   "source": [
    "import pandas as pd\n",
    "\n",
    "#i Veri Çerçevesi\n",
    "df = pd.DataFrame(\n",
    "\t[[21, 72, 67],\n",
    "\t[23, 78, 69],\n",
    "\t[32, 74, 56],\n",
    "\t[52, 54, 76]],\n",
    "\tcolumns=['a', 'b', 'c'])\n",
    "\n",
    "print('Veri Çerçevesi\\n----------\\n', df)\n",
    "\n",
    "# Veri Çerçevesini to Numpy array'e dönüştür\n",
    "arr = df.to_numpy()\n",
    "\n",
    "print('\\nİlgili Numpy Array\\n----------\\n', arr)"
   ]
  },
  {
   "cell_type": "code",
   "execution_count": 1,
   "metadata": {},
   "outputs": [
    {
     "name": "stdout",
     "output_type": "stream",
     "text": [
      "Birinci Küme  {65, 42, 78, 83, 23, 57, 29}\n",
      "İkinci Küme  {67, 73, 42, 43, 48, 57, 29}\n",
      "Kesişim:  {57, 42, 29}\n",
      "Ortak Elemanlar Çıkarıldıktan Sonra Birinci Küme:  {65, 78, 83, 23}\n",
      "Ortak Elemanlar Çıkarıldıktan Sonra İkinci Küme:  {67, 73, 43, 48}\n"
     ]
    }
   ],
   "source": [
    "# Küme Kesişim ve Fark Egzersizi - Ödev Sorusu (11.01.2023)\n",
    "\n",
    "birinci_kume = {23, 42, 65, 57, 78, 83, 29}\n",
    "ikinci_kume = {57, 42, 29, 67, 73, 43, 48}\n",
    "\n",
    "print(\"Birinci Küme \", birinci_kume)\n",
    "print(\"İkinci Küme \", ikinci_kume)\n",
    "\n",
    "intersection = birinci_kume.intersection(ikinci_kume)\n",
    "print(\"Kesişim: \", intersection)\n",
    "for item in intersection:\n",
    "    birinci_kume.remove(item)\n",
    "    ikinci_kume.remove(item)\n",
    "\n",
    "print(\"Ortak Elemanlar Çıkarıldıktan Sonra Birinci Küme: \", birinci_kume)\n",
    "print(\"Ortak Elemanlar Çıkarıldıktan Sonra İkinci Küme: \", ikinci_kume)"
   ]
  },
  {
   "cell_type": "code",
   "execution_count": null,
   "metadata": {},
   "outputs": [],
   "source": []
  }
 ],
 "metadata": {
  "kernelspec": {
   "display_name": "Python 3",
   "language": "python",
   "name": "python3"
  },
  "language_info": {
   "codemirror_mode": {
    "name": "ipython",
    "version": 3
   },
   "file_extension": ".py",
   "mimetype": "text/x-python",
   "name": "python",
   "nbconvert_exporter": "python",
   "pygments_lexer": "ipython3",
   "version": "3.8.3"
  }
 },
 "nbformat": 4,
 "nbformat_minor": 4
}
