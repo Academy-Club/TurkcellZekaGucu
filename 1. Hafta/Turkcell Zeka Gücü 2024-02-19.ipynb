{
 "cells": [
  {
   "cell_type": "code",
   "execution_count": 3,
   "metadata": {},
   "outputs": [
    {
     "name": "stdout",
     "output_type": "stream",
     "text": [
      "Merhaba Dünya\n"
     ]
    }
   ],
   "source": [
    "print('Merhaba Dünya')"
   ]
  },
  {
   "cell_type": "code",
   "execution_count": 8,
   "metadata": {},
   "outputs": [
    {
     "name": "stdout",
     "output_type": "stream",
     "text": [
      "Merhaba Dünyalı!...\n"
     ]
    }
   ],
   "source": [
    "print(\"Merhaba Dünyalı!...\")"
   ]
  },
  {
   "cell_type": "code",
   "execution_count": 17,
   "metadata": {},
   "outputs": [
    {
     "name": "stdout",
     "output_type": "stream",
     "text": [
      "Hoşgeldiniz!...\n",
      "Nasılsınız?\n"
     ]
    }
   ],
   "source": [
    "karsilama_metni = \"Hoşgeldiniz!...\"\n",
    "print(karsilama_metni)\n",
    "\n",
    "karsilama_metni = \"Nasılsınız?\"\n",
    "print(karsilama_metni)"
   ]
  },
  {
   "cell_type": "code",
   "execution_count": 18,
   "metadata": {},
   "outputs": [
    {
     "data": {
      "text/plain": [
       "str"
      ]
     },
     "execution_count": 18,
     "metadata": {},
     "output_type": "execute_result"
    }
   ],
   "source": [
    "type(karsilama_metni)"
   ]
  },
  {
   "cell_type": "code",
   "execution_count": 19,
   "metadata": {},
   "outputs": [
    {
     "data": {
      "text/plain": [
       "140357493307408"
      ]
     },
     "execution_count": 19,
     "metadata": {},
     "output_type": "execute_result"
    }
   ],
   "source": [
    "id(karsilama_metni)"
   ]
  },
  {
   "cell_type": "code",
   "execution_count": 20,
   "metadata": {},
   "outputs": [],
   "source": [
    "karsilama_metni2 = \"İyi misiniz?\""
   ]
  },
  {
   "cell_type": "code",
   "execution_count": 21,
   "metadata": {},
   "outputs": [
    {
     "data": {
      "text/plain": [
       "140357493308528"
      ]
     },
     "execution_count": 21,
     "metadata": {},
     "output_type": "execute_result"
    }
   ],
   "source": [
    "id(karsilama_metni2)"
   ]
  },
  {
   "cell_type": "code",
   "execution_count": 33,
   "metadata": {},
   "outputs": [
    {
     "name": "stdout",
     "output_type": "stream",
     "text": [
      "Python Eğitimi 2021\n",
      "Python Eğitimi 2021online olarak 'Collaborate' platformunda gerçekleştiriliyor!...\n"
     ]
    }
   ],
   "source": [
    "metin1 = 'Python' + ' Eğitimi' + ' 2021'\n",
    "print(metin1)\n",
    "metin2 = \"online olarak 'Collaborate' platformunda gerçekleştiriliyor!...\" \n",
    "print(metin1 + metin2)"
   ]
  },
  {
   "cell_type": "code",
   "execution_count": 37,
   "metadata": {
    "cocalc": {
     "outputs": {
      "0": {
       "name": "input",
       "opts": {
        "password": false,
        "prompt": "İsminiz nedir? "
       },
       "output_type": "stream",
       "value": "Egemen"
      }
     }
    }
   },
   "outputs": [
    {
     "name": "stdout",
     "output_type": "stream",
     "text": [
      "İsminiz nedir?  Egemen"
     ]
    }
   ],
   "source": [
    "metin3 = 3 * \"w\" * 5\n",
    "print(metin3)"
   ]
  },
  {
   "cell_type": "code",
   "execution_count": 38,
   "metadata": {
    "cocalc": {
     "outputs": {
      "0": {
       "name": "input",
       "opts": {
        "password": false,
        "prompt": "Yaşınız: "
       },
       "output_type": "stream",
       "value": "32"
      }
     }
    }
   },
   "outputs": [
    {
     "name": "stdout",
     "output_type": "stream",
     "text": [
      "Yaşınız:  32"
     ]
    }
   ],
   "source": [
    "sayi1 = 1\n",
    "type(sayi1)"
   ]
  },
  {
   "cell_type": "code",
   "execution_count": 39,
   "metadata": {},
   "outputs": [
    {
     "data": {
      "text/plain": [
       "float"
      ]
     },
     "execution_count": 39,
     "metadata": {},
     "output_type": "execute_result"
    }
   ],
   "source": [
    "sayi2 = 1.0\n",
    "type(sayi2)"
   ]
  },
  {
   "cell_type": "code",
   "execution_count": 40,
   "metadata": {},
   "outputs": [
    {
     "data": {
      "text/plain": [
       "int"
      ]
     },
     "execution_count": 40,
     "metadata": {},
     "output_type": "execute_result"
    }
   ],
   "source": [
    "sayi3 = -1\n",
    "type(sayi3)"
   ]
  },
  {
   "cell_type": "code",
   "execution_count": 51,
   "metadata": {},
   "outputs": [
    {
     "name": "stdout",
     "output_type": "stream",
     "text": [
      "(2+3j)\n"
     ]
    },
    {
     "data": {
      "text/plain": [
       "complex"
      ]
     },
     "execution_count": 51,
     "metadata": {},
     "output_type": "execute_result"
    }
   ],
   "source": [
    "sayi4 = 2.0+3.0j\n",
    "print(sayi4)\n",
    "type(sayi4)"
   ]
  },
  {
   "cell_type": "code",
   "execution_count": 0,
   "metadata": {},
   "outputs": [],
   "source": [
    "* + - / // %      **      "
   ]
  },
  {
   "cell_type": "code",
   "execution_count": 55,
   "metadata": {},
   "outputs": [
    {
     "name": "stdout",
     "output_type": "stream",
     "text": [
      "1.6288946267774416e+20\n"
     ]
    },
    {
     "data": {
      "text/plain": [
       "float"
      ]
     },
     "execution_count": 55,
     "metadata": {},
     "output_type": "execute_result"
    }
   ],
   "source": [
    "sayi5 = 105.0 ** 10\n",
    "print(sayi5)\n",
    "type(sayi5)"
   ]
  },
  {
   "cell_type": "code",
   "execution_count": 56,
   "metadata": {},
   "outputs": [
    {
     "name": "stdout",
     "output_type": "stream",
     "text": [
      "4545\n"
     ]
    }
   ],
   "source": [
    "deneme_degiskeni1 = \"45\" + \"45\"\n",
    "print(deneme_degiskeni1)"
   ]
  },
  {
   "cell_type": "code",
   "execution_count": 57,
   "metadata": {},
   "outputs": [
    {
     "name": "stdout",
     "output_type": "stream",
     "text": [
      "90\n"
     ]
    }
   ],
   "source": [
    "deneme_degiskeni2 = 45 + 45\n",
    "print(deneme_degiskeni2)"
   ]
  },
  {
   "cell_type": "code",
   "execution_count": 59,
   "metadata": {},
   "outputs": [
    {
     "name": "stdout",
     "output_type": "stream",
     "text": [
      "4545\n"
     ]
    }
   ],
   "source": [
    "deneme_degiskeni3 = \"45\" + str(45)\n",
    "print(deneme_degiskeni3)"
   ]
  },
  {
   "cell_type": "code",
   "execution_count": 60,
   "metadata": {},
   "outputs": [],
   "source": [
    "import keyword"
   ]
  },
  {
   "cell_type": "code",
   "execution_count": 61,
   "metadata": {},
   "outputs": [
    {
     "data": {
      "text/plain": [
       "['False',\n",
       " 'None',\n",
       " 'True',\n",
       " 'and',\n",
       " 'as',\n",
       " 'assert',\n",
       " 'async',\n",
       " 'await',\n",
       " 'break',\n",
       " 'class',\n",
       " 'continue',\n",
       " 'def',\n",
       " 'del',\n",
       " 'elif',\n",
       " 'else',\n",
       " 'except',\n",
       " 'finally',\n",
       " 'for',\n",
       " 'from',\n",
       " 'global',\n",
       " 'if',\n",
       " 'import',\n",
       " 'in',\n",
       " 'is',\n",
       " 'lambda',\n",
       " 'nonlocal',\n",
       " 'not',\n",
       " 'or',\n",
       " 'pass',\n",
       " 'raise',\n",
       " 'return',\n",
       " 'try',\n",
       " 'while',\n",
       " 'with',\n",
       " 'yield']"
      ]
     },
     "execution_count": 61,
     "metadata": {},
     "output_type": "execute_result"
    }
   ],
   "source": [
    "keyword.kwlist"
   ]
  },
  {
   "cell_type": "code",
   "execution_count": 62,
   "metadata": {},
   "outputs": [
    {
     "ename": "SyntaxError",
     "evalue": "invalid syntax (<ipython-input-62-fb3737c0ed64>, line 1)",
     "output_type": "error",
     "traceback": [
      "\u001b[0;36m  File \u001b[0;32m\"<ipython-input-62-fb3737c0ed64>\"\u001b[0;36m, line \u001b[0;32m1\u001b[0m\n\u001b[0;31m    try = 13\u001b[0m\n\u001b[0m        ^\u001b[0m\n\u001b[0;31mSyntaxError\u001b[0m\u001b[0;31m:\u001b[0m invalid syntax\n"
     ]
    }
   ],
   "source": [
    "try = 13"
   ]
  },
  {
   "cell_type": "code",
   "execution_count": 63,
   "metadata": {},
   "outputs": [
    {
     "ename": "SyntaxError",
     "evalue": "invalid decimal literal (<ipython-input-63-da22b3a13c0b>, line 1)",
     "output_type": "error",
     "traceback": [
      "\u001b[0;36m  File \u001b[0;32m\"<ipython-input-63-da22b3a13c0b>\"\u001b[0;36m, line \u001b[0;32m1\u001b[0m\n\u001b[0;31m    3_nolu_degisken = 5\u001b[0m\n\u001b[0m     ^\u001b[0m\n\u001b[0;31mSyntaxError\u001b[0m\u001b[0;31m:\u001b[0m invalid decimal literal\n"
     ]
    }
   ],
   "source": [
    "3_nolu_degisken = 5"
   ]
  },
  {
   "cell_type": "code",
   "execution_count": 7,
   "metadata": {},
   "outputs": [],
   "source": [
    "_degisken = 48"
   ]
  },
  {
   "cell_type": "code",
   "execution_count": 71,
   "metadata": {},
   "outputs": [],
   "source": [
    "degisken = 55\n",
    "Degisken = 77\n",
    "dEgisken = 99\n",
    "değişken = 111"
   ]
  },
  {
   "cell_type": "code",
   "execution_count": 72,
   "metadata": {},
   "outputs": [
    {
     "name": "stdout",
     "output_type": "stream",
     "text": [
      "55\n",
      "77\n",
      "99\n",
      "111\n"
     ]
    }
   ],
   "source": [
    "print(degisken)\n",
    "print(Degisken)\n",
    "print(dEgisken)\n",
    "print(değişken)"
   ]
  },
  {
   "cell_type": "code",
   "execution_count": 79,
   "metadata": {},
   "outputs": [
    {
     "name": "stdout",
     "output_type": "stream",
     "text": [
      "4567\n",
      "<class 'str'>\n"
     ]
    },
    {
     "data": {
      "text/plain": [
       "4"
      ]
     },
     "execution_count": 79,
     "metadata": {},
     "output_type": "execute_result"
    }
   ],
   "source": [
    "deneme_degiskeni_5 = str(4567)\n",
    "print(deneme_degiskeni_5)\n",
    "print(type(deneme_degiskeni_5))\n",
    "len(deneme_degiskeni_5)"
   ]
  },
  {
   "cell_type": "code",
   "execution_count": 58,
   "metadata": {},
   "outputs": [
    {
     "name": "stdout",
     "output_type": "stream",
     "text": [
      "-----------------------------------\n",
      "Çalışılan Gün Sayısı\t: 22\n",
      "Otobüs Bilet Ücreti\t: 1.75 TL\n",
      "Dolmuş Bilet Ücreti\t: 3.75 TL\n",
      "-----------------------------------\n",
      "AYLIK YOL MASRAFI\t: 121.0 TL\n",
      "-----------------------------------\n"
     ]
    }
   ],
   "source": [
    "calisma_gunu_sayisi = 22\n",
    "otobus_bilet_ucreti = 1.75\n",
    "dolmus_bilet_ucreti = 3.75\n",
    "# Aylık Yol Masrafı'nı hesapla\n",
    "aylik_yol_masrafi = calisma_gunu_sayisi * (otobus_bilet_ucreti + dolmus_bilet_ucreti)\n",
    "\n",
    "print(\"-\"*35)\n",
    "print(\"Çalışılan Gün Sayısı\\t:\", calisma_gunu_sayisi)\n",
    "print(\"Otobüs Bilet Ücreti\\t:\", otobus_bilet_ucreti, \"TL\")\n",
    "print(\"Dolmuş Bilet Ücreti\\t:\", dolmus_bilet_ucreti, \"TL\")\n",
    "print(\"-\"*35)\n",
    "print(\"AYLIK YOL MASRAFI\\t:\", aylik_yol_masrafi, \"TL\")\n",
    "print(\"-\"*35)"
   ]
  },
  {
   "cell_type": "code",
   "execution_count": 13,
   "metadata": {},
   "outputs": [
    {
     "name": "stdout",
     "output_type": "stream",
     "text": [
      "78.53975\n",
      "78.53975\n",
      "78.53975\n"
     ]
    }
   ],
   "source": [
    "cap = 10\n",
    "yaricap = cap / 2\n",
    "pi = 3.14159\n",
    "alan = pi * (yaricap * yaricap)\n",
    "print(alan)\n",
    "alan2 = pi * (yaricap ** 2)\n",
    "print(alan2)\n",
    "alan3 = pi * pow(yaricap, 2)\n",
    "print(alan3)"
   ]
  },
  {
   "cell_type": "code",
   "execution_count": 14,
   "metadata": {},
   "outputs": [
    {
     "name": "stdout",
     "output_type": "stream",
     "text": [
      "32\n",
      "2\n"
     ]
    }
   ],
   "source": [
    "# bu satır tamamen yorum satırıdır\n",
    "sayi1 = pow(2, 5)  # 2 üzeri 5\n",
    "sayi2 = pow(2, 5, 3)   # 2 üzeri 5 mod 3\n",
    "print(sayi1)\n",
    "print(sayi2)"
   ]
  },
  {
   "cell_type": "code",
   "execution_count": 15,
   "metadata": {},
   "outputs": [
    {
     "name": "stdout",
     "output_type": "stream",
     "text": [
      "4\n",
      "4\n",
      "4\n"
     ]
    }
   ],
   "source": [
    "A = 4\n",
    "B = 4\n",
    "C = 4\n",
    "print(A)\n",
    "print(B)\n",
    "print(C)"
   ]
  },
  {
   "cell_type": "code",
   "execution_count": 16,
   "metadata": {},
   "outputs": [
    {
     "name": "stdout",
     "output_type": "stream",
     "text": [
      "4\n",
      "4\n",
      "4\n"
     ]
    }
   ],
   "source": [
    "A = B = C = 4\n",
    "print(A)\n",
    "print(B)\n",
    "print(C)"
   ]
  },
  {
   "cell_type": "code",
   "execution_count": 19,
   "metadata": {},
   "outputs": [
    {
     "name": "stdout",
     "output_type": "stream",
     "text": [
      "5\n",
      "9\n"
     ]
    }
   ],
   "source": [
    "A = 5\n",
    "B = 9\n",
    "print(A)\n",
    "print(B)"
   ]
  },
  {
   "cell_type": "code",
   "execution_count": 20,
   "metadata": {},
   "outputs": [
    {
     "name": "stdout",
     "output_type": "stream",
     "text": [
      "9\n",
      "5\n"
     ]
    }
   ],
   "source": [
    "A, B = B, A\n",
    "print(A)\n",
    "print(B)"
   ]
  },
  {
   "cell_type": "code",
   "execution_count": 21,
   "metadata": {},
   "outputs": [
    {
     "name": "stdout",
     "output_type": "stream",
     "text": [
      "5\n",
      "9\n"
     ]
    }
   ],
   "source": [
    "B, A = A, B\n",
    "print(A)\n",
    "print(B)"
   ]
  },
  {
   "cell_type": "code",
   "execution_count": 22,
   "metadata": {},
   "outputs": [
    {
     "name": "stdout",
     "output_type": "stream",
     "text": [
      " Python Eğitimi \n"
     ]
    }
   ],
   "source": [
    "print(\"\"\" Python Eğitimi \"\"\")"
   ]
  },
  {
   "cell_type": "code",
   "execution_count": 23,
   "metadata": {},
   "outputs": [
    {
     "name": "stdout",
     "output_type": "stream",
     "text": [
      "\n",
      "------------------------\n",
      "|     Hoşgeldiniz!     |\n",
      "|      29.06.2021      |\n",
      "------------------------\n",
      "\n"
     ]
    }
   ],
   "source": [
    "print(\"\"\"\n",
    "... ------------------------\n",
    "... |     Hoşgeldiniz!     |\n",
    "... |      29.06.2021      |\n",
    "... ------------------------\n",
    "... \"\"\")"
   ]
  },
  {
   "cell_type": "code",
   "execution_count": 24,
   "metadata": {},
   "outputs": [
    {
     "name": "stdout",
     "output_type": "stream",
     "text": [
      "Ankara Üniversitesi Python Eğitimi\n"
     ]
    }
   ],
   "source": [
    "print(\"Ankara\", \"Üniversitesi\", \"Python\", \"Eğitimi\")"
   ]
  },
  {
   "cell_type": "code",
   "execution_count": 27,
   "metadata": {},
   "outputs": [
    {
     "name": "stdout",
     "output_type": "stream",
     "text": [
      "Ankara...Üniversitesi...Python...Eğitimi\n"
     ]
    }
   ],
   "source": [
    "print(\"Ankara\", \"Üniversitesi\", \"Python\", \"Eğitimi\", sep=\"...\")"
   ]
  },
  {
   "cell_type": "code",
   "execution_count": 37,
   "metadata": {},
   "outputs": [
    {
     "name": "stdout",
     "output_type": "stream",
     "text": [
      "Bir İki Üç Dört Mumdur."
     ]
    }
   ],
   "source": [
    "print(\"Bir\", \"İki\", \"Üç\", \"Dört\", end = \" Mumdur.\")"
   ]
  },
  {
   "cell_type": "code",
   "execution_count": 40,
   "metadata": {},
   "outputs": [
    {
     "name": "stdout",
     "output_type": "stream",
     "text": [
      "A.n.k.a.r.a\n"
     ]
    }
   ],
   "source": [
    "print(*\"Ankara\", sep=\".\")"
   ]
  },
  {
   "cell_type": "code",
   "execution_count": 43,
   "metadata": {},
   "outputs": [
    {
     "name": "stdout",
     "output_type": "stream",
     "text": [
      "Ankara'ya gidiyorum\n",
      "Ankara'ya gidiyorum\n",
      "\"book\" sözcüğü \"kitap\" manasına gelir\n"
     ]
    }
   ],
   "source": [
    "# Escape Sequences ->   Kaçış Dizileri\n",
    "# Ankara'ya gidiyorum\n",
    "\n",
    "print(\"Ankara'ya gidiyorum\")\n",
    "print('Ankara\\'ya gidiyorum')\n",
    "\n",
    "print(\"\\\"book\\\" sözcüğü \\\"kitap\\\" manasına gelir\")\n",
    "\n",
    "\n"
   ]
  },
  {
   "cell_type": "code",
   "execution_count": 45,
   "metadata": {},
   "outputs": [
    {
     "name": "stdout",
     "output_type": "stream",
     "text": [
      "Birinci Satır \n",
      "İkinci Satır \n",
      "Üçüncü Satır\n"
     ]
    }
   ],
   "source": [
    "print(\"Birinci Satır \\nİkinci Satır \\nÜçüncü Satır\")"
   ]
  },
  {
   "cell_type": "code",
   "execution_count": 48,
   "metadata": {},
   "outputs": [
    {
     "name": "stdout",
     "output_type": "stream",
     "text": [
      "Ankara Üniversitesi'nin 75. Yılı\n",
      "--------------------------------\n"
     ]
    }
   ],
   "source": [
    "baslik = \"Ankara Üniversitesi'nin 75. Yılı\"\n",
    "print(baslik, \"\\n\", \"-\"*len(baslik), sep=\"\")\n"
   ]
  },
  {
   "cell_type": "code",
   "execution_count": 50,
   "metadata": {},
   "outputs": [
    {
     "name": "stdout",
     "output_type": "stream",
     "text": [
      "İlk Sözcük Grubu \tİkinci Sözcük Grubu\n",
      "3 \t 5\n"
     ]
    }
   ],
   "source": [
    "print(\"İlk Sözcük Grubu \\tİkinci Sözcük Grubu\")\n",
    "print(\"3 \\t 5\")"
   ]
  },
  {
   "cell_type": "code",
   "execution_count": 53,
   "metadata": {},
   "outputs": [
    {
     "name": "stdout",
     "output_type": "stream",
     "text": [
      "B\n"
     ]
    }
   ],
   "source": [
    "print(\"\\x42\")"
   ]
  },
  {
   "cell_type": "code",
   "execution_count": 55,
   "metadata": {},
   "outputs": [
    {
     "name": "stdout",
     "output_type": "stream",
     "text": [
      "Birinci\r",
      "İkinci\n"
     ]
    }
   ],
   "source": [
    "print(\"Birinci\\rİkinci\")"
   ]
  },
  {
   "cell_type": "code",
   "execution_count": 60,
   "metadata": {},
   "outputs": [
    {
     "name": "stdout",
     "output_type": "stream",
     "text": [
      "İsim\t:Ahmet\n",
      "Soyisim\t:Uyar\n",
      "Görev\t:Öğretim Üyesi\n",
      "Birim\t:Mühendislik Fakültesi\n",
      "\n"
     ]
    }
   ],
   "source": [
    "isim = \"Ahmet\"\n",
    "soyisim = \"Uyar\"\n",
    "gorev = \"Öğretim Üyesi\"\n",
    "birim = \"Mühendislik Fakültesi\"\n",
    "\n",
    "print(\"İsim\\t:\", isim, \"\\n\", \"Soyisim\\t:\", soyisim, \"\\n\", \"Görev\\t:\", gorev, \"\\n\", \"Birim\\t:\", birim, \"\\n\", sep =\"\")"
   ]
  },
  {
   "cell_type": "code",
   "execution_count": 64,
   "metadata": {},
   "outputs": [
    {
     "name": "stdout",
     "output_type": "stream",
     "text": [
      "İsim\t:Ahmet\n",
      "Görev\t:Öğretim Üyesi\n",
      "\n"
     ]
    }
   ],
   "source": [
    "print(\"İsim\\t:\", isim, \"\\n\", \n",
    "      #\"Soyisim\\t:\", soyisim, \"\\n\", \n",
    "      \"Görev\\t:\", gorev, \"\\n\", \n",
    "      #\"Birim\\t:\", birim, \"\\n\", \n",
    "      sep =\"\")"
   ]
  },
  {
   "cell_type": "code",
   "execution_count": 65,
   "metadata": {},
   "outputs": [
    {
     "name": "stdout",
     "output_type": "stream",
     "text": [
      "Merhaba Mustafa!...\n"
     ]
    }
   ],
   "source": [
    "isim = \"Mustafa\"\n",
    "print(\"Merhaba\", isim, end=\"!...\\n\")"
   ]
  },
  {
   "cell_type": "code",
   "execution_count": 67,
   "metadata": {
    "cocalc": {
     "outputs": {
      "0": {
       "name": "input",
       "opts": {
        "password": false,
        "prompt": "İsminiz Nedir? "
       },
       "output_type": "stream",
       "value": "Ayla"
      }
     }
    }
   },
   "outputs": [
    {
     "name": "stdout",
     "output_type": "stream",
     "text": [
      "İsminiz Nedir?  AylaMerhaba Ayla!...\n"
     ]
    }
   ],
   "source": [
    "isim = input(\"İsminiz Nedir? \")\n",
    "print(\"Merhaba\", isim, end=\"!...\\n\")"
   ]
  },
  {
   "cell_type": "code",
   "execution_count": 70,
   "metadata": {
    "cocalc": {
     "outputs": {
      "0": {
       "name": "input",
       "opts": {
        "password": false,
        "prompt": "Yaşınız Kaç?"
       },
       "output_type": "stream",
       "value": "55"
      }
     }
    }
   },
   "outputs": [
    {
     "name": "stdout",
     "output_type": "stream",
     "text": [
      "Yaşınız Kaç? 55Hmmmmm!. Demek 55 yaşındasınız!... Ne güzel.\n"
     ]
    }
   ],
   "source": [
    "yas = input(\"Yaşınız Kaç?\")\n",
    "print(\"Hmmmmm!. Demek\", yas, \"yaşındasınız!... Ne güzel.\")\n"
   ]
  },
  {
   "cell_type": "code",
   "execution_count": 71,
   "metadata": {},
   "outputs": [
    {
     "data": {
      "text/plain": [
       "str"
      ]
     },
     "execution_count": 71,
     "metadata": {},
     "output_type": "execute_result"
    }
   ],
   "source": [
    "type(isim)"
   ]
  },
  {
   "cell_type": "code",
   "execution_count": 72,
   "metadata": {},
   "outputs": [
    {
     "data": {
      "text/plain": [
       "str"
      ]
     },
     "execution_count": 72,
     "metadata": {},
     "output_type": "execute_result"
    }
   ],
   "source": [
    "type(yas)"
   ]
  },
  {
   "cell_type": "code",
   "execution_count": 76,
   "metadata": {
    "cocalc": {
     "outputs": {
      "0": {
       "name": "input",
       "opts": {
        "password": false,
        "prompt": "Dairenin Çapını Giriniz: "
       },
       "output_type": "stream",
       "value": "10"
      }
     }
    }
   },
   "outputs": [
    {
     "name": "stdout",
     "output_type": "stream",
     "text": [
      "Dairenin Çapını Giriniz:  10Çapı 10 cm olan dairenin alanı 78.53975 cm2'dir\n"
     ]
    }
   ],
   "source": [
    "cap = input(\"Dairenin Çapını Giriniz: \")\n",
    "yaricap = int(cap) / 2\n",
    "pi = 3.14159\n",
    "alan = pi * (yaricap ** 2)\n",
    "print(\"Çapı\", cap, \"cm olan dairenin alanı\", alan, \"cm2'dir\")"
   ]
  },
  {
   "cell_type": "code",
   "execution_count": 75,
   "metadata": {},
   "outputs": [
    {
     "name": "stdout",
     "output_type": "stream",
     "text": [
      "5.0\n"
     ]
    }
   ],
   "source": [
    "print(yaricap)"
   ]
  },
  {
   "cell_type": "code",
   "execution_count": 77,
   "metadata": {
    "cocalc": {
     "outputs": {
      "0": {
       "name": "input",
       "opts": {
        "password": false,
        "prompt": "Toplama işlemi için ilk sayıyı giriniz: "
       },
       "output_type": "stream",
       "value": "55"
      },
      "1": {
       "name": "input",
       "opts": {
        "password": false,
        "prompt": "Toplama işlemi için ikinci sayıyı giriniz: "
       },
       "output_type": "stream",
       "value": "33"
      }
     }
    }
   },
   "outputs": [
    {
     "name": "stdout",
     "output_type": "stream",
     "text": [
      "Toplama işlemi için ilk sayıyı giriniz:  55Toplama işlemi için ikinci sayıyı giriniz:  3355 + 33 = 88\n"
     ]
    }
   ],
   "source": [
    "girdi1 = input(\"Toplama işlemi için ilk sayıyı giriniz: \")\n",
    "girdi2 = input(\"Toplama işlemi için ikinci sayıyı giriniz: \")\n",
    "\n",
    "sayi1 = int(girdi1)\n",
    "sayi2 = int(girdi2)\n",
    "\n",
    "print(sayi1, \"+\", sayi2, \"=\", sayi1 + sayi2)\n"
   ]
  },
  {
   "cell_type": "code",
   "execution_count": 78,
   "metadata": {
    "cocalc": {
     "outputs": {
      "0": {
       "name": "input",
       "opts": {
        "password": false,
        "prompt": "Bir sayı giriniz: "
       },
       "output_type": "stream",
       "value": "55"
      }
     }
    }
   },
   "outputs": [
    {
     "name": "stdout",
     "output_type": "stream",
     "text": [
      "Bir sayı giriniz:  5555\n"
     ]
    }
   ],
   "source": [
    "sayi3 = int(input(\"Bir sayı giriniz: \"))\n",
    "print(sayi3)"
   ]
  },
  {
   "cell_type": "code",
   "execution_count": 80,
   "metadata": {},
   "outputs": [
    {
     "name": "stdout",
     "output_type": "stream",
     "text": [
      "14\n",
      "(14+0j)\n"
     ]
    }
   ],
   "source": [
    "sayi4 = 14\n",
    "sayi5 = complex(sayi4)\n",
    "print(sayi4)\n",
    "print(sayi5)"
   ]
  },
  {
   "cell_type": "code",
   "execution_count": 85,
   "metadata": {},
   "outputs": [
    {
     "name": "stdout",
     "output_type": "stream",
     "text": [
      "5.0\n",
      "5.0\n"
     ]
    }
   ],
   "source": [
    "sayi6 = \"5.0\"\n",
    "sayi7 = float(sayi6)\n",
    "print(sayi6)\n",
    "print(sayi7)"
   ]
  },
  {
   "cell_type": "code",
   "execution_count": 86,
   "metadata": {
    "cocalc": {
     "outputs": {
      "0": {
       "name": "input",
       "opts": {
        "password": false,
        "prompt": "Lütfen ulaşmak istediğiniz web sitesinin adresini yazınız:"
       },
       "output_type": "stream",
       "value": "www.hedehodo.com"
      }
     }
    }
   },
   "outputs": [
    {
     "name": "stdout",
     "output_type": "stream",
     "text": [
      "Lütfen ulaşmak istediğiniz web sitesinin adresini yazınız: www.hedehodo.comHata!... Google Chrome, www.hedehodo.com sitesini bulamadı\n"
     ]
    }
   ],
   "source": [
    "url = input(\"Lütfen ulaşmak istediğiniz web sitesinin adresini yazınız:\")\n",
    "print(\"Hata!... Google Chrome, \", url, \" sitesini bulamadı\")\n",
    "print(\"Hata!... Google Chrome, {} sitesini bulamadı\".format(url))\n"
   ]
  },
  {
   "cell_type": "code",
   "execution_count": 89,
   "metadata": {},
   "outputs": [
    {
     "name": "stdout",
     "output_type": "stream",
     "text": [
      "Ali, 18 yaşında bir öğrencidir.\n"
     ]
    }
   ],
   "source": [
    "isim = \"Ali\"\n",
    "yas = 18\n",
    "meslek = \"öğrenci\"\n",
    "print(\"{}, {} yaşında bir {}dir.\".format(isim, yas, meslek))"
   ]
  },
  {
   "cell_type": "code",
   "execution_count": 90,
   "metadata": {},
   "outputs": [
    {
     "data": {
      "text/plain": [
       "'Oya ve Bora iyi bir ikilidir'"
      ]
     },
     "execution_count": 90,
     "metadata": {},
     "output_type": "execute_result"
    }
   ],
   "source": [
    "metin = \"{} ve {} iyi bir ikilidir\"\n",
    "metin.format(\"Oya\", \"Bora\")"
   ]
  },
  {
   "cell_type": "code",
   "execution_count": 94,
   "metadata": {},
   "outputs": [
    {
     "name": "stdout",
     "output_type": "stream",
     "text": [
      "\n",
      "                                                                                  Tarih: 30.06.2021\n",
      "                                                    \n",
      "T.C.\n",
      "Ankara ÜNİVERSİTESİ\n",
      "Mühendislik Fakültesi Dekanlığına\n",
      "\n",
      "Fakülteniz Elektrik-Elektronik Mühendisliği Bölümü 21343444 numaralı öğrencisiyim. Ekte sunduğum belge uyarınca 2020-2021 Akademik Yılı\n",
      "Bahar Yarıyılında öğrenimime ara vermek istiyorum.\n",
      "\n",
      "Bilgilerinize saygılarımla arz ederim.\n",
      "\n",
      "Ad                : Ahmet\n",
      "Soyad             : Uyar\n",
      "TC Kimlik No      : 1111111111111\n",
      "Adres             : Moda 80300 İstanbul\n",
      "Tel               : 05425420542\n",
      "Ekler             : ___\n",
      "\n"
     ]
    }
   ],
   "source": [
    "dilekce = \"\"\"\n",
    "                                                                                  Tarih: {}\n",
    "                                                    \n",
    "T.C.\n",
    "{} ÜNİVERSİTESİ\n",
    "{} Fakültesi Dekanlığına\n",
    "\n",
    "Fakülteniz {} Bölümü {} numaralı öğrencisiyim. Ekte sunduğum belge uyarınca {} Akademik Yılı\n",
    "{} Yarıyılında öğrenimime ara vermek istiyorum.\n",
    "\n",
    "Bilgilerinize saygılarımla arz ederim.\n",
    "\n",
    "Ad                : {}\n",
    "Soyad             : {}\n",
    "TC Kimlik No      : {}\n",
    "Adres             : {}\n",
    "Tel               : {}\n",
    "Ekler             : {}\n",
    "\"\"\"\n",
    "tarih = \"30.06.2021\"\n",
    "universite = \"Ankara\"\n",
    "fakulte = \"Mühendislik\"\n",
    "bolum = \"Elektrik-Elektronik Mühendisliği\"\n",
    "no = \"21343444\"\n",
    "akademik_yil = \"2020-2021\"\n",
    "yariyil = \"Bahar\"\n",
    "ad = \"Ahmet\"\n",
    "soyad = \"Uyar\"\n",
    "tc = \"1111111111111\"\n",
    "adres = \"Moda 80300 İstanbul\"\n",
    "tel = \"05425420542\"\n",
    "ekler = \"___\"\n",
    "\n",
    "print(dilekce.format(tarih, universite, fakulte, bolum, no, akademik_yil, yariyil, ad, soyad, tc, adres, tel, ekler))"
   ]
  },
  {
   "cell_type": "code",
   "execution_count": 116,
   "metadata": {
    "cocalc": {
     "outputs": {
      "0": {
       "name": "input",
       "opts": {
        "password": false,
        "prompt": "Yaşınızı giriniz: "
       },
       "output_type": "stream",
       "value": "-5"
      }
     }
    }
   },
   "outputs": [
    {
     "name": "stdout",
     "output_type": "stream",
     "text": [
      "Yaşınızı giriniz:  -5Yanlış giriş yapmış olabilir misiniz?\n",
      "Bu satır her halükarda çalışır\n"
     ]
    }
   ],
   "source": [
    "yas = int(input(\"Yaşınızı giriniz: \"))\n",
    "\n",
    "\n",
    "if yas < 18 and yas >= 0:\n",
    "    print(\"Yaşınız 18'den küçük olduğu için giremezsiniz!...\")\n",
    "elif yas > 18:\n",
    "    print(\"Yaşınız 18'den büyük olduğu için girebilirsiniz!...\")\n",
    "elif yas == 18:\n",
    "    print(\"Yaşınız tam 18 olduğu için girip giremeyeceğinize karar veremedim!...\")\n",
    "elif not (yas > 0):\n",
    "    print(\"Yanlış giriş yapmış olabilir misiniz?\")\n",
    "else:\n",
    "    print(\"Geçersiz giriş yaptınız!...\")\n",
    "\n",
    "print(\"Bu satır her halükarda çalışır\")\n"
   ]
  },
  {
   "cell_type": "code",
   "execution_count": 0,
   "metadata": {},
   "outputs": [],
   "source": [
    "Karşılaştırma Operatörleri\n",
    ">\n",
    "<\n",
    ">=\n",
    "<=\n",
    "==      eşittir kontrolü\n",
    "!=      eşit değildir kontrolü\n",
    "\n",
    "Aritmetik Operatörler\n",
    "+\n",
    "*\n",
    "/\n",
    "-\n",
    "//    kalansız bölme\n",
    "**\n",
    "%\n",
    "\n",
    "Değer Atama Operatörleri\n",
    "=\n",
    "+=\n",
    "-=\n",
    "*=\n",
    "/=\n",
    "%=\n",
    "**=\n",
    "//=\n",
    "\n",
    "Aitlik Operatörü\n",
    "in\n",
    "\n",
    "Bool Operatörleri\n",
    "and\n",
    "or\n",
    "not\n",
    "\n"
   ]
  },
  {
   "cell_type": "code",
   "execution_count": 109,
   "metadata": {},
   "outputs": [
    {
     "name": "stdout",
     "output_type": "stream",
     "text": [
      "İşlemden önce A:  9\n",
      "İşlemden sonra A:  4\n"
     ]
    }
   ],
   "source": [
    "A = 9\n",
    "print(\"İşlemden önce A: \", A)\n",
    "A %= 5     # A = A % 5    Türkçe meali\n",
    "print(\"İşlemden sonra A: \", A)"
   ]
  },
  {
   "cell_type": "code",
   "execution_count": 115,
   "metadata": {},
   "outputs": [
    {
     "data": {
      "text/plain": [
       "True"
      ]
     },
     "execution_count": 115,
     "metadata": {},
     "output_type": "execute_result"
    }
   ],
   "source": [
    "metin = \"abcdefgh\"\n",
    "\"ef\" in metin"
   ]
  },
  {
   "cell_type": "code",
   "execution_count": 125,
   "metadata": {},
   "outputs": [
    {
     "data": {
      "text/plain": [
       "True"
      ]
     },
     "execution_count": 125,
     "metadata": {},
     "output_type": "execute_result"
    }
   ],
   "source": [
    "sayi1 = 23\n",
    "sayi2 = 56\n",
    "sayi1 == 23 or sayi2 == 56"
   ]
  },
  {
   "cell_type": "code",
   "execution_count": 130,
   "metadata": {
    "cocalc": {
     "outputs": {
      "0": {
       "name": "input",
       "opts": {
        "password": false,
        "prompt": "Notunuzu Giriniz: "
       },
       "output_type": "stream",
       "value": "72"
      }
     }
    }
   },
   "outputs": [
    {
     "name": "stdout",
     "output_type": "stream",
     "text": [
      "Notunuzu Giriniz:  72Harf notunuz CC\n"
     ]
    }
   ],
   "source": [
    "notum = int(input(\"Notunuzu Giriniz: \"))\n",
    "\n",
    "\n",
    "if notum > 100 or notum < 0:\n",
    "    print(\"Böyle bir not almanız imkansız!...\")\n",
    "    \n",
    "elif notum >= 90 <= 100:\n",
    "    print(\"Harf notunuz AA\")\n",
    "    \n",
    "elif notum >= 85 <= 89:\n",
    "    print(\"Harf notunuz BA\")\n",
    "\n",
    "elif notum >= 80 <= 84:\n",
    "    print(\"Harf notunuz BB\")\n",
    "\n",
    "elif notum >= 75 <= 79:\n",
    "    print(\"Harf notunuz CB\")\n",
    "\n",
    "elif notum >= 70 <= 74:\n",
    "    print(\"Harf notunuz CC\")\n",
    "    \n",
    "else:\n",
    "    print(\"Berbat!...\")\n",
    "P"
   ]
  },
  {
   "cell_type": "code",
   "execution_count": 133,
   "metadata": {},
   "outputs": [
    {
     "data": {
      "text/plain": [
       "False"
      ]
     },
     "execution_count": 133,
     "metadata": {},
     "output_type": "execute_result"
    }
   ],
   "source": [
    "a = \"fdffffsdf\"\n",
    "not a"
   ]
  },
  {
   "cell_type": "code",
   "execution_count": 134,
   "metadata": {
    "cocalc": {
     "outputs": {
      "0": {
       "name": "input",
       "opts": {
        "password": false,
        "prompt": "Parola giriniz: "
       },
       "output_type": "stream",
       "value": ""
      }
     }
    }
   },
   "outputs": [
    {
     "name": "stdout",
     "output_type": "stream",
     "text": [
      "Parola giriniz:  Parola kısmı boş geçilemez!...\n"
     ]
    }
   ],
   "source": [
    "Parola = input(\"Parola giriniz: \")\n",
    "\n",
    "if not Parola:\n",
    "    print(\"Parola kısmı boş geçilemez!...\")\n",
    "\n",
    "\n",
    "\n"
   ]
  },
  {
   "cell_type": "code",
   "execution_count": 1,
   "metadata": {
    "cocalc": {
     "outputs": {
      "0": {
       "name": "input",
       "opts": {
        "password": false,
        "prompt": "Bir sayı girin: "
       },
       "output_type": "stream",
       "value": "3"
      },
      "1": {
       "name": "input",
       "opts": {
        "password": false,
        "prompt": "Bir sayı girin: "
       },
       "output_type": "stream",
       "value": "5555"
      },
      "3": {
       "name": "input",
       "opts": {
        "password": false,
        "prompt": "Bir sayı girin: "
       },
       "output_type": "stream",
       "value": "iptal"
      }
     }
    }
   },
   "outputs": [
    {
     "name": "stdout",
     "output_type": "stream",
     "text": [
      "Bir sayı girin:  3Bir sayı girin:  5555En fazla üç haneli bir sayı girebilirsiniz.\n",
      "Bir sayı girin:  iptal"
     ]
    }
   ],
   "source": [
    "while True:\n",
    "    s = input(\"Bir sayı girin: \")\n",
    "    if s == \"iptal\":\n",
    "        break\n",
    "\n",
    "    if len(s) <= 3:\n",
    "        continue\n",
    "\n",
    "    print(\"En fazla üç haneli bir sayı girebilirsiniz.\")"
   ]
  },
  {
   "cell_type": "code",
   "execution_count": 3,
   "metadata": {},
   "outputs": [
    {
     "name": "stdout",
     "output_type": "stream",
     "text": [
      "'Bu deneme metnini    sırf deneme amacıyla \\n'\n",
      "'oluşturmuş durumdayız.\\n'\n",
      "'\\n'\n",
      "'\\n'\n",
      "'Gizli karakterleri de görüntülemek\\n'\n",
      "'esas            amacımız.'\n"
     ]
    }
   ],
   "source": [
    "metin = open(\"deneme_metni.txt\", encoding=\"utf-8\")\n",
    "for karakter_dizisi in metin:\n",
    "    print(repr(karakter_dizisi))\n",
    "metin.close()"
   ]
  },
  {
   "cell_type": "code",
   "execution_count": 2,
   "metadata": {},
   "outputs": [
    {
     "name": "stdout",
     "output_type": "stream",
     "text": [
      "elebüG elebeH\n"
     ]
    }
   ],
   "source": [
    "karakter_dizisi = \"Hebele Gübele\"\n",
    "print(karakter_dizisi[::-1])"
   ]
  },
  {
   "cell_type": "code",
   "execution_count": 4,
   "metadata": {},
   "outputs": [
    {
     "data": {
      "text/plain": [
       "['ç', 'ç', 'e', 'i', 'k']"
      ]
     },
     "execution_count": 4,
     "metadata": {},
     "output_type": "execute_result"
    }
   ],
   "source": [
    "import locale\n",
    "# locale.setlocale(locale.LC_ALL, \"Turkish_Turkey.1254\") #Windows için\n",
    "locale.setlocale(locale.LC_ALL, \"tr_TR\") #GNU/Linux için\n",
    "sorted(\"çiçek\", key=locale.strxfrm)"
   ]
  },
  {
   "cell_type": "code",
   "execution_count": 5,
   "metadata": {},
   "outputs": [
    {
     "data": {
      "text/plain": [
       "['__abs__',\n",
       " '__add__',\n",
       " '__and__',\n",
       " '__bool__',\n",
       " '__ceil__',\n",
       " '__class__',\n",
       " '__delattr__',\n",
       " '__dir__',\n",
       " '__divmod__',\n",
       " '__doc__',\n",
       " '__eq__',\n",
       " '__float__',\n",
       " '__floor__',\n",
       " '__floordiv__',\n",
       " '__format__',\n",
       " '__ge__',\n",
       " '__getattribute__',\n",
       " '__getnewargs__',\n",
       " '__gt__',\n",
       " '__hash__',\n",
       " '__index__',\n",
       " '__init__',\n",
       " '__init_subclass__',\n",
       " '__int__',\n",
       " '__invert__',\n",
       " '__le__',\n",
       " '__lshift__',\n",
       " '__lt__',\n",
       " '__mod__',\n",
       " '__mul__',\n",
       " '__ne__',\n",
       " '__neg__',\n",
       " '__new__',\n",
       " '__or__',\n",
       " '__pos__',\n",
       " '__pow__',\n",
       " '__radd__',\n",
       " '__rand__',\n",
       " '__rdivmod__',\n",
       " '__reduce__',\n",
       " '__reduce_ex__',\n",
       " '__repr__',\n",
       " '__rfloordiv__',\n",
       " '__rlshift__',\n",
       " '__rmod__',\n",
       " '__rmul__',\n",
       " '__ror__',\n",
       " '__round__',\n",
       " '__rpow__',\n",
       " '__rrshift__',\n",
       " '__rshift__',\n",
       " '__rsub__',\n",
       " '__rtruediv__',\n",
       " '__rxor__',\n",
       " '__setattr__',\n",
       " '__sizeof__',\n",
       " '__str__',\n",
       " '__sub__',\n",
       " '__subclasshook__',\n",
       " '__truediv__',\n",
       " '__trunc__',\n",
       " '__xor__',\n",
       " 'as_integer_ratio',\n",
       " 'bit_length',\n",
       " 'conjugate',\n",
       " 'denominator',\n",
       " 'from_bytes',\n",
       " 'imag',\n",
       " 'numerator',\n",
       " 'real',\n",
       " 'to_bytes']"
      ]
     },
     "execution_count": 5,
     "metadata": {},
     "output_type": "execute_result"
    }
   ],
   "source": [
    "dir(int)"
   ]
  },
  {
   "cell_type": "code",
   "execution_count": 6,
   "metadata": {},
   "outputs": [
    {
     "data": {
      "text/plain": [
       "['__abs__',\n",
       " '__add__',\n",
       " '__and__',\n",
       " '__bool__',\n",
       " '__ceil__',\n",
       " '__class__',\n",
       " '__delattr__',\n",
       " '__dir__',\n",
       " '__divmod__',\n",
       " '__doc__',\n",
       " '__eq__',\n",
       " '__float__',\n",
       " '__floor__',\n",
       " '__floordiv__',\n",
       " '__format__',\n",
       " '__ge__',\n",
       " '__getattribute__',\n",
       " '__getnewargs__',\n",
       " '__gt__',\n",
       " '__hash__',\n",
       " '__index__',\n",
       " '__init__',\n",
       " '__init_subclass__',\n",
       " '__int__',\n",
       " '__invert__',\n",
       " '__le__',\n",
       " '__lshift__',\n",
       " '__lt__',\n",
       " '__mod__',\n",
       " '__mul__',\n",
       " '__ne__',\n",
       " '__neg__',\n",
       " '__new__',\n",
       " '__or__',\n",
       " '__pos__',\n",
       " '__pow__',\n",
       " '__radd__',\n",
       " '__rand__',\n",
       " '__rdivmod__',\n",
       " '__reduce__',\n",
       " '__reduce_ex__',\n",
       " '__repr__',\n",
       " '__rfloordiv__',\n",
       " '__rlshift__',\n",
       " '__rmod__',\n",
       " '__rmul__',\n",
       " '__ror__',\n",
       " '__round__',\n",
       " '__rpow__',\n",
       " '__rrshift__',\n",
       " '__rshift__',\n",
       " '__rsub__',\n",
       " '__rtruediv__',\n",
       " '__rxor__',\n",
       " '__setattr__',\n",
       " '__sizeof__',\n",
       " '__str__',\n",
       " '__sub__',\n",
       " '__subclasshook__',\n",
       " '__truediv__',\n",
       " '__trunc__',\n",
       " '__xor__',\n",
       " 'as_integer_ratio',\n",
       " 'bit_length',\n",
       " 'conjugate',\n",
       " 'denominator',\n",
       " 'from_bytes',\n",
       " 'imag',\n",
       " 'numerator',\n",
       " 'real',\n",
       " 'to_bytes']"
      ]
     },
     "execution_count": 6,
     "metadata": {},
     "output_type": "execute_result"
    }
   ],
   "source": [
    "dir(int)"
   ]
  },
  {
   "cell_type": "code",
   "execution_count": 7,
   "metadata": {},
   "outputs": [
    {
     "data": {
      "text/plain": [
       "['__abs__',\n",
       " '__add__',\n",
       " '__bool__',\n",
       " '__class__',\n",
       " '__delattr__',\n",
       " '__dir__',\n",
       " '__divmod__',\n",
       " '__doc__',\n",
       " '__eq__',\n",
       " '__float__',\n",
       " '__floordiv__',\n",
       " '__format__',\n",
       " '__ge__',\n",
       " '__getattribute__',\n",
       " '__getnewargs__',\n",
       " '__gt__',\n",
       " '__hash__',\n",
       " '__init__',\n",
       " '__init_subclass__',\n",
       " '__int__',\n",
       " '__le__',\n",
       " '__lt__',\n",
       " '__mod__',\n",
       " '__mul__',\n",
       " '__ne__',\n",
       " '__neg__',\n",
       " '__new__',\n",
       " '__pos__',\n",
       " '__pow__',\n",
       " '__radd__',\n",
       " '__rdivmod__',\n",
       " '__reduce__',\n",
       " '__reduce_ex__',\n",
       " '__repr__',\n",
       " '__rfloordiv__',\n",
       " '__rmod__',\n",
       " '__rmul__',\n",
       " '__rpow__',\n",
       " '__rsub__',\n",
       " '__rtruediv__',\n",
       " '__setattr__',\n",
       " '__sizeof__',\n",
       " '__str__',\n",
       " '__sub__',\n",
       " '__subclasshook__',\n",
       " '__truediv__',\n",
       " 'conjugate',\n",
       " 'imag',\n",
       " 'real']"
      ]
     },
     "execution_count": 7,
     "metadata": {},
     "output_type": "execute_result"
    }
   ],
   "source": [
    "dir(complex)"
   ]
  },
  {
   "cell_type": "code",
   "execution_count": 8,
   "metadata": {},
   "outputs": [
    {
     "data": {
      "text/plain": [
       "['__add__',\n",
       " '__class__',\n",
       " '__contains__',\n",
       " '__delattr__',\n",
       " '__dir__',\n",
       " '__doc__',\n",
       " '__eq__',\n",
       " '__format__',\n",
       " '__ge__',\n",
       " '__getattribute__',\n",
       " '__getitem__',\n",
       " '__getnewargs__',\n",
       " '__gt__',\n",
       " '__hash__',\n",
       " '__init__',\n",
       " '__init_subclass__',\n",
       " '__iter__',\n",
       " '__le__',\n",
       " '__len__',\n",
       " '__lt__',\n",
       " '__mod__',\n",
       " '__mul__',\n",
       " '__ne__',\n",
       " '__new__',\n",
       " '__reduce__',\n",
       " '__reduce_ex__',\n",
       " '__repr__',\n",
       " '__rmod__',\n",
       " '__rmul__',\n",
       " '__setattr__',\n",
       " '__sizeof__',\n",
       " '__str__',\n",
       " '__subclasshook__',\n",
       " 'capitalize',\n",
       " 'casefold',\n",
       " 'center',\n",
       " 'count',\n",
       " 'encode',\n",
       " 'endswith',\n",
       " 'expandtabs',\n",
       " 'find',\n",
       " 'format',\n",
       " 'format_map',\n",
       " 'index',\n",
       " 'isalnum',\n",
       " 'isalpha',\n",
       " 'isascii',\n",
       " 'isdecimal',\n",
       " 'isdigit',\n",
       " 'isidentifier',\n",
       " 'islower',\n",
       " 'isnumeric',\n",
       " 'isprintable',\n",
       " 'isspace',\n",
       " 'istitle',\n",
       " 'isupper',\n",
       " 'join',\n",
       " 'ljust',\n",
       " 'lower',\n",
       " 'lstrip',\n",
       " 'maketrans',\n",
       " 'partition',\n",
       " 'replace',\n",
       " 'rfind',\n",
       " 'rindex',\n",
       " 'rjust',\n",
       " 'rpartition',\n",
       " 'rsplit',\n",
       " 'rstrip',\n",
       " 'split',\n",
       " 'splitlines',\n",
       " 'startswith',\n",
       " 'strip',\n",
       " 'swapcase',\n",
       " 'title',\n",
       " 'translate',\n",
       " 'upper',\n",
       " 'zfill']"
      ]
     },
     "execution_count": 8,
     "metadata": {},
     "output_type": "execute_result"
    }
   ],
   "source": [
    "dir(str)"
   ]
  },
  {
   "cell_type": "code",
   "execution_count": 1,
   "metadata": {},
   "outputs": [
    {
     "data": {
      "text/plain": [
       "['__add__',\n",
       " '__class__',\n",
       " '__contains__',\n",
       " '__delattr__',\n",
       " '__dir__',\n",
       " '__doc__',\n",
       " '__eq__',\n",
       " '__format__',\n",
       " '__ge__',\n",
       " '__getattribute__',\n",
       " '__getitem__',\n",
       " '__getnewargs__',\n",
       " '__gt__',\n",
       " '__hash__',\n",
       " '__init__',\n",
       " '__init_subclass__',\n",
       " '__iter__',\n",
       " '__le__',\n",
       " '__len__',\n",
       " '__lt__',\n",
       " '__mul__',\n",
       " '__ne__',\n",
       " '__new__',\n",
       " '__reduce__',\n",
       " '__reduce_ex__',\n",
       " '__repr__',\n",
       " '__rmul__',\n",
       " '__setattr__',\n",
       " '__sizeof__',\n",
       " '__str__',\n",
       " '__subclasshook__',\n",
       " 'count',\n",
       " 'index']"
      ]
     },
     "execution_count": 1,
     "metadata": {},
     "output_type": "execute_result"
    }
   ],
   "source": [
    "dir(tuple)"
   ]
  },
  {
   "cell_type": "code",
   "execution_count": 2,
   "metadata": {},
   "outputs": [
    {
     "data": {
      "text/plain": [
       "['__add__',\n",
       " '__class__',\n",
       " '__contains__',\n",
       " '__delattr__',\n",
       " '__delitem__',\n",
       " '__dir__',\n",
       " '__doc__',\n",
       " '__eq__',\n",
       " '__format__',\n",
       " '__ge__',\n",
       " '__getattribute__',\n",
       " '__getitem__',\n",
       " '__gt__',\n",
       " '__hash__',\n",
       " '__iadd__',\n",
       " '__imul__',\n",
       " '__init__',\n",
       " '__init_subclass__',\n",
       " '__iter__',\n",
       " '__le__',\n",
       " '__len__',\n",
       " '__lt__',\n",
       " '__mul__',\n",
       " '__ne__',\n",
       " '__new__',\n",
       " '__reduce__',\n",
       " '__reduce_ex__',\n",
       " '__repr__',\n",
       " '__reversed__',\n",
       " '__rmul__',\n",
       " '__setattr__',\n",
       " '__setitem__',\n",
       " '__sizeof__',\n",
       " '__str__',\n",
       " '__subclasshook__',\n",
       " 'append',\n",
       " 'clear',\n",
       " 'copy',\n",
       " 'count',\n",
       " 'extend',\n",
       " 'index',\n",
       " 'insert',\n",
       " 'pop',\n",
       " 'remove',\n",
       " 'reverse',\n",
       " 'sort']"
      ]
     },
     "execution_count": 2,
     "metadata": {},
     "output_type": "execute_result"
    }
   ],
   "source": [
    "dir(list)"
   ]
  },
  {
   "cell_type": "code",
   "execution_count": 4,
   "metadata": {
    "cocalc": {
     "outputs": {
      "1": {
       "name": "input",
       "opts": {
        "password": false,
        "prompt": "help> "
       },
       "output_type": "stream",
       "value": "append"
      },
      "3": {
       "name": "input",
       "opts": {
        "password": false,
        "prompt": "help> "
       },
       "output_type": "stream",
       "value": "quit"
      }
     }
    }
   },
   "outputs": [
    {
     "name": "stdout",
     "output_type": "stream",
     "text": [
      "\n",
      "Welcome to Python 3.8's help utility!\n",
      "\n",
      "If this is your first time using Python, you should definitely check out\n",
      "the tutorial on the Internet at https://docs.python.org/3.8/tutorial/.\n",
      "\n",
      "Enter the name of any module, keyword, or topic to get help on writing\n",
      "Python programs and using Python modules.  To quit this help utility and\n",
      "return to the interpreter, just type \"quit\".\n",
      "\n",
      "To get a list of available modules, keywords, symbols, or topics, type\n",
      "\"modules\", \"keywords\", \"symbols\", or \"topics\".  Each module also comes\n",
      "with a one-line summary of what it does; to list the modules whose name\n",
      "or summary contain a given string such as \"spam\", type \"modules spam\".\n",
      "\n",
      "help>  appendNo Python documentation found for 'append'.\n",
      "Use help() to get the interactive help utility.\n",
      "Use help(str) for help on the str class.\n",
      "\n",
      "help>  quit\n",
      "You are now leaving help and returning to the Python interpreter.\n",
      "If you want to ask for help on a particular object directly from the\n",
      "interpreter, you can type \"help(object)\".  Executing \"help('string')\"\n",
      "has the same effect as typing a particular string at the help> prompt.\n"
     ]
    }
   ],
   "source": [
    "help()"
   ]
  },
  {
   "cell_type": "code",
   "execution_count": 5,
   "metadata": {},
   "outputs": [
    {
     "name": "stdout",
     "output_type": "stream",
     "text": [
      "Help on class tuple in module builtins:\n",
      "\n",
      "class tuple(object)\n",
      " |  tuple(iterable=(), /)\n",
      " |  \n",
      " |  Built-in immutable sequence.\n",
      " |  \n",
      " |  If no argument is given, the constructor returns an empty tuple.\n",
      " |  If iterable is specified the tuple is initialized from iterable's items.\n",
      " |  \n",
      " |  If the argument is a tuple, the return value is the same object.\n",
      " |  \n",
      " |  Built-in subclasses:\n",
      " |      asyncgen_hooks\n",
      " |      UnraisableHookArgs\n",
      " |  \n",
      " |  Methods defined here:\n",
      " |  \n",
      " |  __add__(self, value, /)\n",
      " |      Return self+value.\n",
      " |  \n",
      " |  __contains__(self, key, /)\n",
      " |      Return key in self.\n",
      " |  \n",
      " |  __eq__(self, value, /)\n",
      " |      Return self==value.\n",
      " |  \n",
      " |  __ge__(self, value, /)\n",
      " |      Return self>=value.\n",
      " |  \n",
      " |  __getattribute__(self, name, /)\n",
      " |      Return getattr(self, name).\n",
      " |  \n",
      " |  __getitem__(self, key, /)\n",
      " |      Return self[key].\n",
      " |  \n",
      " |  __getnewargs__(self, /)\n",
      " |  \n",
      " |  __gt__(self, value, /)\n",
      " |      Return self>value.\n",
      " |  \n",
      " |  __hash__(self, /)\n",
      " |      Return hash(self).\n",
      " |  \n",
      " |  __iter__(self, /)\n",
      " |      Implement iter(self).\n",
      " |  \n",
      " |  __le__(self, value, /)\n",
      " |      Return self<=value.\n",
      " |  \n",
      " |  __len__(self, /)\n",
      " |      Return len(self).\n",
      " |  \n",
      " |  __lt__(self, value, /)\n",
      " |      Return self<value.\n",
      " |  \n",
      " |  __mul__(self, value, /)\n",
      " |      Return self*value.\n",
      " |  \n",
      " |  __ne__(self, value, /)\n",
      " |      Return self!=value.\n",
      " |  \n",
      " |  __repr__(self, /)\n",
      " |      Return repr(self).\n",
      " |  \n",
      " |  __rmul__(self, value, /)\n",
      " |      Return value*self.\n",
      " |  \n",
      " |  count(self, value, /)\n",
      " |      Return number of occurrences of value.\n",
      " |  \n",
      " |  index(self, value, start=0, stop=9223372036854775807, /)\n",
      " |      Return first index of value.\n",
      " |      \n",
      " |      Raises ValueError if the value is not present.\n",
      " |  \n",
      " |  ----------------------------------------------------------------------\n",
      " |  Static methods defined here:\n",
      " |  \n",
      " |  __new__(*args, **kwargs) from builtins.type\n",
      " |      Create and return a new object.  See help(type) for accurate signature.\n",
      "\n"
     ]
    }
   ],
   "source": [
    "help(tuple)"
   ]
  },
  {
   "cell_type": "code",
   "execution_count": 1,
   "metadata": {
    "cocalc": {
     "outputs": {
      "1": {
       "name": "input",
       "opts": {
        "password": false,
        "prompt": "Yapmak istediğiniz işlemin numarasını giriniz: "
       },
       "output_type": "stream",
       "value": "1"
      },
      "2": {
       "name": "input",
       "opts": {
        "password": false,
        "prompt": "Toplama işlemi için ilk sayı değerini giriniz: "
       },
       "output_type": "stream",
       "value": "5"
      },
      "3": {
       "name": "input",
       "opts": {
        "password": false,
        "prompt": "Toplama işlemi için ikinci sayı değerini giriniz: "
       },
       "output_type": "stream",
       "value": "10"
      }
     }
    }
   },
   "outputs": [
    {
     "name": "stdout",
     "output_type": "stream",
     "text": [
      "\n",
      "Ana Menü:\n",
      "(1) Toplama\n",
      "(2) Çıkarma\n",
      "(3) Çarpma\n",
      "(4) Bölme\n",
      "(5) Kare Hesaplama\n",
      "(6) Karekök Hesaplama\n",
      "\n",
      "Yapmak istediğiniz işlemin numarasını giriniz:  1Toplama işlemi için ilk sayı değerini giriniz:  5Toplama işlemi için ikinci sayı değerini giriniz:  105  +  10  =  15\n"
     ]
    }
   ],
   "source": [
    "karsilama_metni = \"\"\"\n",
    "Ana Menü:\n",
    "(1) Toplama\n",
    "(2) Çıkarma\n",
    "(3) Çarpma\n",
    "(4) Bölme\n",
    "(5) Kare Hesaplama\n",
    "(6) Karekök Hesaplama\n",
    "\"\"\"\n",
    "\n",
    "print(karsilama_metni)\n",
    "\n",
    "cevap = input(\"Yapmak istediğiniz işlemin numarasını giriniz: \")\n",
    "\n",
    "if cevap == \"1\":\n",
    "    sayi1 = int(input(\"Toplama işlemi için ilk sayı değerini giriniz: \"))\n",
    "    sayi2 = int(input(\"Toplama işlemi için ikinci sayı değerini giriniz: \"))\n",
    "    print(sayi1, \" + \", sayi2, \" = \", sayi1 + sayi2)\n",
    "\n",
    "elif cevap == \"2\":\n",
    "    sayi3 = int(input(\"Çıkarma işlemi için ilk sayı değerini giriniz: \"))\n",
    "    sayi4 = int(input(\"Çıkarma işlemi için ikinci sayı değerini giriniz: \"))\n",
    "    print(sayi3, \" - \", sayi4, \" = \", sayi3 - sayi4)\n",
    "\n",
    "elif cevap == \"3\":\n",
    "    sayi5 = int(input(\"Çarpma işlemi için ilk sayı değerini giriniz: \"))\n",
    "    sayi6 = int(input(\"Çarpma işlemi için ikinci sayı değerini giriniz: \"))\n",
    "    print(sayi5, \" x \", sayi6, \" = \", sayi5 * sayi6)\n",
    "\n",
    "elif cevap == \"4\":\n",
    "    sayi7 = int(input(\"Bölme işlemi için ilk sayı değerini giriniz: \"))\n",
    "    sayi8 = int(input(\"Bölme işlemi için ikinci sayı değerini giriniz: \"))\n",
    "    print(sayi7, \" / \", sayi8, \" = \", sayi7 / sayi8)\n",
    "\n",
    "elif cevap == \"5\":\n",
    "    sayi9 = int(input(\"Karesi alınacak olan sayının değerini giriniz: \"))\n",
    "    print(sayi9, \" x \", sayi9, \" = \", sayi9 ** 2)\n",
    "\n",
    "elif cevap == \"6\":\n",
    "    sayi10 = int(input(\"Karekökü alınacak olan sayının değerini giriniz: \"))\n",
    "    print(sayi10, \" sayısının karekökü = \", sayi10 ** 0.5)\n",
    "\n",
    "else:\n",
    "    print(\"Geçersiz bir giriş yaptınız!...\")\n",
    "    print(\"Lütfen geçerli bir giriş yapınız\")\n",
    "    \n",
    "    \n",
    "    \n",
    "    "
   ]
  },
  {
   "cell_type": "code",
   "execution_count": 3,
   "metadata": {},
   "outputs": [
    {
     "name": "stdout",
     "output_type": "stream",
     "text": [
      "Patron çıldırdı!...\n",
      "1\n",
      "Patron çıldırdı!...\n",
      "2\n",
      "Patron çıldırdı!...\n",
      "3\n",
      "Patron çıldırdı!...\n",
      "4\n",
      "Patron çıldırdı!...\n",
      "5\n",
      "Patron çıldırdı!...\n",
      "6\n",
      "Patron çıldırdı!...\n",
      "7\n",
      "Patron çıldırdı!...\n",
      "8\n",
      "Patron çıldırdı!...\n",
      "9\n",
      "Patron çıldırdı!...\n",
      "10\n",
      "Döngüden çıkıldı\n"
     ]
    }
   ],
   "source": [
    "a = 1\n",
    "while a <= 10:\n",
    "    print(\"Patron çıldırdı!...\")\n",
    "    print(a)\n",
    "    a += 1\n",
    "\n",
    "print(\"Döngüden çıkıldı\")"
   ]
  },
  {
   "cell_type": "code",
   "execution_count": 4,
   "metadata": {
    "cocalc": {
     "outputs": {
      "1": {
       "name": "input",
       "opts": {
        "password": false,
        "prompt": "Yapmak istediğiniz işlemin numarasını giriniz (Çıkış için q tuşuna basınız): "
       },
       "output_type": "stream",
       "value": "3"
      },
      "2": {
       "name": "input",
       "opts": {
        "password": false,
        "prompt": "Çarpma işlemi için ilk sayı değerini giriniz: "
       },
       "output_type": "stream",
       "value": "5"
      },
      "3": {
       "name": "input",
       "opts": {
        "password": false,
        "prompt": "Çarpma işlemi için ikinci sayı değerini giriniz: "
       },
       "output_type": "stream",
       "value": "7"
      },
      "4": {
       "name": "input",
       "opts": {
        "password": false,
        "prompt": "Yapmak istediğiniz işlemin numarasını giriniz (Çıkış için q tuşuna basınız): "
       },
       "output_type": "stream"
      },
      "6": {
       "name": "input",
       "opts": {
        "password": false,
        "prompt": "Karekökü alınacak olan sayının değerini giriniz: "
       },
       "output_type": "stream",
       "value": "9"
      },
      "8": {
       "name": "input",
       "opts": {
        "password": false,
        "prompt": "Yapmak istediğiniz işlemin numarasını giriniz (Çıkış için q tuşuna basınız): "
       },
       "output_type": "stream",
       "value": "q"
      }
     }
    }
   },
   "outputs": [
    {
     "name": "stdout",
     "output_type": "stream",
     "text": [
      "\n",
      "Ana Menü:\n",
      "(1) Toplama\n",
      "(2) Çıkarma\n",
      "(3) Çarpma\n",
      "(4) Bölme\n",
      "(5) Kare Hesaplama\n",
      "(6) Karekök Hesaplama\n",
      "\n",
      "Yapmak istediğiniz işlemin numarasını giriniz (Çıkış için q tuşuna basınız):  3Çarpma işlemi için ilk sayı değerini giriniz:  5Çarpma işlemi için ikinci sayı değerini giriniz:  7Yapmak istediğiniz işlemin numarasını giriniz (Çıkış için q tuşuna basınız):  5  x  7  =  35\n",
      "Karekökü alınacak olan sayının değerini giriniz:  99  sayısının karekökü =  3.0\n",
      "Yapmak istediğiniz işlemin numarasını giriniz (Çıkış için q tuşuna basınız):  qUygulamadan çıkılıyor!...\n"
     ]
    }
   ],
   "source": [
    "karsilama_metni = \"\"\"\n",
    "Ana Menü:\n",
    "(1) Toplama\n",
    "(2) Çıkarma\n",
    "(3) Çarpma\n",
    "(4) Bölme\n",
    "(5) Kare Hesaplama\n",
    "(6) Karekök Hesaplama\n",
    "\"\"\"\n",
    "\n",
    "print(karsilama_metni)\n",
    "\n",
    "anahtar = 1\n",
    "\n",
    "while anahtar == 1:\n",
    "\n",
    "    cevap = input(\"Yapmak istediğiniz işlemin numarasını giriniz (Çıkış için q tuşuna basınız): \")\n",
    "\n",
    "    if cevap == \"q\":\n",
    "        print(\"Uygulamadan çıkılıyor!...\")\n",
    "        anahtar = 0\n",
    "        \n",
    "    elif cevap == \"1\":\n",
    "        sayi1 = int(input(\"Toplama işlemi için ilk sayı değerini giriniz: \"))\n",
    "        sayi2 = int(input(\"Toplama işlemi için ikinci sayı değerini giriniz: \"))\n",
    "        print(sayi1, \" + \", sayi2, \" = \", sayi1 + sayi2)\n",
    "\n",
    "    elif cevap == \"2\":\n",
    "        sayi3 = int(input(\"Çıkarma işlemi için ilk sayı değerini giriniz: \"))\n",
    "        sayi4 = int(input(\"Çıkarma işlemi için ikinci sayı değerini giriniz: \"))\n",
    "        print(sayi3, \" - \", sayi4, \" = \", sayi3 - sayi4)\n",
    "\n",
    "    elif cevap == \"3\":\n",
    "        sayi5 = int(input(\"Çarpma işlemi için ilk sayı değerini giriniz: \"))\n",
    "        sayi6 = int(input(\"Çarpma işlemi için ikinci sayı değerini giriniz: \"))\n",
    "        print(sayi5, \" x \", sayi6, \" = \", sayi5 * sayi6)\n",
    "\n",
    "    elif cevap == \"4\":\n",
    "        sayi7 = int(input(\"Bölme işlemi için ilk sayı değerini giriniz: \"))\n",
    "        sayi8 = int(input(\"Bölme işlemi için ikinci sayı değerini giriniz: \"))\n",
    "        print(sayi7, \" / \", sayi8, \" = \", sayi7 / sayi8)\n",
    "\n",
    "    elif cevap == \"5\":\n",
    "        sayi9 = int(input(\"Karesi alınacak olan sayının değerini giriniz: \"))\n",
    "        print(sayi9, \" x \", sayi9, \" = \", sayi9 ** 2)\n",
    "\n",
    "    elif cevap == \"6\":\n",
    "        sayi10 = int(input(\"Karekökü alınacak olan sayının değerini giriniz: \"))\n",
    "        print(sayi10, \" sayısının karekökü = \", sayi10 ** 0.5)\n",
    "\n",
    "    else:\n",
    "        print(\"Geçersiz bir giriş yaptınız!...\")\n",
    "        print(\"Lütfen geçerli bir giriş yapınız\")\n",
    "\n",
    "\n",
    "\n",
    "\n",
    "\n",
    "\n",
    "\n",
    "\n",
    "\n",
    "\n",
    "\n",
    "\n"
   ]
  },
  {
   "cell_type": "code",
   "execution_count": 6,
   "metadata": {
    "cocalc": {
     "outputs": {
      "0": {
       "name": "input",
       "opts": {
        "password": false,
        "prompt": "Nasılsınız?"
       },
       "output_type": "stream",
       "value": "iyiyim"
      },
      "1": {
       "name": "input",
       "opts": {
        "password": false,
        "prompt": "Nasılsınız?"
       },
       "output_type": "stream",
       "value": "iyi"
      },
      "2": {
       "name": "input",
       "opts": {
        "password": false,
        "prompt": "Nasılsınız?"
       },
       "output_type": "stream",
       "value": "q"
      }
     }
    }
   },
   "outputs": [
    {
     "name": "stdout",
     "output_type": "stream",
     "text": [
      "Nasılsınız? iyiyimNasılsınız? iyiNasılsınız? qKusura bakmayın, sizi de çok rahatsız ettim\n"
     ]
    }
   ],
   "source": [
    "# Aksi belirtilmediği sürece kullanıcıya\n",
    "# aşağıdaki soruyu sormaya devam et\n",
    "\n",
    "while True:\n",
    "    cevap = input(\"Nasılsınız?\")\n",
    "    \n",
    "    # eğer kullanıcı 'q' tuşuna basarsa\n",
    "    if cevap == \"q\":\n",
    "        break # döngüyü kır ve çık\n",
    "        \n",
    "print(\"Kusura bakmayın, sizi de çok rahatsız ettim\")"
   ]
  },
  {
   "cell_type": "code",
   "execution_count": 8,
   "metadata": {},
   "outputs": [
    {
     "name": "stdout",
     "output_type": "stream",
     "text": [
      "0\n",
      "3\n",
      "6\n",
      "9\n"
     ]
    }
   ],
   "source": [
    "a = 0\n",
    "\n",
    "while a <= 10:\n",
    "    if a % 3 == 0:\n",
    "        print(a)\n",
    "    a += 1\n",
    "    "
   ]
  },
  {
   "cell_type": "code",
   "execution_count": 12,
   "metadata": {},
   "outputs": [
    {
     "name": "stdout",
     "output_type": "stream",
     "text": [
      "İ\n"
     ]
    }
   ],
   "source": [
    "turkce_karakterler = \"çğıİöşü\"\n",
    "\n",
    "# for harf in turkce_karakterler:\n",
    "#    print(harf)\n",
    "\n",
    "# a = 0\n",
    "# while a < len(turkce_karakterler):\n",
    "#    print(turkce_karakterler[a], sep = \"\\n\")\n",
    "#    a += 1\n",
    "\n",
    "print(turkce_karakterler[3])"
   ]
  },
  {
   "cell_type": "code",
   "execution_count": 13,
   "metadata": {},
   "outputs": [
    {
     "ename": "TypeError",
     "evalue": "'int' object is not iterable",
     "output_type": "error",
     "traceback": [
      "\u001b[0;31m---------------------------------------------------------------------------\u001b[0m",
      "\u001b[0;31mTypeError\u001b[0m                                 Traceback (most recent call last)",
      "\u001b[0;32m<ipython-input-13-35b833904404>\u001b[0m in \u001b[0;36m<module>\u001b[0;34m\u001b[0m\n\u001b[1;32m      1\u001b[0m \u001b[0msayi\u001b[0m \u001b[0;34m=\u001b[0m \u001b[0;36m123456789\u001b[0m\u001b[0;34m\u001b[0m\u001b[0;34m\u001b[0m\u001b[0m\n\u001b[1;32m      2\u001b[0m \u001b[0;34m\u001b[0m\u001b[0m\n\u001b[0;32m----> 3\u001b[0;31m \u001b[0;32mfor\u001b[0m \u001b[0mbasamak\u001b[0m \u001b[0;32min\u001b[0m \u001b[0msayi\u001b[0m\u001b[0;34m:\u001b[0m\u001b[0;34m\u001b[0m\u001b[0;34m\u001b[0m\u001b[0m\n\u001b[0m\u001b[1;32m      4\u001b[0m     \u001b[0mprint\u001b[0m\u001b[0;34m(\u001b[0m\u001b[0mbasamak\u001b[0m\u001b[0;34m)\u001b[0m\u001b[0;34m\u001b[0m\u001b[0;34m\u001b[0m\u001b[0m\n",
      "\u001b[0;31mTypeError\u001b[0m: 'int' object is not iterable"
     ]
    }
   ],
   "source": [
    "sayi = 123456789\n",
    "\n",
    "for basamak in sayi:\n",
    "    print(basamak)\n"
   ]
  },
  {
   "cell_type": "code",
   "execution_count": 18,
   "metadata": {
    "cocalc": {
     "outputs": {
      "0": {
       "name": "input",
       "opts": {
        "password": false,
        "prompt": "Parolanız: "
       },
       "output_type": "stream",
       "value": "şübülü"
      }
     }
    }
   },
   "outputs": [
    {
     "name": "stdout",
     "output_type": "stream",
     "text": [
      "Parolanız:  şübülüParolanız Türkçe karakter içeremez!...\n",
      "Parolanız  4 adet Türkçe karakter içermektedir!...\n"
     ]
    }
   ],
   "source": [
    "turkce_karakterler = \"çÇğĞıİöÖşŞüÜ\"\n",
    "\n",
    "parola = input(\"Parolanız: \")\n",
    "\n",
    "bulunma_sayisi = 0\n",
    "\n",
    "for karakter in parola:\n",
    "    if karakter in turkce_karakterler:\n",
    "        bulunma_sayisi += 1\n",
    "        if bulunma_sayisi == 1:\n",
    "            print(\"Parolanız Türkçe karakter içeremez!...\")\n",
    "        \n",
    "print(\"Parolanız \", bulunma_sayisi, \"adet Türkçe karakter içermektedir!...\")\n"
   ]
  },
  {
   "cell_type": "code",
   "execution_count": 17,
   "metadata": {},
   "outputs": [
    {
     "name": "stdout",
     "output_type": "stream",
     "text": [
      "4\n"
     ]
    }
   ],
   "source": [
    "print(bulunma_sayisi)"
   ]
  },
  {
   "cell_type": "code",
   "execution_count": 19,
   "metadata": {
    "cocalc": {
     "outputs": {
      "0": {
       "name": "input",
       "opts": {
        "password": false,
        "prompt": "Bir parola belirleyiniz: "
       },
       "output_type": "stream",
       "value": "ssss"
      },
      "1": {
       "name": "input",
       "opts": {
        "password": false,
        "prompt": "Bir parola belirleyiniz: "
       },
       "output_type": "stream"
      },
      "4": {
       "name": "input",
       "opts": {
        "password": false,
        "prompt": "Bir parola belirleyiniz: "
       },
       "output_type": "stream",
       "value": ""
      },
      "6": {
       "name": "input",
       "opts": {
        "password": false,
        "prompt": "Bir parola belirleyiniz: "
       },
       "output_type": "stream",
       "value": "dddddddddddddddddddddddddddddddddddddddd"
      },
      "7": {
       "name": "input",
       "opts": {
        "password": false,
        "prompt": "Bir parola belirleyiniz: "
       },
       "output_type": "stream"
      }
     }
    }
   },
   "outputs": [
    {
     "name": "stdout",
     "output_type": "stream",
     "text": [
      "Bir parola belirleyiniz:  ssssBir parola belirleyiniz:  Parola 8 karakterden kısa, 18 karakterden uzun olamaz\n",
      "Parola 8 karakterden kısa, 18 karakterden uzun olamaz\n",
      "Bir parola belirleyiniz:  Parola boş geçilemez!...\n",
      "Bir parola belirleyiniz:  ddddddddddddddddddddddddddddddddddddddddBir parola belirleyiniz:  Parola 8 karakterden kısa, 18 karakterden uzun olamaz\n",
      "Yeni parolanız tanımlanmıştır\n"
     ]
    }
   ],
   "source": [
    "while True:\n",
    "    parola = input(\"Bir parola belirleyiniz: \")\n",
    "    \n",
    "    if not parola:\n",
    "        print(\"Parola boş geçilemez!...\")\n",
    "        \n",
    "    elif len(parola) > 18 or len(parola) < 8:\n",
    "        print(\"Parola 8 karakterden kısa, 18 karakterden uzun olamaz\")\n",
    "        \n",
    "    else:\n",
    "        print(\"Yeni parolanız tanımlanmıştır\")\n",
    "        break\n",
    "\n",
    "\n",
    "\n",
    "\n",
    "\n",
    "\n",
    "\n",
    "\n",
    "\n"
   ]
  },
  {
   "cell_type": "code",
   "execution_count": 34,
   "metadata": {},
   "outputs": [
    {
     "name": "stdout",
     "output_type": "stream",
     "text": [
      "0\n",
      "2\n",
      "4\n",
      "6\n",
      "8\n"
     ]
    }
   ],
   "source": [
    "for indeks in range(0, 10, 2):\n",
    "    print(indeks)"
   ]
  },
  {
   "cell_type": "code",
   "execution_count": 33,
   "metadata": {},
   "outputs": [
    {
     "name": "stdout",
     "output_type": "stream",
     "text": [
      "0 2 4 6 8\n"
     ]
    }
   ],
   "source": [
    "print(*range(0, 10, 2))"
   ]
  },
  {
   "cell_type": "code",
   "execution_count": 0,
   "metadata": {},
   "outputs": [],
   "source": [
    "while True:\n",
    "    parola = input(\"Bir parola belirleyiniz: \")\n",
    "    \n",
    "    if not parola:\n",
    "        pass\n",
    "        \n",
    "    elif len(parola) > 18 or len(parola) < 8:\n",
    "        print(\"Parola 8 karakterden kısa, 18 karakterden uzun olamaz\")\n",
    "        \n",
    "    else:\n",
    "        print(\"Yeni parolanız tanımlanmıştır\")\n",
    "        break\n"
   ]
  },
  {
   "cell_type": "code",
   "execution_count": 35,
   "metadata": {
    "cocalc": {
     "outputs": {
      "0": {
       "name": "input",
       "opts": {
        "password": false,
        "prompt": "En fazla 3 haneli bir sayı giriniz: "
       },
       "output_type": "stream",
       "value": "4567777"
      },
      "2": {
       "name": "input",
       "opts": {
        "password": false,
        "prompt": "En fazla 3 haneli bir sayı giriniz: "
       },
       "output_type": "stream",
       "value": "44444444"
      },
      "4": {
       "name": "input",
       "opts": {
        "password": false,
        "prompt": "En fazla 3 haneli bir sayı giriniz: "
       },
       "output_type": "stream",
       "value": "43"
      },
      "5": {
       "name": "input",
       "opts": {
        "password": false,
        "prompt": "En fazla 3 haneli bir sayı giriniz: "
       },
       "output_type": "stream",
       "value": "33"
      },
      "6": {
       "name": "input",
       "opts": {
        "password": false,
        "prompt": "En fazla 3 haneli bir sayı giriniz: "
       },
       "output_type": "stream",
       "value": "444444444"
      },
      "7": {
       "name": "input",
       "opts": {
        "password": false,
        "prompt": "En fazla 3 haneli bir sayı giriniz: "
       },
       "output_type": "stream"
      }
     }
    }
   },
   "outputs": [
    {
     "name": "stdout",
     "output_type": "stream",
     "text": [
      "En fazla 3 haneli bir sayı giriniz:  4567777En fazla 3 haneli bir sayı girebilirsiniz!...\n",
      "En fazla 3 haneli bir sayı giriniz:  44444444En fazla 3 haneli bir sayı girebilirsiniz!...\n",
      "En fazla 3 haneli bir sayı giriniz:  43En fazla 3 haneli bir sayı giriniz:  33En fazla 3 haneli bir sayı giriniz:  444444444En fazla 3 haneli bir sayı giriniz:  En fazla 3 haneli bir sayı girebilirsiniz!...\n"
     ]
    }
   ],
   "source": [
    "while True:\n",
    "    sayi = input(\"En fazla 3 haneli bir sayı giriniz: \")\n",
    "    if sayi == \"iptal\":\n",
    "        break\n",
    "        \n",
    "    if len(sayi) <= 3:\n",
    "        continue\n",
    "    \n",
    "    print(\"En fazla 3 haneli bir sayı girebilirsiniz!...\")\n"
   ]
  },
  {
   "cell_type": "code",
   "execution_count": 37,
   "metadata": {},
   "outputs": [
    {
     "name": "stdout",
     "output_type": "stream",
     "text": [
      "Merhaba Dünya\n"
     ]
    }
   ],
   "source": [
    "# Error, Bug, Exception\n",
    "\n",
    "print(\"Merhaba Dünya\")\n"
   ]
  },
  {
   "cell_type": "code",
   "execution_count": 38,
   "metadata": {
    "cocalc": {
     "outputs": {
      "0": {
       "name": "input",
       "opts": {
        "password": false,
        "prompt": "Toplama işlemi için ilk sayı değerini giriniz: "
       },
       "output_type": "stream",
       "value": "45"
      },
      "1": {
       "name": "input",
       "opts": {
        "password": false,
        "prompt": "Toplama işlemi için ikinci sayı değerini giriniz: "
       },
       "output_type": "stream",
       "value": "757"
      }
     }
    }
   },
   "outputs": [
    {
     "name": "stdout",
     "output_type": "stream",
     "text": [
      "Toplama işlemi için ilk sayı değerini giriniz:  45Toplama işlemi için ikinci sayı değerini giriniz:  75745  +  757  =  45757\n"
     ]
    }
   ],
   "source": [
    "sayi1 = input(\"Toplama işlemi için ilk sayı değerini giriniz: \")\n",
    "sayi2 = input(\"Toplama işlemi için ikinci sayı değerini giriniz: \")\n",
    "print(sayi1, \" + \", sayi2, \" = \", sayi1 + sayi2)\n"
   ]
  },
  {
   "cell_type": "code",
   "execution_count": 41,
   "metadata": {
    "cocalc": {
     "outputs": {
      "0": {
       "name": "input",
       "opts": {
        "password": false,
        "prompt": "Bölme işlemi için ilk sayı değerini giriniz: "
       },
       "output_type": "stream",
       "value": "sdsdsd"
      }
     }
    }
   },
   "outputs": [
    {
     "name": "stdout",
     "output_type": "stream",
     "text": [
      "Bölme işlemi için ilk sayı değerini giriniz:  sdsdsd"
     ]
    },
    {
     "ename": "ValueError",
     "evalue": "invalid literal for int() with base 10: 'sdsdsd'",
     "output_type": "error",
     "traceback": [
      "\u001b[0;31m---------------------------------------------------------------------------\u001b[0m",
      "\u001b[0;31mValueError\u001b[0m                                Traceback (most recent call last)",
      "\u001b[0;32m<ipython-input-41-20fdca260186>\u001b[0m in \u001b[0;36m<module>\u001b[0;34m\u001b[0m\n\u001b[0;32m----> 1\u001b[0;31m \u001b[0msayi1\u001b[0m \u001b[0;34m=\u001b[0m \u001b[0mint\u001b[0m\u001b[0;34m(\u001b[0m\u001b[0minput\u001b[0m\u001b[0;34m(\u001b[0m\u001b[0;34m\"Bölme işlemi için ilk sayı değerini giriniz: \"\u001b[0m\u001b[0;34m)\u001b[0m\u001b[0;34m)\u001b[0m\u001b[0;34m\u001b[0m\u001b[0;34m\u001b[0m\u001b[0m\n\u001b[0m\u001b[1;32m      2\u001b[0m \u001b[0msayi2\u001b[0m \u001b[0;34m=\u001b[0m \u001b[0mint\u001b[0m\u001b[0;34m(\u001b[0m\u001b[0minput\u001b[0m\u001b[0;34m(\u001b[0m\u001b[0;34m\"Bölme işlemi için ikinci sayı değerini giriniz: \"\u001b[0m\u001b[0;34m)\u001b[0m\u001b[0;34m)\u001b[0m\u001b[0;34m\u001b[0m\u001b[0;34m\u001b[0m\u001b[0m\n\u001b[1;32m      3\u001b[0m \u001b[0mprint\u001b[0m\u001b[0;34m(\u001b[0m\u001b[0msayi1\u001b[0m\u001b[0;34m,\u001b[0m \u001b[0;34m\" / \"\u001b[0m\u001b[0;34m,\u001b[0m \u001b[0msayi2\u001b[0m\u001b[0;34m,\u001b[0m \u001b[0;34m\" = \"\u001b[0m\u001b[0;34m,\u001b[0m \u001b[0msayi1\u001b[0m \u001b[0;34m/\u001b[0m \u001b[0msayi2\u001b[0m\u001b[0;34m)\u001b[0m\u001b[0;34m\u001b[0m\u001b[0;34m\u001b[0m\u001b[0m\n",
      "\u001b[0;31mValueError\u001b[0m: invalid literal for int() with base 10: 'sdsdsd'"
     ]
    }
   ],
   "source": [
    "sayi1 = int(input(\"Bölme işlemi için ilk sayı değerini giriniz: \"))\n",
    "sayi2 = int(input(\"Bölme işlemi için ikinci sayı değerini giriniz: \"))\n",
    "print(sayi1, \" / \", sayi2, \" = \", sayi1 / sayi2)\n",
    "\n",
    "\n",
    "\n"
   ]
  },
  {
   "cell_type": "code",
   "execution_count": 42,
   "metadata": {
    "cocalc": {
     "outputs": {
      "0": {
       "name": "input",
       "opts": {
        "password": false,
        "prompt": "Bölme işlemi için ilk sayı değerini giriniz: "
       },
       "output_type": "stream",
       "value": "44"
      },
      "1": {
       "name": "input",
       "opts": {
        "password": false,
        "prompt": "Bölme işlemi için ikinci sayı değerini giriniz: "
       },
       "output_type": "stream",
       "value": "0"
      }
     }
    }
   },
   "outputs": [
    {
     "name": "stdout",
     "output_type": "stream",
     "text": [
      "Bölme işlemi için ilk sayı değerini giriniz:  44Bölme işlemi için ikinci sayı değerini giriniz:  0"
     ]
    },
    {
     "ename": "ZeroDivisionError",
     "evalue": "division by zero",
     "output_type": "error",
     "traceback": [
      "\u001b[0;31m---------------------------------------------------------------------------\u001b[0m",
      "\u001b[0;31mZeroDivisionError\u001b[0m                         Traceback (most recent call last)",
      "\u001b[0;32m<ipython-input-42-20fdca260186>\u001b[0m in \u001b[0;36m<module>\u001b[0;34m\u001b[0m\n\u001b[1;32m      1\u001b[0m \u001b[0msayi1\u001b[0m \u001b[0;34m=\u001b[0m \u001b[0mint\u001b[0m\u001b[0;34m(\u001b[0m\u001b[0minput\u001b[0m\u001b[0;34m(\u001b[0m\u001b[0;34m\"Bölme işlemi için ilk sayı değerini giriniz: \"\u001b[0m\u001b[0;34m)\u001b[0m\u001b[0;34m)\u001b[0m\u001b[0;34m\u001b[0m\u001b[0;34m\u001b[0m\u001b[0m\n\u001b[1;32m      2\u001b[0m \u001b[0msayi2\u001b[0m \u001b[0;34m=\u001b[0m \u001b[0mint\u001b[0m\u001b[0;34m(\u001b[0m\u001b[0minput\u001b[0m\u001b[0;34m(\u001b[0m\u001b[0;34m\"Bölme işlemi için ikinci sayı değerini giriniz: \"\u001b[0m\u001b[0;34m)\u001b[0m\u001b[0;34m)\u001b[0m\u001b[0;34m\u001b[0m\u001b[0;34m\u001b[0m\u001b[0m\n\u001b[0;32m----> 3\u001b[0;31m \u001b[0mprint\u001b[0m\u001b[0;34m(\u001b[0m\u001b[0msayi1\u001b[0m\u001b[0;34m,\u001b[0m \u001b[0;34m\" / \"\u001b[0m\u001b[0;34m,\u001b[0m \u001b[0msayi2\u001b[0m\u001b[0;34m,\u001b[0m \u001b[0;34m\" = \"\u001b[0m\u001b[0;34m,\u001b[0m \u001b[0msayi1\u001b[0m \u001b[0;34m/\u001b[0m \u001b[0msayi2\u001b[0m\u001b[0;34m)\u001b[0m\u001b[0;34m\u001b[0m\u001b[0;34m\u001b[0m\u001b[0m\n\u001b[0m",
      "\u001b[0;31mZeroDivisionError\u001b[0m: division by zero"
     ]
    }
   ],
   "source": [
    "sayi1 = int(input(\"Bölme işlemi için ilk sayı değerini giriniz: \"))\n",
    "sayi2 = int(input(\"Bölme işlemi için ikinci sayı değerini giriniz: \"))\n",
    "print(sayi1, \" / \", sayi2, \" = \", sayi1 / sayi2)\n"
   ]
  },
  {
   "cell_type": "code",
   "execution_count": 43,
   "metadata": {
    "cocalc": {
     "outputs": {
      "0": {
       "name": "input",
       "opts": {
        "password": false,
        "prompt": "Bölme işlemi için ilk sayı değerini giriniz: "
       },
       "output_type": "stream",
       "value": "ddddd"
      },
      "1": {
       "name": "input",
       "opts": {
        "password": false,
        "prompt": "Bölme işlemi için ikinci sayı değerini giriniz: "
       },
       "output_type": "stream",
       "value": "fdfdf"
      }
     }
    }
   },
   "outputs": [
    {
     "name": "stdout",
     "output_type": "stream",
     "text": [
      "Bölme işlemi için ilk sayı değerini giriniz:  dddddBölme işlemi için ikinci sayı değerini giriniz:  fdfdfLütfen sadece sayı girin!...\n"
     ]
    }
   ],
   "source": [
    "sayi1 = input(\"Bölme işlemi için ilk sayı değerini giriniz: \")\n",
    "sayi2 = input(\"Bölme işlemi için ikinci sayı değerini giriniz: \")\n",
    "\n",
    "# try .....   except\n",
    "\n",
    "try:\n",
    "    ilk_sayi = int(sayi1)\n",
    "    ikinci_sayi = int(sayi2)\n",
    "    print(ilk_sayi, \"/\", ikinci_sayi, \"=\", ilk_sayi / ikinci_sayi)\n",
    "except ValueError:\n",
    "    print(\"Lütfen sadece sayı girin!...\")\n",
    "    \n"
   ]
  },
  {
   "cell_type": "code",
   "execution_count": 44,
   "metadata": {
    "cocalc": {
     "outputs": {
      "0": {
       "name": "input",
       "opts": {
        "password": false,
        "prompt": "Bölme işlemi için ilk sayı değerini giriniz: "
       },
       "output_type": "stream",
       "value": "333"
      },
      "1": {
       "name": "input",
       "opts": {
        "password": false,
        "prompt": "Bölme işlemi için ikinci sayı değerini giriniz: "
       },
       "output_type": "stream",
       "value": "0"
      }
     }
    }
   },
   "outputs": [
    {
     "name": "stdout",
     "output_type": "stream",
     "text": [
      "Bölme işlemi için ilk sayı değerini giriniz:  333Bölme işlemi için ikinci sayı değerini giriniz:  0Bir sayıyı 0'a bölemezsiniz!...\n"
     ]
    }
   ],
   "source": [
    "sayi1 = input(\"Bölme işlemi için ilk sayı değerini giriniz: \")\n",
    "sayi2 = input(\"Bölme işlemi için ikinci sayı değerini giriniz: \")\n",
    "\n",
    "# try .....   except\n",
    "\n",
    "try:\n",
    "    ilk_sayi = int(sayi1)\n",
    "    ikinci_sayi = int(sayi2)\n",
    "    print(ilk_sayi, \"/\", ikinci_sayi, \"=\", ilk_sayi / ikinci_sayi)\n",
    "except ZeroDivisionError:\n",
    "    print(\"Bir sayıyı 0'a bölemezsiniz!...\")\n"
   ]
  },
  {
   "cell_type": "code",
   "execution_count": 47,
   "metadata": {
    "cocalc": {
     "outputs": {
      "0": {
       "name": "input",
       "opts": {
        "password": false,
        "prompt": "Bölme işlemi için ilk sayı değerini giriniz: "
       },
       "output_type": "stream",
       "value": "ffff"
      },
      "1": {
       "name": "input",
       "opts": {
        "password": false,
        "prompt": "Bölme işlemi için ikinci sayı değerini giriniz: "
       },
       "output_type": "stream",
       "value": "0"
      }
     }
    }
   },
   "outputs": [
    {
     "name": "stdout",
     "output_type": "stream",
     "text": [
      "Bölme işlemi için ilk sayı değerini giriniz:  ffffBölme işlemi için ikinci sayı değerini giriniz:  0Lütfen bir sayı giriniz!...\n"
     ]
    }
   ],
   "source": [
    "sayi1 = input(\"Bölme işlemi için ilk sayı değerini giriniz: \")\n",
    "sayi2 = input(\"Bölme işlemi için ikinci sayı değerini giriniz: \")\n",
    "\n",
    "# try .....   except\n",
    "\n",
    "try:\n",
    "    ilk_sayi = int(sayi1)\n",
    "    ikinci_sayi = int(sayi2)\n",
    "    print(ilk_sayi, \"/\", ikinci_sayi, \"=\", ilk_sayi / ikinci_sayi)\n",
    "except ZeroDivisionError:\n",
    "    print(\"Bir sayıyı 0'a bölemezsiniz!...\")\n",
    "except ValueError:\n",
    "    print(\"Lütfen bir sayı giriniz!...\")\n"
   ]
  },
  {
   "cell_type": "code",
   "execution_count": 53,
   "metadata": {
    "cocalc": {
     "outputs": {
      "0": {
       "name": "input",
       "opts": {
        "password": false,
        "prompt": "Bölme işlemi için ilk sayı değerini giriniz: "
       },
       "output_type": "stream",
       "value": "ffff"
      },
      "1": {
       "name": "input",
       "opts": {
        "password": false,
        "prompt": "Bölme işlemi için ikinci sayı değerini giriniz: "
       },
       "output_type": "stream",
       "value": "444"
      }
     }
    }
   },
   "outputs": [
    {
     "name": "stdout",
     "output_type": "stream",
     "text": [
      "Bölme işlemi için ilk sayı değerini giriniz:  ffffBölme işlemi için ikinci sayı değerini giriniz:  444Bir Hata Oluştu!...\n",
      "Orijinal Hata Mesajı:  invalid literal for int() with base 10: 'ffff'\n"
     ]
    }
   ],
   "source": [
    "sayi1 = input(\"Bölme işlemi için ilk sayı değerini giriniz: \")\n",
    "sayi2 = input(\"Bölme işlemi için ikinci sayı değerini giriniz: \")\n",
    "\n",
    "# try .....   except ....    as\n",
    "\n",
    "try:\n",
    "    ilk_sayi = int(sayi1)\n",
    "    ikinci_sayi = int(sayi2)\n",
    "    print(ilk_sayi, \"/\", ikinci_sayi, \"=\", ilk_sayi / ikinci_sayi)\n",
    "except (ValueError, ZeroDivisionError) as hata_metni:\n",
    "    print(\"Bir Hata Oluştu!...\")\n",
    "    print(\"Orijinal Hata Mesajı: \", hata_metni)\n"
   ]
  },
  {
   "cell_type": "code",
   "execution_count": 0,
   "metadata": {},
   "outputs": [],
   "source": [
    "# try .....   except ....    else\n",
    "\n",
    "try:\n",
    "    ilk_sayi = int(input(\"Bölme işlemi için ilk sayı değerini giriniz: \"))\n",
    "    ikinci_sayi = int(input(\"Bölme işlemi için ikinci sayı değerini giriniz: \"))\n",
    "except ValueError:\n",
    "    print(\"Lütfen Sayı Değeri Giriniz!...\")\n",
    "else:\n",
    "    try:\n",
    "        print(ilk_sayi/ikinci_sayi)\n",
    "    except ZeroDivisionError:\n",
    "        print(\"Bir sayıyı 0'a bölemezsiniz!...\")\n",
    "        "
   ]
  },
  {
   "cell_type": "code",
   "execution_count": 0,
   "metadata": {},
   "outputs": [],
   "source": [
    "# try .....   except ....    finally\n",
    "\n",
    "try:\n",
    "    # hata olmadığında yapılacak bir takım işler\n",
    "except HataKodu:\n",
    "    # hata alınınca yapılması gereken işler\n",
    "finally:\n",
    "    # her halükarda yapılması gereken işler\n",
    "\n",
    "\n",
    "\n",
    "\n",
    "\n",
    "\n",
    "\n"
   ]
  },
  {
   "cell_type": "code",
   "execution_count": 54,
   "metadata": {
    "cocalc": {
     "outputs": {
      "0": {
       "name": "input",
       "opts": {
        "password": false,
        "prompt": "Bölünecek sayıyı giriniz: "
       },
       "output_type": "stream",
       "value": "23"
      }
     }
    }
   },
   "outputs": [
    {
     "name": "stdout",
     "output_type": "stream",
     "text": [
      "Bölünecek sayıyı giriniz:  23"
     ]
    },
    {
     "ename": "Exception",
     "evalue": "23 asal olduğu için bölünemeyebilir!...",
     "output_type": "error",
     "traceback": [
      "\u001b[0;31m---------------------------------------------------------------------------\u001b[0m",
      "\u001b[0;31mException\u001b[0m                                 Traceback (most recent call last)",
      "\u001b[0;32m<ipython-input-54-8f53c1a85091>\u001b[0m in \u001b[0;36m<module>\u001b[0;34m\u001b[0m\n\u001b[1;32m      2\u001b[0m \u001b[0;34m\u001b[0m\u001b[0m\n\u001b[1;32m      3\u001b[0m \u001b[0;32mif\u001b[0m \u001b[0mbolunen_sayi\u001b[0m \u001b[0;34m==\u001b[0m \u001b[0;36m23\u001b[0m\u001b[0;34m:\u001b[0m\u001b[0;34m\u001b[0m\u001b[0;34m\u001b[0m\u001b[0m\n\u001b[0;32m----> 4\u001b[0;31m     \u001b[0;32mraise\u001b[0m \u001b[0mException\u001b[0m\u001b[0;34m(\u001b[0m\u001b[0;34m\"23 asal olduğu için bölünemeyebilir!...\"\u001b[0m\u001b[0;34m)\u001b[0m\u001b[0;34m\u001b[0m\u001b[0;34m\u001b[0m\u001b[0m\n\u001b[0m\u001b[1;32m      5\u001b[0m \u001b[0;34m\u001b[0m\u001b[0m\n\u001b[1;32m      6\u001b[0m \u001b[0mbolen_sayi\u001b[0m \u001b[0;34m=\u001b[0m \u001b[0mint\u001b[0m\u001b[0;34m(\u001b[0m\u001b[0minput\u001b[0m\u001b[0;34m(\u001b[0m\u001b[0;34m\"Bölecek sayıyı giriniz: \"\u001b[0m\u001b[0;34m)\u001b[0m\u001b[0;34m)\u001b[0m\u001b[0;34m\u001b[0m\u001b[0;34m\u001b[0m\u001b[0m\n",
      "\u001b[0;31mException\u001b[0m: 23 asal olduğu için bölünemeyebilir!..."
     ]
    }
   ],
   "source": [
    "bolunen_sayi = int(input(\"Bölünecek sayıyı giriniz: \"))\n",
    "\n",
    "if bolunen_sayi == 23:\n",
    "    raise Exception(\"23 asal olduğu için bölünemeyebilir!...\")\n",
    "\n",
    "bolen_sayi = int(input(\"Bölecek sayıyı giriniz: \"))\n",
    "print(bolunen_sayi/bolen_sayi)\n"
   ]
  },
  {
   "cell_type": "code",
   "execution_count": 56,
   "metadata": {
    "cocalc": {
     "outputs": {
      "0": {
       "name": "input",
       "opts": {
        "password": false,
        "prompt": "Lütfen parolanızı giriniz: "
       },
       "output_type": "stream",
       "value": ""
      }
     }
    }
   },
   "outputs": [
    {
     "name": "stdout",
     "output_type": "stream",
     "text": [
      "Lütfen parolanızı giriniz:  "
     ]
    },
    {
     "ename": "AssertionError",
     "evalue": "Parola boş geçilemez!...",
     "output_type": "error",
     "traceback": [
      "\u001b[0;31m---------------------------------------------------------------------------\u001b[0m",
      "\u001b[0;31mAssertionError\u001b[0m                            Traceback (most recent call last)",
      "\u001b[0;32m<ipython-input-56-3fe531d11dac>\u001b[0m in \u001b[0;36m<module>\u001b[0;34m\u001b[0m\n\u001b[1;32m      2\u001b[0m \u001b[0;34m\u001b[0m\u001b[0m\n\u001b[1;32m      3\u001b[0m \u001b[0;32mif\u001b[0m \u001b[0mlen\u001b[0m\u001b[0;34m(\u001b[0m\u001b[0mgirdi_metni\u001b[0m\u001b[0;34m)\u001b[0m \u001b[0;34m==\u001b[0m \u001b[0;36m0\u001b[0m\u001b[0;34m:\u001b[0m\u001b[0;34m\u001b[0m\u001b[0;34m\u001b[0m\u001b[0m\n\u001b[0;32m----> 4\u001b[0;31m     \u001b[0;32mraise\u001b[0m \u001b[0mAssertionError\u001b[0m\u001b[0;34m(\u001b[0m\u001b[0;34m\"Parola boş geçilemez!...\"\u001b[0m\u001b[0;34m)\u001b[0m\u001b[0;34m\u001b[0m\u001b[0;34m\u001b[0m\u001b[0m\n\u001b[0m\u001b[1;32m      5\u001b[0m \u001b[0;34m\u001b[0m\u001b[0m\n\u001b[1;32m      6\u001b[0m \u001b[0mprint\u001b[0m\u001b[0;34m(\u001b[0m\u001b[0;34m\"Hoşgeldiniz\"\u001b[0m\u001b[0;34m)\u001b[0m\u001b[0;34m\u001b[0m\u001b[0;34m\u001b[0m\u001b[0m\n",
      "\u001b[0;31mAssertionError\u001b[0m: Parola boş geçilemez!..."
     ]
    }
   ],
   "source": [
    "girdi_metni = input(\"Lütfen parolanızı giriniz: \")\n",
    "\n",
    "if len(girdi_metni) == 0:\n",
    "    raise AssertionError(\"Parola boş geçilemez!...\")\n",
    "\n",
    "print(\"Hoşgeldiniz\")"
   ]
  },
  {
   "cell_type": "code",
   "execution_count": 58,
   "metadata": {
    "cocalc": {
     "outputs": {
      "0": {
       "name": "input",
       "opts": {
        "password": false,
        "prompt": "Lütfen parolanızı giriniz: "
       },
       "output_type": "stream",
       "value": ""
      }
     }
    }
   },
   "outputs": [
    {
     "name": "stdout",
     "output_type": "stream",
     "text": [
      "Lütfen parolanızı giriniz:  "
     ]
    },
    {
     "ename": "AssertionError",
     "evalue": "Parola boş geçilemez!...",
     "output_type": "error",
     "traceback": [
      "\u001b[0;31m---------------------------------------------------------------------------\u001b[0m",
      "\u001b[0;31mAssertionError\u001b[0m                            Traceback (most recent call last)",
      "\u001b[0;32m<ipython-input-58-3853657c8f4f>\u001b[0m in \u001b[0;36m<module>\u001b[0;34m\u001b[0m\n\u001b[1;32m      1\u001b[0m \u001b[0mgirdi_metni\u001b[0m \u001b[0;34m=\u001b[0m \u001b[0minput\u001b[0m\u001b[0;34m(\u001b[0m\u001b[0;34m\"Lütfen parolanızı giriniz: \"\u001b[0m\u001b[0;34m)\u001b[0m\u001b[0;34m\u001b[0m\u001b[0;34m\u001b[0m\u001b[0m\n\u001b[1;32m      2\u001b[0m \u001b[0;34m\u001b[0m\u001b[0m\n\u001b[0;32m----> 3\u001b[0;31m \u001b[0;32massert\u001b[0m \u001b[0mlen\u001b[0m\u001b[0;34m(\u001b[0m\u001b[0mgirdi_metni\u001b[0m\u001b[0;34m)\u001b[0m \u001b[0;34m!=\u001b[0m \u001b[0;36m0\u001b[0m\u001b[0;34m,\u001b[0m \u001b[0;34m\"Parola boş geçilemez!...\"\u001b[0m\u001b[0;34m\u001b[0m\u001b[0;34m\u001b[0m\u001b[0m\n\u001b[0m\u001b[1;32m      4\u001b[0m \u001b[0;34m\u001b[0m\u001b[0m\n\u001b[1;32m      5\u001b[0m \u001b[0mprint\u001b[0m\u001b[0;34m(\u001b[0m\u001b[0;34m\"Hoşgeldiniz\"\u001b[0m\u001b[0;34m)\u001b[0m\u001b[0;34m\u001b[0m\u001b[0;34m\u001b[0m\u001b[0m\n",
      "\u001b[0;31mAssertionError\u001b[0m: Parola boş geçilemez!..."
     ]
    }
   ],
   "source": [
    "girdi_metni = input(\"Lütfen parolanızı giriniz: \")\n",
    "\n",
    "assert len(girdi_metni) != 0, \"Parola boş geçilemez!...\"\n",
    "\n",
    "print(\"Hoşgeldiniz\")\n"
   ]
  },
  {
   "cell_type": "code",
   "execution_count": 74,
   "metadata": {},
   "outputs": [
    {
     "name": "stdout",
     "output_type": "stream",
     "text": [
      "P\n",
      "y\n",
      "t\n",
      "h\n",
      "o\n",
      "n\n"
     ]
    }
   ],
   "source": [
    "#  immutable         versus            mutable\n",
    "\n",
    "karakter_dizisi = \"Python\"\n",
    "for indeks in range(len(karakter_dizisi)):\n",
    "    print(karakter_dizisi[indeks])"
   ]
  },
  {
   "cell_type": "code",
   "execution_count": 82,
   "metadata": {},
   "outputs": [
    {
     "name": "stdout",
     "output_type": "stream",
     "text": [
      "Python\n",
      "Pyt\n",
      "Pyt\n",
      "...\n",
      "hon\n",
      "hon\n",
      "...\n",
      "th\n",
      "Bütün işlemler sonunda: \n",
      "Python\n"
     ]
    }
   ],
   "source": [
    "karakter_dizisi = \"Python\"\n",
    "print(karakter_dizisi)\n",
    "print(karakter_dizisi[0:3])\n",
    "print(karakter_dizisi[:3])\n",
    "print(\"...\")\n",
    "print(karakter_dizisi[3:6])\n",
    "print(karakter_dizisi[3:])\n",
    "print(\"...\")\n",
    "print(karakter_dizisi[2:4])\n",
    "print(\"Bütün işlemler sonunda: \")\n",
    "print(karakter_dizisi)\n"
   ]
  },
  {
   "cell_type": "code",
   "execution_count": 84,
   "metadata": {},
   "outputs": [
    {
     "data": {
      "text/plain": [
       "['i', 'i', 'k', 'l', 'ç', 'ğ']"
      ]
     },
     "execution_count": 84,
     "metadata": {},
     "output_type": "execute_result"
    }
   ],
   "source": [
    "sorted(\"çiğlik\")"
   ]
  },
  {
   "cell_type": "code",
   "execution_count": 86,
   "metadata": {},
   "outputs": [
    {
     "data": {
      "text/plain": [
       "['ç', 'ğ', 'i', 'i', 'k', 'l']"
      ]
     },
     "execution_count": 86,
     "metadata": {},
     "output_type": "execute_result"
    }
   ],
   "source": [
    "import locale\n",
    "# locale.setlocale(locale.LC_ALL, \"Turkish_Turkey.1254\")   # Windows için\n",
    "locale.setlocale(locale.LC_ALL, \"tr_TR\")   # GNU/Linux için\n",
    "sorted(\"çiğlik\", key=locale.strxfrm)\n"
   ]
  },
  {
   "cell_type": "code",
   "execution_count": 91,
   "metadata": {},
   "outputs": [
    {
     "name": "stdout",
     "output_type": "stream",
     "text": [
      "ankara\n",
      "140560039846960\n",
      "Ankara\n",
      "140560039851632\n",
      "Ankara\n"
     ]
    }
   ],
   "source": [
    "deneme_metni = \"ankara\"\n",
    "print(deneme_metni)\n",
    "print(id(deneme_metni))\n",
    "print(\"A\" + deneme_metni[1:])\n",
    "\n",
    "deneme_metni = \"A\" + deneme_metni[1:]\n",
    "print(id(deneme_metni))\n",
    "print(deneme_metni)"
   ]
  },
  {
   "cell_type": "code",
   "execution_count": 8,
   "metadata": {},
   "outputs": [
    {
     "name": "stdout",
     "output_type": "stream",
     "text": [
      "nohtyP\n"
     ]
    }
   ],
   "source": [
    "# bir dizinin dilimlenmesi\n",
    "# herhangi_bir_dizi[başlangıç_indeksi : aşılmaması_gereken_indeks : adım_büyüklüğü]\n",
    "# herhangi_bir_dizi[ : aşılmaması_gereken_indeks : adım_büyüklüğü]    -> başlangıç_indeksi = 0 demek\n",
    "# herhangi_bir_dizi[başlangıç_indeksi : aşılmaması_gereken_indeks]    -> adım_büyüklüğü = 1 demek\n",
    "# herhangi_bir_dizi[başlangıç_indeksi :  : adım_büyüklüğü]            -> aşılmaması_gereken_indeks = dizinin son elemanının # indeksi\n",
    "\n",
    "karakter_dizisi = \"Python\"\n",
    "#print(karakter_dizisi[0:6:1])\n",
    "#print(karakter_dizisi[::])\n",
    "#print(karakter_dizisi[:4:1])\n",
    "#print(karakter_dizisi[0:6])\n",
    "#print(karakter_dizisi[0:6:2])\n",
    "#print(karakter_dizisi[0:-1])\n",
    "#print(karakter_dizisi[6:0:-1])\n",
    "print(karakter_dizisi[::-1])\n"
   ]
  },
  {
   "cell_type": "code",
   "execution_count": 9,
   "metadata": {},
   "outputs": [
    {
     "data": {
      "text/plain": [
       "['__add__',\n",
       " '__class__',\n",
       " '__contains__',\n",
       " '__delattr__',\n",
       " '__dir__',\n",
       " '__doc__',\n",
       " '__eq__',\n",
       " '__format__',\n",
       " '__ge__',\n",
       " '__getattribute__',\n",
       " '__getitem__',\n",
       " '__getnewargs__',\n",
       " '__gt__',\n",
       " '__hash__',\n",
       " '__init__',\n",
       " '__init_subclass__',\n",
       " '__iter__',\n",
       " '__le__',\n",
       " '__len__',\n",
       " '__lt__',\n",
       " '__mod__',\n",
       " '__mul__',\n",
       " '__ne__',\n",
       " '__new__',\n",
       " '__reduce__',\n",
       " '__reduce_ex__',\n",
       " '__repr__',\n",
       " '__rmod__',\n",
       " '__rmul__',\n",
       " '__setattr__',\n",
       " '__sizeof__',\n",
       " '__str__',\n",
       " '__subclasshook__',\n",
       " 'capitalize',\n",
       " 'casefold',\n",
       " 'center',\n",
       " 'count',\n",
       " 'encode',\n",
       " 'endswith',\n",
       " 'expandtabs',\n",
       " 'find',\n",
       " 'format',\n",
       " 'format_map',\n",
       " 'index',\n",
       " 'isalnum',\n",
       " 'isalpha',\n",
       " 'isascii',\n",
       " 'isdecimal',\n",
       " 'isdigit',\n",
       " 'isidentifier',\n",
       " 'islower',\n",
       " 'isnumeric',\n",
       " 'isprintable',\n",
       " 'isspace',\n",
       " 'istitle',\n",
       " 'isupper',\n",
       " 'join',\n",
       " 'ljust',\n",
       " 'lower',\n",
       " 'lstrip',\n",
       " 'maketrans',\n",
       " 'partition',\n",
       " 'replace',\n",
       " 'rfind',\n",
       " 'rindex',\n",
       " 'rjust',\n",
       " 'rpartition',\n",
       " 'rsplit',\n",
       " 'rstrip',\n",
       " 'split',\n",
       " 'splitlines',\n",
       " 'startswith',\n",
       " 'strip',\n",
       " 'swapcase',\n",
       " 'title',\n",
       " 'translate',\n",
       " 'upper',\n",
       " 'zfill']"
      ]
     },
     "execution_count": 9,
     "metadata": {},
     "output_type": "execute_result"
    }
   ],
   "source": [
    "dir(str)"
   ]
  },
  {
   "cell_type": "code",
   "execution_count": 10,
   "metadata": {},
   "outputs": [
    {
     "data": {
      "text/plain": [
       "['__abs__',\n",
       " '__add__',\n",
       " '__and__',\n",
       " '__bool__',\n",
       " '__ceil__',\n",
       " '__class__',\n",
       " '__delattr__',\n",
       " '__dir__',\n",
       " '__divmod__',\n",
       " '__doc__',\n",
       " '__eq__',\n",
       " '__float__',\n",
       " '__floor__',\n",
       " '__floordiv__',\n",
       " '__format__',\n",
       " '__ge__',\n",
       " '__getattribute__',\n",
       " '__getnewargs__',\n",
       " '__gt__',\n",
       " '__hash__',\n",
       " '__index__',\n",
       " '__init__',\n",
       " '__init_subclass__',\n",
       " '__int__',\n",
       " '__invert__',\n",
       " '__le__',\n",
       " '__lshift__',\n",
       " '__lt__',\n",
       " '__mod__',\n",
       " '__mul__',\n",
       " '__ne__',\n",
       " '__neg__',\n",
       " '__new__',\n",
       " '__or__',\n",
       " '__pos__',\n",
       " '__pow__',\n",
       " '__radd__',\n",
       " '__rand__',\n",
       " '__rdivmod__',\n",
       " '__reduce__',\n",
       " '__reduce_ex__',\n",
       " '__repr__',\n",
       " '__rfloordiv__',\n",
       " '__rlshift__',\n",
       " '__rmod__',\n",
       " '__rmul__',\n",
       " '__ror__',\n",
       " '__round__',\n",
       " '__rpow__',\n",
       " '__rrshift__',\n",
       " '__rshift__',\n",
       " '__rsub__',\n",
       " '__rtruediv__',\n",
       " '__rxor__',\n",
       " '__setattr__',\n",
       " '__sizeof__',\n",
       " '__str__',\n",
       " '__sub__',\n",
       " '__subclasshook__',\n",
       " '__truediv__',\n",
       " '__trunc__',\n",
       " '__xor__',\n",
       " 'as_integer_ratio',\n",
       " 'bit_length',\n",
       " 'conjugate',\n",
       " 'denominator',\n",
       " 'from_bytes',\n",
       " 'imag',\n",
       " 'numerator',\n",
       " 'real',\n",
       " 'to_bytes']"
      ]
     },
     "execution_count": 10,
     "metadata": {},
     "output_type": "execute_result"
    }
   ],
   "source": [
    "dir(int)"
   ]
  },
  {
   "cell_type": "code",
   "execution_count": 11,
   "metadata": {},
   "outputs": [
    {
     "data": {
      "text/plain": [
       "['__abs__',\n",
       " '__add__',\n",
       " '__bool__',\n",
       " '__class__',\n",
       " '__delattr__',\n",
       " '__dir__',\n",
       " '__divmod__',\n",
       " '__doc__',\n",
       " '__eq__',\n",
       " '__float__',\n",
       " '__floordiv__',\n",
       " '__format__',\n",
       " '__ge__',\n",
       " '__getattribute__',\n",
       " '__getformat__',\n",
       " '__getnewargs__',\n",
       " '__gt__',\n",
       " '__hash__',\n",
       " '__init__',\n",
       " '__init_subclass__',\n",
       " '__int__',\n",
       " '__le__',\n",
       " '__lt__',\n",
       " '__mod__',\n",
       " '__mul__',\n",
       " '__ne__',\n",
       " '__neg__',\n",
       " '__new__',\n",
       " '__pos__',\n",
       " '__pow__',\n",
       " '__radd__',\n",
       " '__rdivmod__',\n",
       " '__reduce__',\n",
       " '__reduce_ex__',\n",
       " '__repr__',\n",
       " '__rfloordiv__',\n",
       " '__rmod__',\n",
       " '__rmul__',\n",
       " '__round__',\n",
       " '__rpow__',\n",
       " '__rsub__',\n",
       " '__rtruediv__',\n",
       " '__set_format__',\n",
       " '__setattr__',\n",
       " '__sizeof__',\n",
       " '__str__',\n",
       " '__sub__',\n",
       " '__subclasshook__',\n",
       " '__truediv__',\n",
       " '__trunc__',\n",
       " 'as_integer_ratio',\n",
       " 'conjugate',\n",
       " 'fromhex',\n",
       " 'hex',\n",
       " 'imag',\n",
       " 'is_integer',\n",
       " 'real']"
      ]
     },
     "execution_count": 11,
     "metadata": {},
     "output_type": "execute_result"
    }
   ],
   "source": [
    "dir(float)"
   ]
  },
  {
   "cell_type": "code",
   "execution_count": 12,
   "metadata": {},
   "outputs": [
    {
     "data": {
      "text/plain": [
       "['__abs__',\n",
       " '__add__',\n",
       " '__bool__',\n",
       " '__class__',\n",
       " '__delattr__',\n",
       " '__dir__',\n",
       " '__divmod__',\n",
       " '__doc__',\n",
       " '__eq__',\n",
       " '__float__',\n",
       " '__floordiv__',\n",
       " '__format__',\n",
       " '__ge__',\n",
       " '__getattribute__',\n",
       " '__getnewargs__',\n",
       " '__gt__',\n",
       " '__hash__',\n",
       " '__init__',\n",
       " '__init_subclass__',\n",
       " '__int__',\n",
       " '__le__',\n",
       " '__lt__',\n",
       " '__mod__',\n",
       " '__mul__',\n",
       " '__ne__',\n",
       " '__neg__',\n",
       " '__new__',\n",
       " '__pos__',\n",
       " '__pow__',\n",
       " '__radd__',\n",
       " '__rdivmod__',\n",
       " '__reduce__',\n",
       " '__reduce_ex__',\n",
       " '__repr__',\n",
       " '__rfloordiv__',\n",
       " '__rmod__',\n",
       " '__rmul__',\n",
       " '__rpow__',\n",
       " '__rsub__',\n",
       " '__rtruediv__',\n",
       " '__setattr__',\n",
       " '__sizeof__',\n",
       " '__str__',\n",
       " '__sub__',\n",
       " '__subclasshook__',\n",
       " '__truediv__',\n",
       " 'conjugate',\n",
       " 'imag',\n",
       " 'real']"
      ]
     },
     "execution_count": 12,
     "metadata": {},
     "output_type": "execute_result"
    }
   ],
   "source": [
    "dir(complex)"
   ]
  },
  {
   "cell_type": "code",
   "execution_count": 13,
   "metadata": {},
   "outputs": [
    {
     "data": {
      "text/plain": [
       "['__add__',\n",
       " '__class__',\n",
       " '__contains__',\n",
       " '__delattr__',\n",
       " '__dir__',\n",
       " '__doc__',\n",
       " '__eq__',\n",
       " '__format__',\n",
       " '__ge__',\n",
       " '__getattribute__',\n",
       " '__getitem__',\n",
       " '__getnewargs__',\n",
       " '__gt__',\n",
       " '__hash__',\n",
       " '__init__',\n",
       " '__init_subclass__',\n",
       " '__iter__',\n",
       " '__le__',\n",
       " '__len__',\n",
       " '__lt__',\n",
       " '__mod__',\n",
       " '__mul__',\n",
       " '__ne__',\n",
       " '__new__',\n",
       " '__reduce__',\n",
       " '__reduce_ex__',\n",
       " '__repr__',\n",
       " '__rmod__',\n",
       " '__rmul__',\n",
       " '__setattr__',\n",
       " '__sizeof__',\n",
       " '__str__',\n",
       " '__subclasshook__',\n",
       " 'capitalize',\n",
       " 'casefold',\n",
       " 'center',\n",
       " 'count',\n",
       " 'encode',\n",
       " 'endswith',\n",
       " 'expandtabs',\n",
       " 'find',\n",
       " 'format',\n",
       " 'format_map',\n",
       " 'index',\n",
       " 'isalnum',\n",
       " 'isalpha',\n",
       " 'isascii',\n",
       " 'isdecimal',\n",
       " 'isdigit',\n",
       " 'isidentifier',\n",
       " 'islower',\n",
       " 'isnumeric',\n",
       " 'isprintable',\n",
       " 'isspace',\n",
       " 'istitle',\n",
       " 'isupper',\n",
       " 'join',\n",
       " 'ljust',\n",
       " 'lower',\n",
       " 'lstrip',\n",
       " 'maketrans',\n",
       " 'partition',\n",
       " 'replace',\n",
       " 'rfind',\n",
       " 'rindex',\n",
       " 'rjust',\n",
       " 'rpartition',\n",
       " 'rsplit',\n",
       " 'rstrip',\n",
       " 'split',\n",
       " 'splitlines',\n",
       " 'startswith',\n",
       " 'strip',\n",
       " 'swapcase',\n",
       " 'title',\n",
       " 'translate',\n",
       " 'upper',\n",
       " 'zfill']"
      ]
     },
     "execution_count": 13,
     "metadata": {},
     "output_type": "execute_result"
    }
   ],
   "source": [
    "a = \"karakter dizisi\"\n",
    "dir(a)\n",
    "\n",
    "\n",
    "\n",
    "\n",
    "\n",
    "\n",
    "\n",
    "\n",
    "\n"
   ]
  },
  {
   "cell_type": "code",
   "execution_count": 14,
   "metadata": {},
   "outputs": [
    {
     "name": "stdout",
     "output_type": "stream",
     "text": [
      "karakter dizisi\n"
     ]
    }
   ],
   "source": [
    "print(a)"
   ]
  },
  {
   "cell_type": "code",
   "execution_count": 17,
   "metadata": {},
   "outputs": [],
   "source": [
    "a = a.capitalize()"
   ]
  },
  {
   "cell_type": "code",
   "execution_count": 18,
   "metadata": {},
   "outputs": [
    {
     "name": "stdout",
     "output_type": "stream",
     "text": [
      "Karakter dizisi\n"
     ]
    }
   ],
   "source": [
    "print(a)"
   ]
  },
  {
   "cell_type": "code",
   "execution_count": 19,
   "metadata": {},
   "outputs": [],
   "source": [
    "a = a.swapcase()"
   ]
  },
  {
   "cell_type": "code",
   "execution_count": 20,
   "metadata": {},
   "outputs": [
    {
     "name": "stdout",
     "output_type": "stream",
     "text": [
      "kARAKTER DIZISI\n"
     ]
    }
   ],
   "source": [
    "print(a)"
   ]
  },
  {
   "cell_type": "code",
   "execution_count": 22,
   "metadata": {},
   "outputs": [
    {
     "name": "stdout",
     "output_type": "stream",
     "text": [
      "(0, 'k') (1, 'A') (2, 'R') (3, 'A') (4, 'K') (5, 'T') (6, 'E') (7, 'R') (8, ' ') (9, 'D') (10, 'I') (11, 'Z') (12, 'I') (13, 'S') (14, 'I')\n"
     ]
    }
   ],
   "source": [
    "# enumerate(a)\n",
    "print(*enumerate(a))"
   ]
  },
  {
   "cell_type": "code",
   "execution_count": 23,
   "metadata": {},
   "outputs": [
    {
     "name": "stdout",
     "output_type": "stream",
     "text": [
      "(0, 'k')\n",
      "(1, 'A')\n",
      "(2, 'R')\n",
      "(3, 'A')\n",
      "(4, 'K')\n",
      "(5, 'T')\n",
      "(6, 'E')\n",
      "(7, 'R')\n",
      "(8, ' ')\n",
      "(9, 'D')\n",
      "(10, 'I')\n",
      "(11, 'Z')\n",
      "(12, 'I')\n",
      "(13, 'S')\n",
      "(14, 'I')\n"
     ]
    }
   ],
   "source": [
    "for indeks in enumerate(a):\n",
    "    print(indeks)"
   ]
  },
  {
   "cell_type": "code",
   "execution_count": 24,
   "metadata": {},
   "outputs": [
    {
     "name": "stdout",
     "output_type": "stream",
     "text": [
      "(1, 'k')\n",
      "(2, 'A')\n",
      "(3, 'R')\n",
      "(4, 'A')\n",
      "(5, 'K')\n",
      "(6, 'T')\n",
      "(7, 'E')\n",
      "(8, 'R')\n",
      "(9, ' ')\n",
      "(10, 'D')\n",
      "(11, 'I')\n",
      "(12, 'Z')\n",
      "(13, 'I')\n",
      "(14, 'S')\n",
      "(15, 'I')\n"
     ]
    }
   ],
   "source": [
    "for indeks in enumerate(a, 1):\n",
    "    print(indeks)"
   ]
  },
  {
   "cell_type": "code",
   "execution_count": 25,
   "metadata": {
    "cocalc": {
     "outputs": {
      "1": {
       "name": "input",
       "opts": {
        "password": false,
        "prompt": "help> "
       },
       "output_type": "stream",
       "value": "lower"
      },
      "2": {
       "name": "input",
       "opts": {
        "password": false,
        "prompt": "help> "
       },
       "output_type": "stream"
      },
      "5": {
       "name": "input",
       "opts": {
        "password": false,
        "prompt": "help> "
       },
       "output_type": "stream",
       "value": "quit"
      }
     }
    }
   },
   "outputs": [
    {
     "name": "stdout",
     "output_type": "stream",
     "text": [
      "\n",
      "Welcome to Python 3.8's help utility!\n",
      "\n",
      "If this is your first time using Python, you should definitely check out\n",
      "the tutorial on the Internet at https://docs.python.org/3.8/tutorial/.\n",
      "\n",
      "Enter the name of any module, keyword, or topic to get help on writing\n",
      "Python programs and using Python modules.  To quit this help utility and\n",
      "return to the interpreter, just type \"quit\".\n",
      "\n",
      "To get a list of available modules, keywords, symbols, or topics, type\n",
      "\"modules\", \"keywords\", \"symbols\", or \"topics\".  Each module also comes\n",
      "with a one-line summary of what it does; to list the modules whose name\n",
      "or summary contain a given string such as \"spam\", type \"modules spam\".\n",
      "\n",
      "help>  lowerhelp>  No Python documentation found for 'lower'.\n",
      "Use help() to get the interactive help utility.\n",
      "Use help(str) for help on the str class.\n",
      "\n",
      "Help on class str in module builtins:\n",
      "\n",
      "class str(object)\n",
      " |  str(object='') -> str\n",
      " |  str(bytes_or_buffer[, encoding[, errors]]) -> str\n",
      " |  \n",
      " |  Create a new string object from the given object. If encoding or\n",
      " |  errors is specified, then the object must expose a data buffer\n",
      " |  that will be decoded using the given encoding and error handler.\n",
      " |  Otherwise, returns the result of object.__str__() (if defined)\n",
      " |  or repr(object).\n",
      " |  encoding defaults to sys.getdefaultencoding().\n",
      " |  errors defaults to 'strict'.\n",
      " |  \n",
      " |  Methods defined here:\n",
      " |  \n",
      " |  __add__(self, value, /)\n",
      " |      Return self+value.\n",
      " |  \n",
      " |  __contains__(self, key, /)\n",
      " |      Return key in self.\n",
      " |  \n",
      " |  __eq__(self, value, /)\n",
      " |      Return self==value.\n",
      " |  \n",
      " |  __format__(self, format_spec, /)\n",
      " |      Return a formatted version of the string as described by format_spec.\n",
      " |  \n",
      " |  __ge__(self, value, /)\n",
      " |      Return self>=value.\n",
      " |  \n",
      " |  __getattribute__(self, name, /)\n",
      " |      Return getattr(self, name).\n",
      " |  \n",
      " |  __getitem__(self, key, /)\n",
      " |      Return self[key].\n",
      " |  \n",
      " |  __getnewargs__(...)\n",
      " |  \n",
      " |  __gt__(self, value, /)\n",
      " |      Return self>value.\n",
      " |  \n",
      " |  __hash__(self, /)\n",
      " |      Return hash(self).\n",
      " |  \n",
      " |  __iter__(self, /)\n",
      " |      Implement iter(self).\n",
      " |  \n",
      " |  __le__(self, value, /)\n",
      " |      Return self<=value.\n",
      " |  \n",
      " |  __len__(self, /)\n",
      " |      Return len(self).\n",
      " |  \n",
      " |  __lt__(self, value, /)\n",
      " |      Return self<value.\n",
      " |  \n",
      " |  __mod__(self, value, /)\n",
      " |      Return self%value.\n",
      " |  \n",
      " |  __mul__(self, value, /)\n",
      " |      Return self*value.\n",
      " |  \n",
      " |  __ne__(self, value, /)\n",
      " |      Return self!=value.\n",
      " |  \n",
      " |  __repr__(self, /)\n",
      " |      Return repr(self).\n",
      " |  \n",
      " |  __rmod__(self, value, /)\n",
      " |      Return value%self.\n",
      " |  \n",
      " |  __rmul__(self, value, /)\n",
      " |      Return value*self.\n",
      " |  \n",
      " |  __sizeof__(self, /)\n",
      " |      Return the size of the string in memory, in bytes.\n",
      " |  \n",
      " |  __str__(self, /)\n",
      " |      Return str(self).\n",
      " |  \n",
      " |  capitalize(self, /)\n",
      " |      Return a capitalized version of the string.\n",
      " |      \n",
      " |      More specifically, make the first character have upper case and the rest lower\n",
      " |      case.\n",
      " |  \n",
      " |  casefold(self, /)\n",
      " |      Return a version of the string suitable for caseless comparisons.\n",
      " |  \n",
      " |  center(self, width, fillchar=' ', /)\n",
      " |      Return a centered string of length width.\n",
      " |      \n",
      " |      Padding is done using the specified fill character (default is a space).\n",
      " |  \n",
      " |  count(...)\n",
      " |      S.count(sub[, start[, end]]) -> int\n",
      " |      \n",
      " |      Return the number of non-overlapping occurrences of substring sub in\n",
      " |      string S[start:end].  Optional arguments start and end are\n",
      " |      interpreted as in slice notation.\n",
      " |  \n",
      " |  encode(self, /, encoding='utf-8', errors='strict')\n",
      " |      Encode the string using the codec registered for encoding.\n",
      " |      \n",
      " |      encoding\n",
      " |        The encoding in which to encode the string.\n",
      " |      errors\n",
      " |        The error handling scheme to use for encoding errors.\n",
      " |        The default is 'strict' meaning that encoding errors raise a\n",
      " |        UnicodeEncodeError.  Other possible values are 'ignore', 'replace' and\n",
      " |        'xmlcharrefreplace' as well as any other name registered with\n",
      " |        codecs.register_error that can handle UnicodeEncodeErrors.\n",
      " |  \n",
      " |  endswith(...)\n",
      " |      S.endswith(suffix[, start[, end]]) -> bool\n",
      " |      \n",
      " |      Return True if S ends with the specified suffix, False otherwise.\n",
      " |      With optional start, test S beginning at that position.\n",
      " |      With optional end, stop comparing S at that position.\n",
      " |      suffix can also be a tuple of strings to try.\n",
      " |  \n",
      " |  expandtabs(self, /, tabsize=8)\n",
      " |      Return a copy where all tab characters are expanded using spaces.\n",
      " |      \n",
      " |      If tabsize is not given, a tab size of 8 characters is assumed.\n",
      " |  \n",
      " |  find(...)\n",
      " |      S.find(sub[, start[, end]]) -> int\n",
      " |      \n",
      " |      Return the lowest index in S where substring sub is found,\n",
      " |      such that sub is contained within S[start:end].  Optional\n",
      " |      arguments start and end are interpreted as in slice notation.\n",
      " |      \n",
      " |      Return -1 on failure.\n",
      " |  \n",
      " |  format(...)\n",
      " |      S.format(*args, **kwargs) -> str\n",
      " |      \n",
      " |      Return a formatted version of S, using substitutions from args and kwargs.\n",
      " |      The substitutions are identified by braces ('{' and '}').\n",
      " |  \n",
      " |  format_map(...)\n",
      " |      S.format_map(mapping) -> str\n",
      " |      \n",
      " |      Return a formatted version of S, using substitutions from mapping.\n",
      " |      The substitutions are identified by braces ('{' and '}').\n",
      " |  \n",
      " |  index(...)\n",
      " |      S.index(sub[, start[, end]]) -> int\n",
      " |      \n",
      " |      Return the lowest index in S where substring sub is found,\n",
      " |      such that sub is contained within S[start:end].  Optional\n",
      " |      arguments start and end are interpreted as in slice notation.\n",
      " |      \n",
      " |      Raises ValueError when the substring is not found.\n",
      " |  \n",
      " |  isalnum(self, /)\n",
      " |      Return True if the string is an alpha-numeric string, False otherwise.\n",
      " |      \n",
      " |      A string is alpha-numeric if all characters in the string are alpha-numeric and\n",
      " |      there is at least one character in the string.\n",
      " |  \n",
      " |  isalpha(self, /)\n",
      " |      Return True if the string is an alphabetic string, False otherwise.\n",
      " |      \n",
      " |      A string is alphabetic if all characters in the string are alphabetic and there\n",
      " |      is at least one character in the string.\n",
      " |  \n",
      " |  isascii(self, /)\n",
      " |      Return True if all characters in the string are ASCII, False otherwise.\n",
      " |      \n",
      " |      ASCII characters have code points in the range U+0000-U+007F.\n",
      " |      Empty string is ASCII too.\n",
      " |  \n",
      " |  isdecimal(self, /)\n",
      " |      Return True if the string is a decimal string, False otherwise.\n",
      " |      \n",
      " |      A string is a decimal string if all characters in the string are decimal and\n",
      " |      there is at least one character in the string.\n",
      " |  \n",
      " |  isdigit(self, /)\n",
      " |      Return True if the string is a digit string, False otherwise.\n",
      " |      \n",
      " |      A string is a digit string if all characters in the string are digits and there\n",
      " |      is at least one character in the string.\n",
      " |  \n",
      " |  isidentifier(self, /)\n",
      " |      Return True if the string is a valid Python identifier, False otherwise.\n",
      " |      \n",
      " |      Call keyword.iskeyword(s) to test whether string s is a reserved identifier,\n",
      " |      such as \"def\" or \"class\".\n",
      " |  \n",
      " |  islower(self, /)\n",
      " |      Return True if the string is a lowercase string, False otherwise.\n",
      " |      \n",
      " |      A string is lowercase if all cased characters in the string are lowercase and\n",
      " |      there is at least one cased character in the string.\n",
      " |  \n",
      " |  isnumeric(self, /)\n",
      " |      Return True if the string is a numeric string, False otherwise.\n",
      " |      \n",
      " |      A string is numeric if all characters in the string are numeric and there is at\n",
      " |      least one character in the string.\n",
      " |  \n",
      " |  isprintable(self, /)\n",
      " |      Return True if the string is printable, False otherwise.\n",
      " |      \n",
      " |      A string is printable if all of its characters are considered printable in\n",
      " |      repr() or if it is empty.\n",
      " |  \n",
      " |  isspace(self, /)\n",
      " |      Return True if the string is a whitespace string, False otherwise.\n",
      " |      \n",
      " |      A string is whitespace if all characters in the string are whitespace and there\n",
      " |      is at least one character in the string.\n",
      " |  \n",
      " |  istitle(self, /)\n",
      " |      Return True if the string is a title-cased string, False otherwise.\n",
      " |      \n",
      " |      In a title-cased string, upper- and title-case characters may only\n",
      " |      follow uncased characters and lowercase characters only cased ones.\n",
      " |  \n",
      " |  isupper(self, /)\n",
      " |      Return True if the string is an uppercase string, False otherwise.\n",
      " |      \n",
      " |      A string is uppercase if all cased characters in the string are uppercase and\n",
      " |      there is at least one cased character in the string.\n",
      " |  \n",
      " |  join(self, iterable, /)\n",
      " |      Concatenate any number of strings.\n",
      " |      \n",
      " |      The string whose method is called is inserted in between each given string.\n",
      " |      The result is returned as a new string.\n",
      " |      \n",
      " |      Example: '.'.join(['ab', 'pq', 'rs']) -> 'ab.pq.rs'\n",
      " |  \n",
      " |  ljust(self, width, fillchar=' ', /)\n",
      " |      Return a left-justified string of length width.\n",
      " |      \n",
      " |      Padding is done using the specified fill character (default is a space).\n",
      " |  \n",
      " |  lower(self, /)\n",
      " |      Return a copy of the string converted to lowercase.\n",
      " |  \n",
      " |  lstrip(self, chars=None, /)\n",
      " |      Return a copy of the string with leading whitespace removed.\n",
      " |      \n",
      " |      If chars is given and not None, remove characters in chars instead.\n",
      " |  \n",
      " |  partition(self, sep, /)\n",
      " |      Partition the string into three parts using the given separator.\n",
      " |      \n",
      " |      This will search for the separator in the string.  If the separator is found,\n",
      " |      returns a 3-tuple containing the part before the separator, the separator\n",
      " |      itself, and the part after it.\n",
      " |      \n",
      " |      If the separator is not found, returns a 3-tuple containing the original string\n",
      " |      and two empty strings.\n",
      " |  \n",
      " |  replace(self, old, new, count=-1, /)\n",
      " |      Return a copy with all occurrences of substring old replaced by new.\n",
      " |      \n",
      " |        count\n",
      " |          Maximum number of occurrences to replace.\n",
      " |          -1 (the default value) means replace all occurrences.\n",
      " |      \n",
      " |      If the optional argument count is given, only the first count occurrences are\n",
      " |      replaced.\n",
      " |  \n",
      " |  rfind(...)\n",
      " |      S.rfind(sub[, start[, end]]) -> int\n",
      " |      \n",
      " |      Return the highest index in S where substring sub is found,\n",
      " |      such that sub is contained within S[start:end].  Optional\n",
      " |      arguments start and end are interpreted as in slice notation.\n",
      " |      \n",
      " |      Return -1 on failure.\n",
      " |  \n",
      " |  rindex(...)\n",
      " |      S.rindex(sub[, start[, end]]) -> int\n",
      " |      \n",
      " |      Return the highest index in S where substring sub is found,\n",
      " |      such that sub is contained within S[start:end].  Optional\n",
      " |      arguments start and end are interpreted as in slice notation.\n",
      " |      \n",
      " |      Raises ValueError when the substring is not found.\n",
      " |  \n",
      " |  rjust(self, width, fillchar=' ', /)\n",
      " |      Return a right-justified string of length width.\n",
      " |      \n",
      " |      Padding is done using the specified fill character (default is a space).\n",
      " |  \n",
      " |  rpartition(self, sep, /)\n",
      " |      Partition the string into three parts using the given separator.\n",
      " |      \n",
      " |      This will search for the separator in the string, starting at the end. If\n",
      " |      the separator is found, returns a 3-tuple containing the part before the\n",
      " |      separator, the separator itself, and the part after it.\n",
      " |      \n",
      " |      If the separator is not found, returns a 3-tuple containing two empty strings\n",
      " |      and the original string.\n",
      " |  \n",
      " |  rsplit(self, /, sep=None, maxsplit=-1)\n",
      " |      Return a list of the words in the string, using sep as the delimiter string.\n",
      " |      \n",
      " |        sep\n",
      " |          The delimiter according which to split the string.\n",
      " |          None (the default value) means split according to any whitespace,\n",
      " |          and discard empty strings from the result.\n",
      " |        maxsplit\n",
      " |          Maximum number of splits to do.\n",
      " |          -1 (the default value) means no limit.\n",
      " |      \n",
      " |      Splits are done starting at the end of the string and working to the front.\n",
      " |  \n",
      " |  rstrip(self, chars=None, /)\n",
      " |      Return a copy of the string with trailing whitespace removed.\n",
      " |      \n",
      " |      If chars is given and not None, remove characters in chars instead.\n",
      " |  \n",
      " |  split(self, /, sep=None, maxsplit=-1)\n",
      " |      Return a list of the words in the string, using sep as the delimiter string.\n",
      " |      \n",
      " |      sep\n",
      " |        The delimiter according which to split the string.\n",
      " |        None (the default value) means split according to any whitespace,\n",
      " |        and discard empty strings from the result.\n",
      " |      maxsplit\n",
      " |        Maximum number of splits to do.\n",
      " |        -1 (the default value) means no limit.\n",
      " |  \n",
      " |  splitlines(self, /, keepends=False)\n",
      " |      Return a list of the lines in the string, breaking at line boundaries.\n",
      " |      \n",
      " |      Line breaks are not included in the resulting list unless keepends is given and\n",
      " |      true.\n",
      " |  \n",
      " |  startswith(...)\n",
      " |      S.startswith(prefix[, start[, end]]) -> bool\n",
      " |      \n",
      " |      Return True if S starts with the specified prefix, False otherwise.\n",
      " |      With optional start, test S beginning at that position.\n",
      " |      With optional end, stop comparing S at that position.\n",
      " |      prefix can also be a tuple of strings to try.\n",
      " |  \n",
      " |  strip(self, chars=None, /)\n",
      " |      Return a copy of the string with leading and trailing whitespace removed.\n",
      " |      \n",
      " |      If chars is given and not None, remove characters in chars instead.\n",
      " |  \n",
      " |  swapcase(self, /)\n",
      " |      Convert uppercase characters to lowercase and lowercase characters to uppercase.\n",
      " |  \n",
      " |  title(self, /)\n",
      " |      Return a version of the string where each word is titlecased.\n",
      " |      \n",
      " |      More specifically, words start with uppercased characters and all remaining\n",
      " |      cased characters have lower case.\n",
      " |  \n",
      " |  translate(self, table, /)\n",
      " |      Replace each character in the string using the given translation table.\n",
      " |      \n",
      " |        table\n",
      " |          Translation table, which must be a mapping of Unicode ordinals to\n",
      " |          Unicode ordinals, strings, or None.\n",
      " |      \n",
      " |      The table must implement lookup/indexing via __getitem__, for instance a\n",
      " |      dictionary or list.  If this operation raises LookupError, the character is\n",
      " |      left untouched.  Characters mapped to None are deleted.\n",
      " |  \n",
      " |  upper(self, /)\n",
      " |      Return a copy of the string converted to uppercase.\n",
      " |  \n",
      " |  zfill(self, width, /)\n",
      " |      Pad a numeric string with zeros on the left, to fill a field of the given width.\n",
      " |      \n",
      " |      The string is never truncated.\n",
      " |  \n",
      " |  ----------------------------------------------------------------------\n",
      " |  Static methods defined here:\n",
      " |  \n",
      " |  __new__(*args, **kwargs) from builtins.type\n",
      " |      Create and return a new object.  See help(type) for accurate signature.\n",
      " |  \n",
      " |  maketrans(...)\n",
      " |      Return a translation table usable for str.translate().\n",
      " |      \n",
      " |      If there is only one argument, it must be a dictionary mapping Unicode\n",
      " |      ordinals (integers) or characters to Unicode ordinals, strings or None.\n",
      " |      Character keys will be then converted to ordinals.\n",
      " |      If there are two arguments, they must be strings of equal length, and\n",
      " |      in the resulting dictionary, each character in x will be mapped to the\n",
      " |      character at the same position in y. If there is a third argument, it\n",
      " |      must be a string, whose characters will be mapped to None in the result.\n",
      "\n"
     ]
    },
    {
     "name": "stdout",
     "output_type": "stream",
     "text": [
      "help>  quit\n",
      "You are now leaving help and returning to the Python interpreter.\n",
      "If you want to ask for help on a particular object directly from the\n",
      "interpreter, you can type \"help(object)\".  Executing \"help('string')\"\n",
      "has the same effect as typing a particular string at the help> prompt.\n"
     ]
    }
   ],
   "source": [
    "help()"
   ]
  },
  {
   "cell_type": "code",
   "execution_count": 29,
   "metadata": {},
   "outputs": [
    {
     "name": "stdout",
     "output_type": "stream",
     "text": [
      "ankara üniversitesi\n",
      "Ankara üniversitesi\n"
     ]
    }
   ],
   "source": [
    "yeni_dizi = \"ankara üniversitesi\"\n",
    "yeni_dizi.replace(\"an\", \"An\")\n",
    "print(yeni_dizi)\n",
    "\n",
    "yeni_dizi = yeni_dizi.replace(\"an\", \"An\")\n",
    "print(yeni_dizi)"
   ]
  },
  {
   "cell_type": "code",
   "execution_count": 33,
   "metadata": {},
   "outputs": [
    {
     "data": {
      "text/plain": [
       "'AnkArA üniversitesi'"
      ]
     },
     "execution_count": 33,
     "metadata": {},
     "output_type": "execute_result"
    }
   ],
   "source": [
    "yeni_dizi = \"ankara üniversitesi\"\n",
    "yeni_dizi.replace(\"a\", \"A\", 5)"
   ]
  },
  {
   "cell_type": "code",
   "execution_count": 36,
   "metadata": {},
   "outputs": [
    {
     "name": "stdout",
     "output_type": "stream",
     "text": [
      "ankara üniversitesi mühendislik fakültesi\n"
     ]
    }
   ],
   "source": [
    "yeni_dizi = \"ankara üniversitesi mühendislik fakültesi\"\n",
    "print(yeni_dizi)"
   ]
  },
  {
   "cell_type": "code",
   "execution_count": 3,
   "metadata": {},
   "outputs": [
    {
     "data": {
      "text/plain": [
       "['Bayburt', ' Bartın', ' Çankırı, Çorum']"
      ]
     },
     "execution_count": 3,
     "metadata": {},
     "output_type": "execute_result"
    }
   ],
   "source": [
    "baska_bir_dizi = \"Bayburt, Bartın, Çankırı, Çorum\"\n",
    "baska_bir_dizi.split(\",\", 2)"
   ]
  },
  {
   "cell_type": "code",
   "execution_count": 0,
   "metadata": {},
   "outputs": [],
   "source": []
  },
  {
   "cell_type": "code",
   "execution_count": 37,
   "metadata": {},
   "outputs": [
    {
     "data": {
      "text/plain": [
       "['ankara', 'üniversitesi', 'mühendislik', 'fakültesi']"
      ]
     },
     "execution_count": 37,
     "metadata": {},
     "output_type": "execute_result"
    }
   ],
   "source": [
    "yeni_dizi.split()"
   ]
  },
  {
   "cell_type": "code",
   "execution_count": 38,
   "metadata": {},
   "outputs": [
    {
     "data": {
      "text/plain": [
       "['Bayburt', ' Bartın', ' Çankırı', ' Çorum']"
      ]
     },
     "execution_count": 38,
     "metadata": {},
     "output_type": "execute_result"
    }
   ],
   "source": [
    "baska_bir_dizi = \"Bayburt, Bartın, Çankırı, Çorum\"\n",
    "baska_bir_dizi.split(\",\")"
   ]
  },
  {
   "cell_type": "code",
   "execution_count": 2,
   "metadata": {},
   "outputs": [
    {
     "data": {
      "text/plain": [
       "['Bayburt, Bartın, Çankırı, Çorum']"
      ]
     },
     "execution_count": 2,
     "metadata": {},
     "output_type": "execute_result"
    }
   ],
   "source": [
    "baska_bir_dizi = \"Bayburt, Bartın, Çankırı, Çorum\"\n",
    "baska_bir_dizi.split(\";\")"
   ]
  },
  {
   "cell_type": "code",
   "execution_count": 5,
   "metadata": {},
   "outputs": [
    {
     "data": {
      "text/plain": [
       "['Ankara Üniversitesi Tıp', 'Fakültesi']"
      ]
     },
     "execution_count": 5,
     "metadata": {},
     "output_type": "execute_result"
    }
   ],
   "source": [
    "yepyeni_bir_dizi = \"Ankara Üniversitesi Tıp Fakültesi\"\n",
    "yepyeni_bir_dizi.rsplit(\" \", 1)"
   ]
  },
  {
   "cell_type": "code",
   "execution_count": 6,
   "metadata": {},
   "outputs": [
    {
     "data": {
      "text/plain": [
       "False"
      ]
     },
     "execution_count": 6,
     "metadata": {},
     "output_type": "execute_result"
    }
   ],
   "source": [
    "karakter_dizisi1 = \"Elma\"\n",
    "karakter_dizisi2 = \"elma\"\n",
    "karakter_dizisi1 == karakter_dizisi2"
   ]
  },
  {
   "cell_type": "code",
   "execution_count": 7,
   "metadata": {},
   "outputs": [
    {
     "data": {
      "text/plain": [
       "True"
      ]
     },
     "execution_count": 7,
     "metadata": {},
     "output_type": "execute_result"
    }
   ],
   "source": [
    "karakter_dizisi1.lower() == karakter_dizisi2.lower()"
   ]
  },
  {
   "cell_type": "code",
   "execution_count": 8,
   "metadata": {},
   "outputs": [
    {
     "data": {
      "text/plain": [
       "True"
      ]
     },
     "execution_count": 8,
     "metadata": {},
     "output_type": "execute_result"
    }
   ],
   "source": [
    "karakter_dizisi1.casefold() == karakter_dizisi2.casefold()"
   ]
  },
  {
   "cell_type": "code",
   "execution_count": 11,
   "metadata": {},
   "outputs": [
    {
     "name": "stdout",
     "output_type": "stream",
     "text": [
      "ısparta, adıyaman, aydın, ağrı, diyarbakır, istanbul\n"
     ]
    }
   ],
   "source": [
    "il_listesi = \"ISPARTA, ADIYAMAN, AYDIN, AĞRI, DİYARBAKIR, İSTANBUL\"\n",
    "print(il_listesi.replace(\"I\", \"ı\").replace(\"İ\",\"i\").lower())\n",
    "\n",
    "# print(il_listesi.lower())"
   ]
  },
  {
   "cell_type": "code",
   "execution_count": 12,
   "metadata": {},
   "outputs": [
    {
     "name": "stdout",
     "output_type": "stream",
     "text": [
      "ISPARTA, ADIYAMAN, AYDIN, AĞRI, DİYARBAKIR, İSTANBUL\n"
     ]
    }
   ],
   "source": [
    "print(il_listesi)"
   ]
  },
  {
   "cell_type": "code",
   "execution_count": 14,
   "metadata": {},
   "outputs": [
    {
     "data": {
      "text/plain": [
       "True"
      ]
     },
     "execution_count": 14,
     "metadata": {},
     "output_type": "execute_result"
    }
   ],
   "source": [
    "il_listesi.isupper()"
   ]
  },
  {
   "cell_type": "code",
   "execution_count": 0,
   "metadata": {},
   "outputs": [],
   "source": [
    "# iki tür fonksiyon\n",
    "# isimleri eylem gibi olan -> parametre alabilirler\n",
    "# isimleri soru kipi gibi olan -> parametre almıyorlar ve de soruya true/false diye cevap veriyorlar\n"
   ]
  },
  {
   "cell_type": "code",
   "execution_count": 16,
   "metadata": {},
   "outputs": [
    {
     "name": "stdout",
     "output_type": "stream",
     "text": [
      "True\n",
      "True\n",
      "False\n"
     ]
    }
   ],
   "source": [
    "dosya_ismi1 = \"Queen - Bohemian Rhapsody.mp3\"\n",
    "dosya_ismi2 = \"Metallica - One.mp3\"\n",
    "dosya_ismi3 = \"Metallica - Hede Hödö.wav\"\n",
    "\n",
    "print(dosya_ismi1.endswith(\".mp3\"))\n",
    "print(dosya_ismi2.endswith(\".mp3\"))\n",
    "print(dosya_ismi3.endswith(\".mp3\"))\n"
   ]
  },
  {
   "cell_type": "code",
   "execution_count": 17,
   "metadata": {},
   "outputs": [
    {
     "name": "stdout",
     "output_type": "stream",
     "text": [
      "Python programlama dili eğitimi etkinliği\n"
     ]
    }
   ],
   "source": [
    "yeni_bir_metin_dizisi = \"python programlama dili eğitimi etkinliği\"\n",
    "print(yeni_bir_metin_dizisi.capitalize())"
   ]
  },
  {
   "cell_type": "code",
   "execution_count": 18,
   "metadata": {},
   "outputs": [
    {
     "name": "stdout",
     "output_type": "stream",
     "text": [
      "Python Programlama Dili Eğitimi Etkinliği\n"
     ]
    }
   ],
   "source": [
    "print(yeni_bir_metin_dizisi.title())"
   ]
  },
  {
   "cell_type": "code",
   "execution_count": 20,
   "metadata": {},
   "outputs": [
    {
     "name": "stdout",
     "output_type": "stream",
     "text": [
      "aNKARA üNIVERSITESI\n"
     ]
    }
   ],
   "source": [
    "yepyeni_bir_metin_dizisi = \"Ankara Üniversitesi\"\n",
    "print(yepyeni_bir_metin_dizisi.swapcase())"
   ]
  },
  {
   "cell_type": "code",
   "execution_count": 23,
   "metadata": {},
   "outputs": [
    {
     "name": "stdout",
     "output_type": "stream",
     "text": [
      " merhaba dünya \n",
      "merhaba dünya\n"
     ]
    }
   ],
   "source": [
    "bir_ornek_metin = \" merhaba dünya \"\n",
    "print(bir_ornek_metin)\n",
    "print(bir_ornek_metin.strip())"
   ]
  },
  {
   "cell_type": "code",
   "execution_count": 24,
   "metadata": {},
   "outputs": [
    {
     "name": "stdout",
     "output_type": "stream",
     "text": [
      ",merhaba dünya,\n",
      "merhaba dünya\n"
     ]
    }
   ],
   "source": [
    "baska_bir_ornek_metin = \",merhaba dünya,\"\n",
    "print(baska_bir_ornek_metin)\n",
    "print(baska_bir_ornek_metin.strip(\",\"))"
   ]
  },
  {
   "cell_type": "code",
   "execution_count": 26,
   "metadata": {},
   "outputs": [
    {
     "name": "stdout",
     "output_type": "stream",
     "text": [
      "aza\n",
      "azak\n",
      "kaza\n"
     ]
    }
   ],
   "source": [
    "# lstrip\n",
    "# rstrip\n",
    "print(\"kazak\".strip(\"k\"))\n",
    "print(\"kazak\".lstrip(\"k\"))\n",
    "print(\"kazak\".rstrip(\"k\"))\n"
   ]
  },
  {
   "cell_type": "code",
   "execution_count": 36,
   "metadata": {},
   "outputs": [
    {
     "name": "stdout",
     "output_type": "stream",
     "text": [
      "5\n",
      "2\n",
      "2\n",
      "...\n",
      "0\n",
      "1\n",
      "6\n",
      "...\n",
      "11\n"
     ]
    }
   ],
   "source": [
    "sehir_ismi = \"kahramanmaraş\"\n",
    "print(sehir_ismi.count(\"a\"))\n",
    "print(sehir_ismi.count(\"ra\"))\n",
    "print(sehir_ismi.count(\"ma\"))\n",
    "print(\"...\")\n",
    "print(sehir_ismi.index(\"k\"))\n",
    "print(sehir_ismi.index(\"a\"))\n",
    "# print(sehir_ismi.index(\"e\"))\n",
    "print(sehir_ismi.index(\"a\", 5))\n",
    "print(\"...\")\n",
    "print(sehir_ismi.index(\"a\"))\n",
    "print(sehir_ismi.rindex(\"a\"))"
   ]
  },
  {
   "cell_type": "code",
   "execution_count": 39,
   "metadata": {},
   "outputs": [
    {
     "name": "stdout",
     "output_type": "stream",
     "text": [
      "0\n",
      "4\n",
      "-1\n",
      "-1\n"
     ]
    }
   ],
   "source": [
    "karakter_dizisi = \"adana\"\n",
    "print(karakter_dizisi.find(\"a\"))\n",
    "print(karakter_dizisi.rfind(\"a\"))\n",
    "print(karakter_dizisi.find(\"e\"))\n",
    "print(karakter_dizisi.rfind(\"e\"))\n"
   ]
  },
  {
   "cell_type": "code",
   "execution_count": 0,
   "metadata": {},
   "outputs": [],
   "source": [
    "# index ve rindex aradığını bulamazsa ValueError şeklinde Exception döndürür\n",
    "# find ve rfind aradığını bulamazsa -1 döndürür\n",
    "\n",
    "\n",
    "\n",
    "\n",
    "\n",
    "\n",
    "\n",
    "\n",
    "\n",
    "\n",
    "\n"
   ]
  },
  {
   "cell_type": "code",
   "execution_count": 42,
   "metadata": {},
   "outputs": [
    {
     "name": "stdout",
     "output_type": "stream",
     "text": [
      "('İst', 'an', 'bul')\n",
      "('İstanbul', '', '')\n",
      "('İst', 'an', 'bul')\n"
     ]
    }
   ],
   "source": [
    "yeni_dizi = \"İstanbul\"\n",
    "print(yeni_dizi.partition(\"an\"))\n",
    "print(yeni_dizi.partition(\"ön\"))\n",
    "\n",
    "print(yeni_dizi.rpartition(\"an\"))"
   ]
  },
  {
   "cell_type": "code",
   "execution_count": 43,
   "metadata": {},
   "outputs": [
    {
     "name": "stdout",
     "output_type": "stream",
     "text": [
      "\u001b[1mText\u001b[0m\n"
     ]
    }
   ],
   "source": [
    "print('\\033[1m' + 'Text' + '\\033[0m')"
   ]
  },
  {
   "cell_type": "code",
   "execution_count": 51,
   "metadata": {},
   "outputs": [
    {
     "name": "stdout",
     "output_type": "stream",
     "text": [
      "Ali değerine sahip olan unsurun tipi: <class 'str'>\n",
      "Veli değerine sahip olan unsurun tipi: <class 'str'>\n",
      "[1, 2, 'Ahmet'] değerine sahip olan unsurun tipi: <class 'list'>\n",
      "21 değerine sahip olan unsurun tipi: <class 'int'>\n",
      "56.0 değerine sahip olan unsurun tipi: <class 'float'>\n",
      "(-1+2j) değerine sahip olan unsurun tipi: <class 'complex'>\n"
     ]
    }
   ],
   "source": [
    "liste1 = [\"eleman1\", \"eleman2\", \"eleman3\"]\n",
    "type(liste1)\n",
    "\n",
    "liste2 = [\"Ahmet\", \"Mehmet\", 21, 65, 3.2]\n",
    "type(liste2)\n",
    "\n",
    "liste3 = [\"Ali\", \"Veli\", [1, 2, \"Ahmet\"], 21, 56.0, -1+2j]\n",
    "\n",
    "for unsur in liste3:\n",
    "    print(\"{} değerine sahip olan unsurun tipi: {}\".format(unsur, type(unsur)))\n",
    "    "
   ]
  },
  {
   "cell_type": "code",
   "execution_count": 52,
   "metadata": {},
   "outputs": [
    {
     "data": {
      "text/plain": [
       "['__add__',\n",
       " '__class__',\n",
       " '__contains__',\n",
       " '__delattr__',\n",
       " '__delitem__',\n",
       " '__dir__',\n",
       " '__doc__',\n",
       " '__eq__',\n",
       " '__format__',\n",
       " '__ge__',\n",
       " '__getattribute__',\n",
       " '__getitem__',\n",
       " '__gt__',\n",
       " '__hash__',\n",
       " '__iadd__',\n",
       " '__imul__',\n",
       " '__init__',\n",
       " '__init_subclass__',\n",
       " '__iter__',\n",
       " '__le__',\n",
       " '__len__',\n",
       " '__lt__',\n",
       " '__mul__',\n",
       " '__ne__',\n",
       " '__new__',\n",
       " '__reduce__',\n",
       " '__reduce_ex__',\n",
       " '__repr__',\n",
       " '__reversed__',\n",
       " '__rmul__',\n",
       " '__setattr__',\n",
       " '__setitem__',\n",
       " '__sizeof__',\n",
       " '__str__',\n",
       " '__subclasshook__',\n",
       " 'append',\n",
       " 'clear',\n",
       " 'copy',\n",
       " 'count',\n",
       " 'extend',\n",
       " 'index',\n",
       " 'insert',\n",
       " 'pop',\n",
       " 'remove',\n",
       " 'reverse',\n",
       " 'sort']"
      ]
     },
     "execution_count": 52,
     "metadata": {},
     "output_type": "execute_result"
    }
   ],
   "source": [
    "dir(list)"
   ]
  },
  {
   "cell_type": "code",
   "execution_count": 57,
   "metadata": {},
   "outputs": [
    {
     "name": "stdout",
     "output_type": "stream",
     "text": [
      "Türkçe\n",
      "['İngilizce', 'Almanca', 'Fransızca', 'İtalyanca', 'Türkçe']\n"
     ]
    }
   ],
   "source": [
    "diller_listesi = [\"İngilizce\", \"Almanca\", \"Fransızca\", \"İtalyanca\", \"İspanyolca\"]\n",
    "# len(diller_listesi)\n",
    "# print(diller_listesi[0])\n",
    "diller_listesi[4] = \"Türkçe\"\n",
    "print(diller_listesi[4])\n",
    "\n",
    "print(diller_listesi)"
   ]
  },
  {
   "cell_type": "code",
   "execution_count": 58,
   "metadata": {},
   "outputs": [
    {
     "name": "stdout",
     "output_type": "stream",
     "text": [
      "['İngilizce', 'Almanca', 'Fransızca', 'İtalyanca', 'İspanyolca']\n"
     ]
    }
   ],
   "source": [
    "diller_listesi = [\"İngilizce\", \"Almanca\", \"Fransızca\", \"İtalyanca\", \"İspanyolca\"]\n",
    "print(diller_listesi)"
   ]
  },
  {
   "cell_type": "code",
   "execution_count": 59,
   "metadata": {},
   "outputs": [
    {
     "ename": "IndexError",
     "evalue": "list assignment index out of range",
     "output_type": "error",
     "traceback": [
      "\u001b[0;31m---------------------------------------------------------------------------\u001b[0m",
      "\u001b[0;31mIndexError\u001b[0m                                Traceback (most recent call last)",
      "\u001b[0;32m<ipython-input-59-f5851e7fb6c2>\u001b[0m in \u001b[0;36m<module>\u001b[0;34m\u001b[0m\n\u001b[0;32m----> 1\u001b[0;31m \u001b[0mdiller_listesi\u001b[0m\u001b[0;34m[\u001b[0m\u001b[0;36m5\u001b[0m\u001b[0;34m]\u001b[0m \u001b[0;34m=\u001b[0m \u001b[0;34m\"Türkçe\"\u001b[0m\u001b[0;34m\u001b[0m\u001b[0;34m\u001b[0m\u001b[0m\n\u001b[0m",
      "\u001b[0;31mIndexError\u001b[0m: list assignment index out of range"
     ]
    }
   ],
   "source": [
    "diller_listesi[5] = \"Türkçe\""
   ]
  },
  {
   "cell_type": "code",
   "execution_count": 62,
   "metadata": {},
   "outputs": [
    {
     "name": "stdout",
     "output_type": "stream",
     "text": [
      "['İngilizce', 'Almanca', 'Fransızca', 'İtalyanca', 'İspanyolca']\n"
     ]
    }
   ],
   "source": [
    "print(diller_listesi)"
   ]
  },
  {
   "cell_type": "code",
   "execution_count": 64,
   "metadata": {},
   "outputs": [
    {
     "name": "stdout",
     "output_type": "stream",
     "text": [
      "İtalyanca\n"
     ]
    }
   ],
   "source": [
    "print(diller_listesi[-2])"
   ]
  },
  {
   "cell_type": "code",
   "execution_count": 65,
   "metadata": {},
   "outputs": [
    {
     "name": "stdout",
     "output_type": "stream",
     "text": [
      "['İngilizce', 'Almanca', 'Fransızca']\n"
     ]
    }
   ],
   "source": [
    "print(diller_listesi[0:3])"
   ]
  },
  {
   "cell_type": "code",
   "execution_count": 72,
   "metadata": {},
   "outputs": [
    {
     "name": "stdout",
     "output_type": "stream",
     "text": [
      "[1, 2, 'Ahmet']\n",
      "...\n",
      "Ahmet\n"
     ]
    }
   ],
   "source": [
    "liste3 = [\"Ali\", \"Veli\", [1, 2, \"Ahmet\"], 21, 56.0, -1+2j]\n",
    "print(liste3[2])\n",
    "print(\"...\")\n",
    "print(liste3[2][2])\n"
   ]
  },
  {
   "cell_type": "code",
   "execution_count": 75,
   "metadata": {},
   "outputs": [
    {
     "name": "stdout",
     "output_type": "stream",
     "text": [
      "[1, 2, [3, 4, 5]]\n",
      "...\n",
      "[3, 4, 5]\n",
      "...\n",
      "5\n"
     ]
    }
   ],
   "source": [
    "abarti_liste = [\"Ali\", \"Veli\", [1, 2, [3, 4, 5]], 21, 56.0, -1+2j]\n",
    "print(abarti_liste[2])\n",
    "print(\"...\")\n",
    "print(abarti_liste[2][2])\n",
    "print(\"...\")\n",
    "print(abarti_liste[2][2][2])\n"
   ]
  },
  {
   "cell_type": "code",
   "execution_count": 78,
   "metadata": {},
   "outputs": [
    {
     "name": "stdout",
     "output_type": "stream",
     "text": [
      "[1, 2, 3, 4, 5, 6, 7]\n",
      "[11, 12, 13, 4, 5, 6, 7]\n"
     ]
    }
   ],
   "source": [
    "basit_liste = [1, 2, 3, 4, 5, 6, 7]\n",
    "print(basit_liste)\n",
    "basit_liste[0:3] = 11, 12, 13\n",
    "print(basit_liste)\n",
    "\n",
    "\n",
    "\n"
   ]
  },
  {
   "cell_type": "code",
   "execution_count": 2,
   "metadata": {},
   "outputs": [
    {
     "name": "stdout",
     "output_type": "stream",
     "text": [
      "['İngilizce', 'Almanca', 'Fransızca', 'İtalyanca', 'İspanyolca']\n"
     ]
    }
   ],
   "source": [
    "diller_listesi = [\"İngilizce\", \"Almanca\", \"Fransızca\", \"İtalyanca\", \"İspanyolca\"]\n",
    "print(diller_listesi)"
   ]
  },
  {
   "cell_type": "code",
   "execution_count": 80,
   "metadata": {},
   "outputs": [
    {
     "ename": "TypeError",
     "evalue": "can only concatenate list (not \"str\") to list",
     "output_type": "error",
     "traceback": [
      "\u001b[0;31m---------------------------------------------------------------------------\u001b[0m",
      "\u001b[0;31mTypeError\u001b[0m                                 Traceback (most recent call last)",
      "\u001b[0;32m<ipython-input-80-9838ae38a6d3>\u001b[0m in \u001b[0;36m<module>\u001b[0;34m\u001b[0m\n\u001b[0;32m----> 1\u001b[0;31m \u001b[0mprint\u001b[0m\u001b[0;34m(\u001b[0m\u001b[0mdiller_listesi\u001b[0m \u001b[0;34m+\u001b[0m \u001b[0;34m\"Türkçe\"\u001b[0m\u001b[0;34m)\u001b[0m\u001b[0;34m\u001b[0m\u001b[0;34m\u001b[0m\u001b[0m\n\u001b[0m",
      "\u001b[0;31mTypeError\u001b[0m: can only concatenate list (not \"str\") to list"
     ]
    }
   ],
   "source": [
    "print(diller_listesi + \"Türkçe\")"
   ]
  },
  {
   "cell_type": "code",
   "execution_count": 81,
   "metadata": {},
   "outputs": [
    {
     "name": "stdout",
     "output_type": "stream",
     "text": [
      "['Türkçe']\n"
     ]
    }
   ],
   "source": [
    "ek_diller_listesi = [\"Türkçe\"]\n",
    "print(ek_diller_listesi)"
   ]
  },
  {
   "cell_type": "code",
   "execution_count": 82,
   "metadata": {},
   "outputs": [
    {
     "name": "stdout",
     "output_type": "stream",
     "text": [
      "['İngilizce', 'Almanca', 'Fransızca', 'İtalyanca', 'İspanyolca', 'Türkçe']\n"
     ]
    }
   ],
   "source": [
    "print(diller_listesi + ek_diller_listesi)"
   ]
  },
  {
   "cell_type": "code",
   "execution_count": 3,
   "metadata": {},
   "outputs": [
    {
     "name": "stdout",
     "output_type": "stream",
     "text": [
      "['İngilizce', 'Almanca', 'Fransızca', 'İtalyanca', 'İspanyolca']\n"
     ]
    }
   ],
   "source": [
    "print(diller_listesi)"
   ]
  },
  {
   "cell_type": "code",
   "execution_count": 4,
   "metadata": {},
   "outputs": [
    {
     "name": "stdout",
     "output_type": "stream",
     "text": [
      "['İngilizce', 'Almanca', 'Fransızca', 'İtalyanca']\n"
     ]
    }
   ],
   "source": [
    "del diller_listesi[-1]\n",
    "print(diller_listesi)"
   ]
  },
  {
   "cell_type": "code",
   "execution_count": 5,
   "metadata": {},
   "outputs": [
    {
     "name": "stdout",
     "output_type": "stream",
     "text": [
      "['İngilizce', 'Almanca', 'İtalyanca']\n"
     ]
    },
    {
     "data": {
      "text/plain": [
       "3"
      ]
     },
     "execution_count": 5,
     "metadata": {},
     "output_type": "execute_result"
    }
   ],
   "source": [
    "del diller_listesi[2]\n",
    "print(diller_listesi)\n",
    "len(diller_listesi)"
   ]
  },
  {
   "cell_type": "code",
   "execution_count": 87,
   "metadata": {},
   "outputs": [
    {
     "name": "stdout",
     "output_type": "stream",
     "text": [
      "['İngilizce', 'Almanca', 'Fransızca', 'İtalyanca', 'İspanyolca']\n"
     ]
    }
   ],
   "source": [
    "diller_listesi = [\"İngilizce\", \"Almanca\", \"Fransızca\", \"İtalyanca\", \"İspanyolca\"]\n",
    "print(diller_listesi)"
   ]
  },
  {
   "cell_type": "code",
   "execution_count": 88,
   "metadata": {},
   "outputs": [],
   "source": [
    "yeni_diller_listesi = diller_listesi\n"
   ]
  },
  {
   "cell_type": "code",
   "execution_count": 92,
   "metadata": {},
   "outputs": [
    {
     "name": "stdout",
     "output_type": "stream",
     "text": [
      "[5, 7, 9]\n"
     ]
    }
   ],
   "source": [
    "liste = [index for index in range(5, 10, 2)]\n",
    "print(liste)\n"
   ]
  },
  {
   "cell_type": "code",
   "execution_count": 95,
   "metadata": {},
   "outputs": [
    {
     "name": "stdout",
     "output_type": "stream",
     "text": [
      "[96, 90, 84, 78, 72, 66, 60, 54, 48, 42, 36, 30, 24, 18, 12, 6]\n"
     ]
    }
   ],
   "source": [
    "liste = [index for index in range(100, 0, -1) if index % 6 == 0]\n",
    "print(liste)\n",
    "\n"
   ]
  },
  {
   "cell_type": "code",
   "execution_count": 12,
   "metadata": {
    "scrolled": true
   },
   "outputs": [
    {
     "name": "stdout",
     "output_type": "stream",
     "text": [
      "Bu kod 2021 yılında Egemen YILMAZ tarafından yazılmıştır!...\n",
      "Bu kod 2021 yılında Egemen YILMAZ tarafından yazılmıştır!...\n",
      "Bu kod 2021 yılında Egemen YILMAZ tarafından yazılmıştır!...\n",
      "Bu kod 2021 yılında Egemen YILMAZ tarafından yazılmıştır!...\n"
     ]
    },
    {
     "data": {
      "text/plain": [
       "'Bu kod 2021 yılında Egemen YILMAZ tarafından yazılmıştır!...'"
      ]
     },
     "execution_count": 12,
     "metadata": {},
     "output_type": "execute_result"
    }
   ],
   "source": [
    "yil = 2021\n",
    "yazar = \"Egemen YILMAZ\"\n",
    "\n",
    "# Bu kod 2021 yılında Egemen YILMAZ tarafından yazılmıştır!...\n",
    "print(\"Bu kod %s yılında %s tarafından yazılmıştır!...\" %(yil,yazar)) # Python 2 usulü biçimlendirme\n",
    "print(\"Bu kod\", yil, \"yılında\", yazar, \"tarafından yazılmıştır!...\")\n",
    "print(\"Bu kod {} yılında {} tarafından yazılmıştır!...\".format(yil,yazar))\n",
    "print(f\"Bu kod {yil} yılında {yazar} tarafından yazılmıştır!...\")\n",
    "\n",
    "f\"Bu kod {yil} yılında {yazar} tarafından yazılmıştır!...\"\n"
   ]
  },
  {
   "cell_type": "code",
   "execution_count": 1,
   "metadata": {},
   "outputs": [
    {
     "name": "stdout",
     "output_type": "stream",
     "text": [
      "[1, 5, 3, 2, 9]\n"
     ]
    },
    {
     "ename": "NameError",
     "evalue": "name 'silinecek_liste' is not defined",
     "output_type": "error",
     "traceback": [
      "\u001b[1;31m---------------------------------------------------------------------------\u001b[0m",
      "\u001b[1;31mNameError\u001b[0m                                 Traceback (most recent call last)",
      "\u001b[1;32m<ipython-input-1-1ffe061ad564>\u001b[0m in \u001b[0;36m<module>\u001b[1;34m\u001b[0m\n\u001b[0;32m      2\u001b[0m \u001b[0mprint\u001b[0m\u001b[1;33m(\u001b[0m\u001b[0msilinecek_liste\u001b[0m\u001b[1;33m)\u001b[0m\u001b[1;33m\u001b[0m\u001b[1;33m\u001b[0m\u001b[0m\n\u001b[0;32m      3\u001b[0m \u001b[1;32mdel\u001b[0m \u001b[0msilinecek_liste\u001b[0m\u001b[1;33m\u001b[0m\u001b[1;33m\u001b[0m\u001b[0m\n\u001b[1;32m----> 4\u001b[1;33m \u001b[0mprint\u001b[0m\u001b[1;33m(\u001b[0m\u001b[0msilinecek_liste\u001b[0m\u001b[1;33m)\u001b[0m\u001b[1;33m\u001b[0m\u001b[1;33m\u001b[0m\u001b[0m\n\u001b[0m",
      "\u001b[1;31mNameError\u001b[0m: name 'silinecek_liste' is not defined"
     ]
    }
   ],
   "source": [
    "silinecek_liste = [1, 5, 3, 2 ,9]\n",
    "print(silinecek_liste)\n",
    "del silinecek_liste\n",
    "print(silinecek_liste)"
   ]
  },
  {
   "cell_type": "code",
   "execution_count": 16,
   "metadata": {},
   "outputs": [
    {
     "name": "stdout",
     "output_type": "stream",
     "text": [
      "[[1, 2, 3], [4, 5, 6], [7, 8, 9], [10, 11, 12]]\n",
      "8\n"
     ]
    }
   ],
   "source": [
    "matris_benzeri_liste = [[1,2,3],[4,5,6],[7,8,9],[10,11,12]]\n",
    "print(matris_benzeri_liste)\n",
    "print(matris_benzeri_liste[2][1])"
   ]
  },
  {
   "cell_type": "code",
   "execution_count": 18,
   "metadata": {},
   "outputs": [
    {
     "data": {
      "text/plain": [
       "tuple"
      ]
     },
     "execution_count": 18,
     "metadata": {},
     "output_type": "execute_result"
    }
   ],
   "source": [
    "bir_demet = (\"ahmet\", \"mehmet\", 23, 45.6)\n",
    "type(bir_demet)"
   ]
  },
  {
   "cell_type": "code",
   "execution_count": 19,
   "metadata": {},
   "outputs": [
    {
     "data": {
      "text/plain": [
       "list"
      ]
     },
     "execution_count": 19,
     "metadata": {},
     "output_type": "execute_result"
    }
   ],
   "source": [
    "bir_liste = [\"Ali\", \"Veli\", 49, 50]\n",
    "type(bir_liste)"
   ]
  },
  {
   "cell_type": "code",
   "execution_count": 20,
   "metadata": {},
   "outputs": [
    {
     "data": {
      "text/plain": [
       "('Ali', 'Veli', 49, 50)"
      ]
     },
     "execution_count": 20,
     "metadata": {},
     "output_type": "execute_result"
    }
   ],
   "source": [
    "tuple(bir_liste)"
   ]
  },
  {
   "cell_type": "code",
   "execution_count": 21,
   "metadata": {},
   "outputs": [
    {
     "name": "stdout",
     "output_type": "stream",
     "text": [
      "ahmet\n"
     ]
    }
   ],
   "source": [
    "print(bir_demet[0])"
   ]
  },
  {
   "cell_type": "code",
   "execution_count": 23,
   "metadata": {},
   "outputs": [
    {
     "ename": "TypeError",
     "evalue": "'tuple' object does not support item assignment",
     "output_type": "error",
     "traceback": [
      "\u001b[0;31m---------------------------------------------------------------------------\u001b[0m",
      "\u001b[0;31mTypeError\u001b[0m                                 Traceback (most recent call last)",
      "\u001b[0;32m<ipython-input-23-ab5ca64bd2f7>\u001b[0m in \u001b[0;36m<module>\u001b[0;34m\u001b[0m\n\u001b[1;32m      1\u001b[0m \u001b[0;31m# list -> mutable\u001b[0m\u001b[0;34m\u001b[0m\u001b[0;34m\u001b[0m\u001b[0;34m\u001b[0m\u001b[0m\n\u001b[1;32m      2\u001b[0m \u001b[0;31m# tuple -> immutable\u001b[0m\u001b[0;34m\u001b[0m\u001b[0;34m\u001b[0m\u001b[0;34m\u001b[0m\u001b[0m\n\u001b[0;32m----> 3\u001b[0;31m \u001b[0mbir_demet\u001b[0m\u001b[0;34m[\u001b[0m\u001b[0;36m0\u001b[0m\u001b[0;34m]\u001b[0m \u001b[0;34m=\u001b[0m \u001b[0;34m\"Süleyman\"\u001b[0m\u001b[0;34m\u001b[0m\u001b[0;34m\u001b[0m\u001b[0m\n\u001b[0m",
      "\u001b[0;31mTypeError\u001b[0m: 'tuple' object does not support item assignment"
     ]
    }
   ],
   "source": [
    "# list -> mutable\n",
    "# tuple -> immutable\n",
    "bir_demet[0] = \"Süleyman\"\n"
   ]
  },
  {
   "cell_type": "code",
   "execution_count": 24,
   "metadata": {},
   "outputs": [
    {
     "data": {
      "text/plain": [
       "['__add__',\n",
       " '__class__',\n",
       " '__contains__',\n",
       " '__delattr__',\n",
       " '__delitem__',\n",
       " '__dir__',\n",
       " '__doc__',\n",
       " '__eq__',\n",
       " '__format__',\n",
       " '__ge__',\n",
       " '__getattribute__',\n",
       " '__getitem__',\n",
       " '__gt__',\n",
       " '__hash__',\n",
       " '__iadd__',\n",
       " '__imul__',\n",
       " '__init__',\n",
       " '__init_subclass__',\n",
       " '__iter__',\n",
       " '__le__',\n",
       " '__len__',\n",
       " '__lt__',\n",
       " '__mul__',\n",
       " '__ne__',\n",
       " '__new__',\n",
       " '__reduce__',\n",
       " '__reduce_ex__',\n",
       " '__repr__',\n",
       " '__reversed__',\n",
       " '__rmul__',\n",
       " '__setattr__',\n",
       " '__setitem__',\n",
       " '__sizeof__',\n",
       " '__str__',\n",
       " '__subclasshook__',\n",
       " 'append',\n",
       " 'clear',\n",
       " 'copy',\n",
       " 'count',\n",
       " 'extend',\n",
       " 'index',\n",
       " 'insert',\n",
       " 'pop',\n",
       " 'remove',\n",
       " 'reverse',\n",
       " 'sort']"
      ]
     },
     "execution_count": 24,
     "metadata": {},
     "output_type": "execute_result"
    }
   ],
   "source": [
    "dir(list)"
   ]
  },
  {
   "cell_type": "code",
   "execution_count": 26,
   "metadata": {},
   "outputs": [
    {
     "name": "stdout",
     "output_type": "stream",
     "text": [
      "['elma', 'armut', 'muz']\n",
      "['elma', 'armut', 'muz', 'avokado']\n"
     ]
    }
   ],
   "source": [
    "yepyeni_bir_liste = [\"elma\", \"armut\", \"muz\"]\n",
    "print(yepyeni_bir_liste)\n",
    "yepyeni_bir_liste.append(\"avokado\")\n",
    "print(yepyeni_bir_liste)"
   ]
  },
  {
   "cell_type": "code",
   "execution_count": 29,
   "metadata": {},
   "outputs": [
    {
     "name": "stdout",
     "output_type": "stream",
     "text": [
      "[1, 2, 3]\n",
      "[1, 2, 3, 4, 5, 6]\n"
     ]
    }
   ],
   "source": [
    "# liste = [1,2,3]\n",
    "# liste -> [1,2,3,4,5,6] bu hale gelsin istiyorum\n",
    "liste = [1,2,3]\n",
    "# liste.append([4,5,6])\n",
    "# listeyi şu hale getirir: [1,2,3,[4,5,6]]\n",
    "print(liste) \n",
    "\n",
    "yeni_liste = [4,5,6]\n",
    "liste = liste + yeni_liste\n",
    "print(liste)"
   ]
  },
  {
   "cell_type": "code",
   "execution_count": 3,
   "metadata": {},
   "outputs": [
    {
     "name": "stdout",
     "output_type": "stream",
     "text": [
      "[1, 2, 3, 4, 5, 6]\n"
     ]
    }
   ],
   "source": [
    "liste = [1,2,3]\n",
    "yeni_liste = [4,5,6]\n",
    "liste.extend(yeni_liste)\n",
    "print(liste)"
   ]
  },
  {
   "cell_type": "code",
   "execution_count": 5,
   "metadata": {},
   "outputs": [
    {
     "name": "stdout",
     "output_type": "stream",
     "text": [
      "['Elma', 'Erik', 'Armut', 'Ayva']\n"
     ]
    }
   ],
   "source": [
    "deneme_liste = [\"Elma\", \"Armut\", \"Ayva\"]\n",
    "deneme_liste.insert(1, \"Erik\")\n",
    "print(deneme_liste)"
   ]
  },
  {
   "cell_type": "code",
   "execution_count": 6,
   "metadata": {},
   "outputs": [
    {
     "name": "stdout",
     "output_type": "stream",
     "text": [
      "['Elma', 'Erik', 'Ayva']\n"
     ]
    }
   ],
   "source": [
    "deneme_liste.remove(\"Armut\")\n",
    "print(deneme_liste)"
   ]
  },
  {
   "cell_type": "code",
   "execution_count": 7,
   "metadata": {},
   "outputs": [
    {
     "ename": "ValueError",
     "evalue": "list.remove(x): x not in list",
     "output_type": "error",
     "traceback": [
      "\u001b[0;31m---------------------------------------------------------------------------\u001b[0m",
      "\u001b[0;31mValueError\u001b[0m                                Traceback (most recent call last)",
      "\u001b[0;32m<ipython-input-7-3c5c8d831406>\u001b[0m in \u001b[0;36m<module>\u001b[0;34m\u001b[0m\n\u001b[0;32m----> 1\u001b[0;31m \u001b[0mdeneme_liste\u001b[0m\u001b[0;34m.\u001b[0m\u001b[0mremove\u001b[0m\u001b[0;34m(\u001b[0m\u001b[0;34m\"Karpuz\"\u001b[0m\u001b[0;34m)\u001b[0m\u001b[0;34m\u001b[0m\u001b[0;34m\u001b[0m\u001b[0m\n\u001b[0m\u001b[1;32m      2\u001b[0m \u001b[0mprint\u001b[0m\u001b[0;34m(\u001b[0m\u001b[0mdeneme_liste\u001b[0m\u001b[0;34m)\u001b[0m\u001b[0;34m\u001b[0m\u001b[0;34m\u001b[0m\u001b[0m\n",
      "\u001b[0;31mValueError\u001b[0m: list.remove(x): x not in list"
     ]
    }
   ],
   "source": [
    "deneme_liste.remove(\"Karpuz\")\n",
    "print(deneme_liste)"
   ]
  },
  {
   "cell_type": "code",
   "execution_count": 11,
   "metadata": {},
   "outputs": [
    {
     "name": "stdout",
     "output_type": "stream",
     "text": [
      "['Elma', 'Ayva', 'Armut']\n"
     ]
    }
   ],
   "source": [
    "deneme_liste = [\"Elma\", \"Armut\", \"Ayva\", \"Armut\"]\n",
    "deneme_liste.remove(\"Armut\")\n",
    "print(deneme_liste)\n"
   ]
  },
  {
   "cell_type": "code",
   "execution_count": 12,
   "metadata": {},
   "outputs": [
    {
     "name": "stdout",
     "output_type": "stream",
     "text": [
      "['Armut', 'Ayva', 'Elma']\n"
     ]
    }
   ],
   "source": [
    "deneme_liste.reverse()\n",
    "print(deneme_liste)"
   ]
  },
  {
   "cell_type": "code",
   "execution_count": 13,
   "metadata": {},
   "outputs": [
    {
     "data": {
      "text/plain": [
       "'Armut'"
      ]
     },
     "execution_count": 13,
     "metadata": {},
     "output_type": "execute_result"
    }
   ],
   "source": [
    "deneme_liste.pop(0)"
   ]
  },
  {
   "cell_type": "code",
   "execution_count": 14,
   "metadata": {},
   "outputs": [
    {
     "name": "stdout",
     "output_type": "stream",
     "text": [
      "['Ayva', 'Elma']\n"
     ]
    }
   ],
   "source": [
    "print(deneme_liste)"
   ]
  },
  {
   "cell_type": "code",
   "execution_count": 15,
   "metadata": {},
   "outputs": [
    {
     "name": "stdout",
     "output_type": "stream",
     "text": [
      "[-99, -5, 0, 1, 3, 4, 47, 101, 103]\n"
     ]
    }
   ],
   "source": [
    "sayi_listesi = [1, 0, -5, 4, 3, 47, -99, 103, 101]\n",
    "sayi_listesi.sort()\n",
    "print(sayi_listesi)"
   ]
  },
  {
   "cell_type": "code",
   "execution_count": 16,
   "metadata": {},
   "outputs": [
    {
     "name": "stdout",
     "output_type": "stream",
     "text": [
      "[103, 101, 47, 4, 3, 1, 0, -5, -99]\n"
     ]
    }
   ],
   "source": [
    "sayi_listesi = [1, 0, -5, 4, 3, 47, -99, 103, 101]\n",
    "sayi_listesi.sort(reverse = True)\n",
    "print(sayi_listesi)"
   ]
  },
  {
   "cell_type": "code",
   "execution_count": 17,
   "metadata": {},
   "outputs": [
    {
     "data": {
      "text/plain": [
       "['__add__',\n",
       " '__class__',\n",
       " '__contains__',\n",
       " '__delattr__',\n",
       " '__dir__',\n",
       " '__doc__',\n",
       " '__eq__',\n",
       " '__format__',\n",
       " '__ge__',\n",
       " '__getattribute__',\n",
       " '__getitem__',\n",
       " '__getnewargs__',\n",
       " '__gt__',\n",
       " '__hash__',\n",
       " '__init__',\n",
       " '__init_subclass__',\n",
       " '__iter__',\n",
       " '__le__',\n",
       " '__len__',\n",
       " '__lt__',\n",
       " '__mod__',\n",
       " '__mul__',\n",
       " '__ne__',\n",
       " '__new__',\n",
       " '__reduce__',\n",
       " '__reduce_ex__',\n",
       " '__repr__',\n",
       " '__rmod__',\n",
       " '__rmul__',\n",
       " '__setattr__',\n",
       " '__sizeof__',\n",
       " '__str__',\n",
       " '__subclasshook__',\n",
       " 'capitalize',\n",
       " 'casefold',\n",
       " 'center',\n",
       " 'count',\n",
       " 'encode',\n",
       " 'endswith',\n",
       " 'expandtabs',\n",
       " 'find',\n",
       " 'format',\n",
       " 'format_map',\n",
       " 'index',\n",
       " 'isalnum',\n",
       " 'isalpha',\n",
       " 'isascii',\n",
       " 'isdecimal',\n",
       " 'isdigit',\n",
       " 'isidentifier',\n",
       " 'islower',\n",
       " 'isnumeric',\n",
       " 'isprintable',\n",
       " 'isspace',\n",
       " 'istitle',\n",
       " 'isupper',\n",
       " 'join',\n",
       " 'ljust',\n",
       " 'lower',\n",
       " 'lstrip',\n",
       " 'maketrans',\n",
       " 'partition',\n",
       " 'replace',\n",
       " 'rfind',\n",
       " 'rindex',\n",
       " 'rjust',\n",
       " 'rpartition',\n",
       " 'rsplit',\n",
       " 'rstrip',\n",
       " 'split',\n",
       " 'splitlines',\n",
       " 'startswith',\n",
       " 'strip',\n",
       " 'swapcase',\n",
       " 'title',\n",
       " 'translate',\n",
       " 'upper',\n",
       " 'zfill']"
      ]
     },
     "execution_count": 17,
     "metadata": {},
     "output_type": "execute_result"
    }
   ],
   "source": [
    "dir(str)"
   ]
  },
  {
   "cell_type": "code",
   "execution_count": 18,
   "metadata": {},
   "outputs": [
    {
     "data": {
      "text/plain": [
       "['__add__',\n",
       " '__class__',\n",
       " '__contains__',\n",
       " '__delattr__',\n",
       " '__delitem__',\n",
       " '__dir__',\n",
       " '__doc__',\n",
       " '__eq__',\n",
       " '__format__',\n",
       " '__ge__',\n",
       " '__getattribute__',\n",
       " '__getitem__',\n",
       " '__gt__',\n",
       " '__hash__',\n",
       " '__iadd__',\n",
       " '__imul__',\n",
       " '__init__',\n",
       " '__init_subclass__',\n",
       " '__iter__',\n",
       " '__le__',\n",
       " '__len__',\n",
       " '__lt__',\n",
       " '__mul__',\n",
       " '__ne__',\n",
       " '__new__',\n",
       " '__reduce__',\n",
       " '__reduce_ex__',\n",
       " '__repr__',\n",
       " '__reversed__',\n",
       " '__rmul__',\n",
       " '__setattr__',\n",
       " '__setitem__',\n",
       " '__sizeof__',\n",
       " '__str__',\n",
       " '__subclasshook__',\n",
       " 'append',\n",
       " 'clear',\n",
       " 'copy',\n",
       " 'count',\n",
       " 'extend',\n",
       " 'index',\n",
       " 'insert',\n",
       " 'pop',\n",
       " 'remove',\n",
       " 'reverse',\n",
       " 'sort']"
      ]
     },
     "execution_count": 18,
     "metadata": {},
     "output_type": "execute_result"
    }
   ],
   "source": [
    "dir(list)"
   ]
  },
  {
   "cell_type": "code",
   "execution_count": 19,
   "metadata": {},
   "outputs": [
    {
     "data": {
      "text/plain": [
       "Type help() for interactive help, or help(object) for help about object."
      ]
     },
     "execution_count": 19,
     "metadata": {},
     "output_type": "execute_result"
    }
   ],
   "source": [
    "help"
   ]
  },
  {
   "cell_type": "code",
   "execution_count": 20,
   "metadata": {
    "cocalc": {
     "outputs": {
      "1": {
       "name": "input",
       "opts": {
        "password": false,
        "prompt": "help> "
       },
       "output_type": "stream",
       "value": "list"
      },
      "3": {
       "name": "input",
       "opts": {
        "password": false,
        "prompt": "help> "
       },
       "output_type": "stream",
       "value": "q"
      }
     }
    }
   },
   "outputs": [
    {
     "name": "stdout",
     "output_type": "stream",
     "text": [
      "\n",
      "Welcome to Python 3.8's help utility!\n",
      "\n",
      "If this is your first time using Python, you should definitely check out\n",
      "the tutorial on the Internet at https://docs.python.org/3.8/tutorial/.\n",
      "\n",
      "Enter the name of any module, keyword, or topic to get help on writing\n",
      "Python programs and using Python modules.  To quit this help utility and\n",
      "return to the interpreter, just type \"quit\".\n",
      "\n",
      "To get a list of available modules, keywords, symbols, or topics, type\n",
      "\"modules\", \"keywords\", \"symbols\", or \"topics\".  Each module also comes\n",
      "with a one-line summary of what it does; to list the modules whose name\n",
      "or summary contain a given string such as \"spam\", type \"modules spam\".\n",
      "\n",
      "help>  listHelp on class list in module builtins:\n",
      "\n",
      "class list(object)\n",
      " |  list(iterable=(), /)\n",
      " |  \n",
      " |  Built-in mutable sequence.\n",
      " |  \n",
      " |  If no argument is given, the constructor creates a new empty list.\n",
      " |  The argument must be an iterable if specified.\n",
      " |  \n",
      " |  Methods defined here:\n",
      " |  \n",
      " |  __add__(self, value, /)\n",
      " |      Return self+value.\n",
      " |  \n",
      " |  __contains__(self, key, /)\n",
      " |      Return key in self.\n",
      " |  \n",
      " |  __delitem__(self, key, /)\n",
      " |      Delete self[key].\n",
      " |  \n",
      " |  __eq__(self, value, /)\n",
      " |      Return self==value.\n",
      " |  \n",
      " |  __ge__(self, value, /)\n",
      " |      Return self>=value.\n",
      " |  \n",
      " |  __getattribute__(self, name, /)\n",
      " |      Return getattr(self, name).\n",
      " |  \n",
      " |  __getitem__(...)\n",
      " |      x.__getitem__(y) <==> x[y]\n",
      " |  \n",
      " |  __gt__(self, value, /)\n",
      " |      Return self>value.\n",
      " |  \n",
      " |  __iadd__(self, value, /)\n",
      " |      Implement self+=value.\n",
      " |  \n",
      " |  __imul__(self, value, /)\n",
      " |      Implement self*=value.\n",
      " |  \n",
      " |  __init__(self, /, *args, **kwargs)\n",
      " |      Initialize self.  See help(type(self)) for accurate signature.\n",
      " |  \n",
      " |  __iter__(self, /)\n",
      " |      Implement iter(self).\n",
      " |  \n",
      " |  __le__(self, value, /)\n",
      " |      Return self<=value.\n",
      " |  \n",
      " |  __len__(self, /)\n",
      " |      Return len(self).\n",
      " |  \n",
      " |  __lt__(self, value, /)\n",
      " |      Return self<value.\n",
      " |  \n",
      " |  __mul__(self, value, /)\n",
      " |      Return self*value.\n",
      " |  \n",
      " |  __ne__(self, value, /)\n",
      " |      Return self!=value.\n",
      " |  \n",
      " |  __repr__(self, /)\n",
      " |      Return repr(self).\n",
      " |  \n",
      " |  __reversed__(self, /)\n",
      " |      Return a reverse iterator over the list.\n",
      " |  \n",
      " |  __rmul__(self, value, /)\n",
      " |      Return value*self.\n",
      " |  \n",
      " |  __setitem__(self, key, value, /)\n",
      " |      Set self[key] to value.\n",
      " |  \n",
      " |  __sizeof__(self, /)\n",
      " |      Return the size of the list in memory, in bytes.\n",
      " |  \n",
      " |  append(self, object, /)\n",
      " |      Append object to the end of the list.\n",
      " |  \n",
      " |  clear(self, /)\n",
      " |      Remove all items from list.\n",
      " |  \n",
      " |  copy(self, /)\n",
      " |      Return a shallow copy of the list.\n",
      " |  \n",
      " |  count(self, value, /)\n",
      " |      Return number of occurrences of value.\n",
      " |  \n",
      " |  extend(self, iterable, /)\n",
      " |      Extend list by appending elements from the iterable.\n",
      " |  \n",
      " |  index(self, value, start=0, stop=9223372036854775807, /)\n",
      " |      Return first index of value.\n",
      " |      \n",
      " |      Raises ValueError if the value is not present.\n",
      " |  \n",
      " |  insert(self, index, object, /)\n",
      " |      Insert object before index.\n",
      " |  \n",
      " |  pop(self, index=-1, /)\n",
      " |      Remove and return item at index (default last).\n",
      " |      \n",
      " |      Raises IndexError if list is empty or index is out of range.\n",
      " |  \n",
      " |  remove(self, value, /)\n",
      " |      Remove first occurrence of value.\n",
      " |      \n",
      " |      Raises ValueError if the value is not present.\n",
      " |  \n",
      " |  reverse(self, /)\n",
      " |      Reverse *IN PLACE*.\n",
      " |  \n",
      " |  sort(self, /, *, key=None, reverse=False)\n",
      " |      Sort the list in ascending order and return None.\n",
      " |      \n",
      " |      The sort is in-place (i.e. the list itself is modified) and stable (i.e. the\n",
      " |      order of two equal elements is maintained).\n",
      " |      \n",
      " |      If a key function is given, apply it once to each list item and sort them,\n",
      " |      ascending or descending, according to their function values.\n",
      " |      \n",
      " |      The reverse flag can be set to sort in descending order.\n",
      " |  \n",
      " |  ----------------------------------------------------------------------\n",
      " |  Static methods defined here:\n",
      " |  \n",
      " |  __new__(*args, **kwargs) from builtins.type\n",
      " |      Create and return a new object.  See help(type) for accurate signature.\n",
      " |  \n",
      " |  ----------------------------------------------------------------------\n",
      " |  Data and other attributes defined here:\n",
      " |  \n",
      " |  __hash__ = None\n",
      "\n",
      "help>  q\n",
      "You are now leaving help and returning to the Python interpreter.\n",
      "If you want to ask for help on a particular object directly from the\n",
      "interpreter, you can type \"help(object)\".  Executing \"help('string')\"\n",
      "has the same effect as typing a particular string at the help> prompt.\n"
     ]
    }
   ],
   "source": [
    "help()"
   ]
  },
  {
   "cell_type": "code",
   "execution_count": 21,
   "metadata": {},
   "outputs": [
    {
     "name": "stdout",
     "output_type": "stream",
     "text": [
      "[103, 101, 47, 4, 3, 1, 0, -5, -99]\n"
     ]
    }
   ],
   "source": [
    "print(sayi_listesi)"
   ]
  },
  {
   "cell_type": "code",
   "execution_count": 22,
   "metadata": {},
   "outputs": [
    {
     "data": {
      "text/plain": [
       "2"
      ]
     },
     "execution_count": 22,
     "metadata": {},
     "output_type": "execute_result"
    }
   ],
   "source": [
    "sayi_listesi.index(47)"
   ]
  },
  {
   "cell_type": "code",
   "execution_count": 23,
   "metadata": {},
   "outputs": [
    {
     "ename": "ValueError",
     "evalue": "-54 is not in list",
     "output_type": "error",
     "traceback": [
      "\u001b[0;31m---------------------------------------------------------------------------\u001b[0m",
      "\u001b[0;31mValueError\u001b[0m                                Traceback (most recent call last)",
      "\u001b[0;32m<ipython-input-23-1f1da61c9b11>\u001b[0m in \u001b[0;36m<module>\u001b[0;34m\u001b[0m\n\u001b[0;32m----> 1\u001b[0;31m \u001b[0msayi_listesi\u001b[0m\u001b[0;34m.\u001b[0m\u001b[0mindex\u001b[0m\u001b[0;34m(\u001b[0m\u001b[0;34m-\u001b[0m\u001b[0;36m54\u001b[0m\u001b[0;34m)\u001b[0m\u001b[0;34m\u001b[0m\u001b[0;34m\u001b[0m\u001b[0m\n\u001b[0m",
      "\u001b[0;31mValueError\u001b[0m: -54 is not in list"
     ]
    }
   ],
   "source": [
    "sayi_listesi.index(-54)"
   ]
  },
  {
   "cell_type": "code",
   "execution_count": 26,
   "metadata": {},
   "outputs": [
    {
     "data": {
      "text/plain": [
       "0"
      ]
     },
     "execution_count": 26,
     "metadata": {},
     "output_type": "execute_result"
    }
   ],
   "source": [
    "meyve_listesi = [\"Elma\", \"Elma\", \"Armut\", \"Ayva\", \"Portakal\", \"Kiraz\"]\n",
    "meyve_listesi.count(\"Elma\")\n",
    "meyve_listesi.count(\"Karpuz\")"
   ]
  },
  {
   "cell_type": "code",
   "execution_count": 27,
   "metadata": {},
   "outputs": [
    {
     "name": "stdout",
     "output_type": "stream",
     "text": [
      "[4, 5, 6]\n"
     ]
    }
   ],
   "source": [
    "liste_a = [1,2,3]\n",
    "liste_b = [4,5,6]\n",
    "liste_a = liste_b.copy()\n",
    "print(liste_a)"
   ]
  },
  {
   "cell_type": "code",
   "execution_count": 28,
   "metadata": {},
   "outputs": [
    {
     "name": "stdout",
     "output_type": "stream",
     "text": [
      "[]\n"
     ]
    }
   ],
   "source": [
    "liste_a.clear()\n",
    "print(liste_a)"
   ]
  },
  {
   "cell_type": "code",
   "execution_count": 29,
   "metadata": {},
   "outputs": [
    {
     "data": {
      "text/plain": [
       "['__add__',\n",
       " '__class__',\n",
       " '__contains__',\n",
       " '__delattr__',\n",
       " '__dir__',\n",
       " '__doc__',\n",
       " '__eq__',\n",
       " '__format__',\n",
       " '__ge__',\n",
       " '__getattribute__',\n",
       " '__getitem__',\n",
       " '__getnewargs__',\n",
       " '__gt__',\n",
       " '__hash__',\n",
       " '__init__',\n",
       " '__init_subclass__',\n",
       " '__iter__',\n",
       " '__le__',\n",
       " '__len__',\n",
       " '__lt__',\n",
       " '__mul__',\n",
       " '__ne__',\n",
       " '__new__',\n",
       " '__reduce__',\n",
       " '__reduce_ex__',\n",
       " '__repr__',\n",
       " '__rmul__',\n",
       " '__setattr__',\n",
       " '__sizeof__',\n",
       " '__str__',\n",
       " '__subclasshook__',\n",
       " 'count',\n",
       " 'index']"
      ]
     },
     "execution_count": 29,
     "metadata": {},
     "output_type": "execute_result"
    }
   ],
   "source": [
    "dir(tuple)"
   ]
  },
  {
   "cell_type": "code",
   "execution_count": 30,
   "metadata": {},
   "outputs": [
    {
     "data": {
      "text/plain": [
       "0"
      ]
     },
     "execution_count": 30,
     "metadata": {},
     "output_type": "execute_result"
    }
   ],
   "source": [
    "demet = (\"Elma\", \"Armut\", \"Çilek\")\n",
    "demet.index(\"Elma\")"
   ]
  },
  {
   "cell_type": "code",
   "execution_count": 31,
   "metadata": {},
   "outputs": [
    {
     "ename": "ValueError",
     "evalue": "tuple.index(x): x not in tuple",
     "output_type": "error",
     "traceback": [
      "\u001b[0;31m---------------------------------------------------------------------------\u001b[0m",
      "\u001b[0;31mValueError\u001b[0m                                Traceback (most recent call last)",
      "\u001b[0;32m<ipython-input-31-9c0354842d6f>\u001b[0m in \u001b[0;36m<module>\u001b[0;34m\u001b[0m\n\u001b[0;32m----> 1\u001b[0;31m \u001b[0mdemet\u001b[0m\u001b[0;34m.\u001b[0m\u001b[0mindex\u001b[0m\u001b[0;34m(\u001b[0m\u001b[0;34m\"Kiraz\"\u001b[0m\u001b[0;34m)\u001b[0m\u001b[0;34m\u001b[0m\u001b[0;34m\u001b[0m\u001b[0m\n\u001b[0m",
      "\u001b[0;31mValueError\u001b[0m: tuple.index(x): x not in tuple"
     ]
    }
   ],
   "source": [
    "demet.index(\"Kiraz\")"
   ]
  },
  {
   "cell_type": "code",
   "execution_count": 32,
   "metadata": {},
   "outputs": [
    {
     "data": {
      "text/plain": [
       "1"
      ]
     },
     "execution_count": 32,
     "metadata": {},
     "output_type": "execute_result"
    }
   ],
   "source": [
    "demet.count(\"Elma\")"
   ]
  },
  {
   "cell_type": "code",
   "execution_count": 33,
   "metadata": {},
   "outputs": [
    {
     "data": {
      "text/plain": [
       "0"
      ]
     },
     "execution_count": 33,
     "metadata": {},
     "output_type": "execute_result"
    }
   ],
   "source": [
    "demet.count(\"Kiraz\")"
   ]
  },
  {
   "cell_type": "code",
   "execution_count": 36,
   "metadata": {},
   "outputs": [
    {
     "name": "stdout",
     "output_type": "stream",
     "text": [
      "-53.7\n",
      "53.7\n",
      "(-3+4j)\n",
      "5.0\n"
     ]
    }
   ],
   "source": [
    "sayi_degeri = -53.7\n",
    "print(sayi_degeri)\n",
    "print(abs(sayi_degeri))\n",
    "\n",
    "karmasik_sayi_degeri = -3+4j \n",
    "print(karmasik_sayi_degeri)\n",
    "print(abs(karmasik_sayi_degeri))\n"
   ]
  },
  {
   "cell_type": "code",
   "execution_count": 39,
   "metadata": {},
   "outputs": [
    {
     "name": "stdout",
     "output_type": "stream",
     "text": [
      "53.75545343\n",
      "54\n",
      "54.0\n",
      "53.8\n",
      "53.76\n",
      "53.755\n",
      "53.7555\n"
     ]
    }
   ],
   "source": [
    "sayi_degeri = 53.75545343\n",
    "print(sayi_degeri)\n",
    "print(round(sayi_degeri))\n",
    "print(round(sayi_degeri, 0))\n",
    "print(round(sayi_degeri, 1))\n",
    "print(round(sayi_degeri, 2))\n",
    "print(round(sayi_degeri, 3))\n",
    "print(round(sayi_degeri, 4))"
   ]
  },
  {
   "cell_type": "code",
   "execution_count": 40,
   "metadata": {},
   "outputs": [
    {
     "data": {
      "text/plain": [
       "True"
      ]
     },
     "execution_count": 40,
     "metadata": {},
     "output_type": "execute_result"
    }
   ],
   "source": [
    "liste = [1,2,3,4,5]\n",
    "all(liste)"
   ]
  },
  {
   "cell_type": "code",
   "execution_count": 41,
   "metadata": {},
   "outputs": [
    {
     "data": {
      "text/plain": [
       "False"
      ]
     },
     "execution_count": 41,
     "metadata": {},
     "output_type": "execute_result"
    }
   ],
   "source": [
    "liste = [0,1,2,3,4]\n",
    "all(liste)"
   ]
  },
  {
   "cell_type": "code",
   "execution_count": 42,
   "metadata": {},
   "outputs": [
    {
     "data": {
      "text/plain": [
       "True"
      ]
     },
     "execution_count": 42,
     "metadata": {},
     "output_type": "execute_result"
    }
   ],
   "source": [
    "liste = [\"ahmet\", \"mehmet\", \"cevdet\"]\n",
    "all(liste)"
   ]
  },
  {
   "cell_type": "code",
   "execution_count": 43,
   "metadata": {},
   "outputs": [
    {
     "data": {
      "text/plain": [
       "False"
      ]
     },
     "execution_count": 43,
     "metadata": {},
     "output_type": "execute_result"
    }
   ],
   "source": [
    "liste = [\"ahmet\", \"mehmet\", \"cevdet\", \"\"]\n",
    "all(liste)"
   ]
  },
  {
   "cell_type": "code",
   "execution_count": 44,
   "metadata": {},
   "outputs": [
    {
     "data": {
      "text/plain": [
       "False"
      ]
     },
     "execution_count": 44,
     "metadata": {},
     "output_type": "execute_result"
    }
   ],
   "source": [
    "liste = [\"\", \"\", \"\", \"\"]\n",
    "any(liste)"
   ]
  },
  {
   "cell_type": "code",
   "execution_count": 45,
   "metadata": {},
   "outputs": [
    {
     "data": {
      "text/plain": [
       "True"
      ]
     },
     "execution_count": 45,
     "metadata": {},
     "output_type": "execute_result"
    }
   ],
   "source": [
    "liste = [\"\", \"\", \"\", \"Ahmet\"]\n",
    "any(liste)"
   ]
  },
  {
   "cell_type": "code",
   "execution_count": 0,
   "metadata": {},
   "outputs": [],
   "source": [
    "ascii(), repr(), bool(), bin(), bytes()"
   ]
  },
  {
   "cell_type": "code",
   "execution_count": 46,
   "metadata": {},
   "outputs": [
    {
     "data": {
      "text/plain": [
       "'0b1100'"
      ]
     },
     "execution_count": 46,
     "metadata": {},
     "output_type": "execute_result"
    }
   ],
   "source": [
    "bin(12)"
   ]
  },
  {
   "cell_type": "code",
   "execution_count": 47,
   "metadata": {},
   "outputs": [
    {
     "data": {
      "text/plain": [
       "'\\n'"
      ]
     },
     "execution_count": 47,
     "metadata": {},
     "output_type": "execute_result"
    }
   ],
   "source": [
    "chr(10)"
   ]
  },
  {
   "cell_type": "code",
   "execution_count": 48,
   "metadata": {},
   "outputs": [
    {
     "data": {
      "text/plain": [
       "'>'"
      ]
     },
     "execution_count": 48,
     "metadata": {},
     "output_type": "execute_result"
    }
   ],
   "source": [
    "chr(62)"
   ]
  },
  {
   "cell_type": "code",
   "execution_count": 0,
   "metadata": {},
   "outputs": [],
   "source": [
    "set, frozenset"
   ]
  },
  {
   "cell_type": "code",
   "execution_count": 0,
   "metadata": {},
   "outputs": [],
   "source": [
    "# (key, value) pair yani (anahtar, değer) ikilisi\n",
    "# key yani anahtar immutable\n",
    "# value yani değer mutable\n",
    "# key yani anahtar değerleri unique (yani biricik)\n",
    "\n",
    "sozluk = {\"isim\":\"Ahmet\", \"yas\":11, \"boy\":156, \"adres\":\"Ankara\"}\n",
    "sozluk = dict({\"isim\":\"Ahmet\", \"yas\":11, \"boy\":156, \"adres\":\"Ankara\"})\n",
    "\n"
   ]
  },
  {
   "cell_type": "code",
   "execution_count": 0,
   "metadata": {},
   "outputs": [],
   "source": [
    "callable(), ord(), oct(), hex()"
   ]
  },
  {
   "cell_type": "code",
   "execution_count": 0,
   "metadata": {},
   "outputs": [],
   "source": [
    "eval(), exec()"
   ]
  },
  {
   "cell_type": "code",
   "execution_count": 0,
   "metadata": {},
   "outputs": [],
   "source": [
    "copyright(), credits(), license()"
   ]
  },
  {
   "cell_type": "code",
   "execution_count": 1,
   "metadata": {},
   "outputs": [
    {
     "data": {
      "text/plain": [
       "(5, 0)"
      ]
     },
     "execution_count": 1,
     "metadata": {},
     "output_type": "execute_result"
    }
   ],
   "source": [
    "divmod(10,2)"
   ]
  },
  {
   "cell_type": "code",
   "execution_count": 2,
   "metadata": {},
   "outputs": [
    {
     "data": {
      "text/plain": [
       "(5, 1)"
      ]
     },
     "execution_count": 2,
     "metadata": {},
     "output_type": "execute_result"
    }
   ],
   "source": [
    "divmod(11,2)"
   ]
  },
  {
   "cell_type": "code",
   "execution_count": 3,
   "metadata": {},
   "outputs": [
    {
     "data": {
      "text/plain": [
       "(3, 2)"
      ]
     },
     "execution_count": 3,
     "metadata": {},
     "output_type": "execute_result"
    }
   ],
   "source": [
    "divmod(11,3)"
   ]
  },
  {
   "cell_type": "code",
   "execution_count": 0,
   "metadata": {},
   "outputs": [],
   "source": [
    "filter(fonksiyon_adı, uygulanacak_unsur)"
   ]
  },
  {
   "cell_type": "code",
   "execution_count": 6,
   "metadata": {},
   "outputs": [
    {
     "data": {
      "text/plain": [
       "False"
      ]
     },
     "execution_count": 6,
     "metadata": {},
     "output_type": "execute_result"
    }
   ],
   "source": [
    "a = \"elma\"\n",
    "type(a)\n",
    "isinstance(a,int)"
   ]
  },
  {
   "cell_type": "code",
   "execution_count": 0,
   "metadata": {},
   "outputs": [],
   "source": [
    "map(fonksiyon_adı, uygulanacak_unsur)"
   ]
  },
  {
   "cell_type": "code",
   "execution_count": 10,
   "metadata": {},
   "outputs": [
    {
     "data": {
      "text/plain": [
       "'zeki'"
      ]
     },
     "execution_count": 10,
     "metadata": {},
     "output_type": "execute_result"
    }
   ],
   "source": [
    "liste = [1, 2, 3, 55, -33, 99]\n",
    "max(liste)\n",
    "isim_listesi = [\"ali\", \"veli\", \"mehmet\", \"süleyman\", \"iskender\", \"halaskargazi\", \"zeki\"]\n",
    "max(isim_listesi)"
   ]
  },
  {
   "cell_type": "code",
   "execution_count": 13,
   "metadata": {},
   "outputs": [
    {
     "data": {
      "text/plain": [
       "'ve'"
      ]
     },
     "execution_count": 13,
     "metadata": {},
     "output_type": "execute_result"
    }
   ],
   "source": [
    "liste = [1, 2, 3, 55, -33, 99]\n",
    "min(liste)\n",
    "isim_listesi = [\"ali\", \"ve\", \"mehmet\", \"süleyman\", \"iskender\", \"halaskargazi\", \"zeki\"]\n",
    "min(isim_listesi, key=len)"
   ]
  },
  {
   "cell_type": "code",
   "execution_count": 0,
   "metadata": {},
   "outputs": [],
   "source": [
    "dilim = slice(0, 3, 1)\n",
    "liste[dilim]\n",
    "liste[0:3:1]"
   ]
  },
  {
   "cell_type": "code",
   "execution_count": 14,
   "metadata": {},
   "outputs": [
    {
     "data": {
      "text/plain": [
       "<zip at 0x7f48d62d88c0>"
      ]
     },
     "execution_count": 14,
     "metadata": {},
     "output_type": "execute_result"
    }
   ],
   "source": [
    "liste1 = [\"a\",\"b\",\"c\"]\n",
    "liste2 = [\"d\",\"e\",\"f\"]\n",
    "zip(liste1, liste2)"
   ]
  },
  {
   "cell_type": "code",
   "execution_count": 17,
   "metadata": {},
   "outputs": [
    {
     "name": "stdout",
     "output_type": "stream",
     "text": [
      "('a', 'd') ('b', 'e') ('c', 'f')\n"
     ]
    }
   ],
   "source": [
    "print(*zip(liste1, liste2))"
   ]
  },
  {
   "cell_type": "code",
   "execution_count": 18,
   "metadata": {},
   "outputs": [
    {
     "data": {
      "text/plain": [
       "mappingproxy({'__repr__': <slot wrapper '__repr__' of 'list' objects>,\n",
       "              '__hash__': None,\n",
       "              '__getattribute__': <slot wrapper '__getattribute__' of 'list' objects>,\n",
       "              '__lt__': <slot wrapper '__lt__' of 'list' objects>,\n",
       "              '__le__': <slot wrapper '__le__' of 'list' objects>,\n",
       "              '__eq__': <slot wrapper '__eq__' of 'list' objects>,\n",
       "              '__ne__': <slot wrapper '__ne__' of 'list' objects>,\n",
       "              '__gt__': <slot wrapper '__gt__' of 'list' objects>,\n",
       "              '__ge__': <slot wrapper '__ge__' of 'list' objects>,\n",
       "              '__iter__': <slot wrapper '__iter__' of 'list' objects>,\n",
       "              '__init__': <slot wrapper '__init__' of 'list' objects>,\n",
       "              '__len__': <slot wrapper '__len__' of 'list' objects>,\n",
       "              '__getitem__': <method '__getitem__' of 'list' objects>,\n",
       "              '__setitem__': <slot wrapper '__setitem__' of 'list' objects>,\n",
       "              '__delitem__': <slot wrapper '__delitem__' of 'list' objects>,\n",
       "              '__add__': <slot wrapper '__add__' of 'list' objects>,\n",
       "              '__mul__': <slot wrapper '__mul__' of 'list' objects>,\n",
       "              '__rmul__': <slot wrapper '__rmul__' of 'list' objects>,\n",
       "              '__contains__': <slot wrapper '__contains__' of 'list' objects>,\n",
       "              '__iadd__': <slot wrapper '__iadd__' of 'list' objects>,\n",
       "              '__imul__': <slot wrapper '__imul__' of 'list' objects>,\n",
       "              '__new__': <function list.__new__(*args, **kwargs)>,\n",
       "              '__reversed__': <method '__reversed__' of 'list' objects>,\n",
       "              '__sizeof__': <method '__sizeof__' of 'list' objects>,\n",
       "              'clear': <method 'clear' of 'list' objects>,\n",
       "              'copy': <method 'copy' of 'list' objects>,\n",
       "              'append': <method 'append' of 'list' objects>,\n",
       "              'insert': <method 'insert' of 'list' objects>,\n",
       "              'extend': <method 'extend' of 'list' objects>,\n",
       "              'pop': <method 'pop' of 'list' objects>,\n",
       "              'remove': <method 'remove' of 'list' objects>,\n",
       "              'index': <method 'index' of 'list' objects>,\n",
       "              'count': <method 'count' of 'list' objects>,\n",
       "              'reverse': <method 'reverse' of 'list' objects>,\n",
       "              'sort': <method 'sort' of 'list' objects>,\n",
       "              '__doc__': 'Built-in mutable sequence.\\n\\nIf no argument is given, the constructor creates a new empty list.\\nThe argument must be an iterable if specified.'})"
      ]
     },
     "execution_count": 18,
     "metadata": {},
     "output_type": "execute_result"
    }
   ],
   "source": [
    "vars(list)"
   ]
  },
  {
   "cell_type": "code",
   "execution_count": 20,
   "metadata": {},
   "outputs": [
    {
     "data": {
      "text/plain": [
       "55.5"
      ]
     },
     "execution_count": 20,
     "metadata": {},
     "output_type": "execute_result"
    }
   ],
   "source": [
    "import math\n",
    "math.fabs(-55.5)"
   ]
  },
  {
   "cell_type": "code",
   "execution_count": 22,
   "metadata": {},
   "outputs": [
    {
     "data": {
      "text/plain": [
       "57"
      ]
     },
     "execution_count": 22,
     "metadata": {},
     "output_type": "execute_result"
    }
   ],
   "source": [
    "math.floor(57.3)"
   ]
  },
  {
   "cell_type": "code",
   "execution_count": 23,
   "metadata": {},
   "outputs": [
    {
     "data": {
      "text/plain": [
       "58"
      ]
     },
     "execution_count": 23,
     "metadata": {},
     "output_type": "execute_result"
    }
   ],
   "source": [
    "math.ceil(57.3)"
   ]
  },
  {
   "cell_type": "code",
   "execution_count": 24,
   "metadata": {},
   "outputs": [
    {
     "data": {
      "text/plain": [
       "-3.0"
      ]
     },
     "execution_count": 24,
     "metadata": {},
     "output_type": "execute_result"
    }
   ],
   "source": [
    "math.copysign(3,-5)"
   ]
  },
  {
   "cell_type": "code",
   "execution_count": 0,
   "metadata": {},
   "outputs": [],
   "source": []
  }
 ],
 "metadata": {
  "kernelspec": {
   "display_name": "Python 3",
   "language": "python",
   "name": "python3"
  },
  "language_info": {
   "codemirror_mode": {
    "name": "ipython",
    "version": 3
   },
   "file_extension": ".py",
   "mimetype": "text/x-python",
   "name": "python",
   "nbconvert_exporter": "python",
   "pygments_lexer": "ipython3",
   "version": "3.8.3"
  }
 },
 "nbformat": 4,
 "nbformat_minor": 4
}
